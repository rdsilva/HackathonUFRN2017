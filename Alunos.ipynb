{
 "cells": [
  {
   "cell_type": "markdown",
   "metadata": {},
   "source": [
    "# Objetivo\n",
    "\n",
    "O objetivo deste notebook é avaliar os dados disponíveis no [Portal de Dados Abertos da UFRN](http://dados.ufrn.br/) no grupo `Discentes`.\n",
    "\n",
    "Assim sendo, a avaliação é apenas quanti-qualitativa para descobrirmos o que podemos extrair a favor do nosso projeto."
   ]
  },
  {
   "cell_type": "markdown",
   "metadata": {},
   "source": [
    "## 1. Bibliotecas"
   ]
  },
  {
   "cell_type": "code",
   "execution_count": 34,
   "metadata": {},
   "outputs": [
    {
     "name": "stderr",
     "output_type": "stream",
     "text": [
      "Updating HTML index of packages in '.Library'\n",
      "Making 'packages.html' ... done\n"
     ]
    }
   ],
   "source": [
    "# install.packages(\"ggplot2\")\n",
    "# install.packages(\"gridExtra\")"
   ]
  },
  {
   "cell_type": "code",
   "execution_count": 1,
   "metadata": {},
   "outputs": [
    {
     "name": "stderr",
     "output_type": "stream",
     "text": [
      "\n",
      "Attaching package: ‘dplyr’\n",
      "\n",
      "The following objects are masked from ‘package:stats’:\n",
      "\n",
      "    filter, lag\n",
      "\n",
      "The following objects are masked from ‘package:base’:\n",
      "\n",
      "    intersect, setdiff, setequal, union\n",
      "\n",
      "\n",
      "Attaching package: ‘gridExtra’\n",
      "\n",
      "The following object is masked from ‘package:dplyr’:\n",
      "\n",
      "    combine\n",
      "\n"
     ]
    }
   ],
   "source": [
    "library(\"dplyr\")\n",
    "library(ggplot2)\n",
    "library(gridExtra)"
   ]
  },
  {
   "cell_type": "markdown",
   "metadata": {},
   "source": [
    "## 2. Variáveis"
   ]
  },
  {
   "cell_type": "code",
   "execution_count": 2,
   "metadata": {
    "collapsed": true
   },
   "outputs": [],
   "source": [
    "path_data <- \"/Users/rsilva/Documents/UFRN/Hackathon/UFRN\\ Dados/discentes\"\n",
    "path_save <- \"/Users/rsilva/Documents/UFRN/Hackathon/Resultados\""
   ]
  },
  {
   "cell_type": "markdown",
   "metadata": {},
   "source": [
    "## 3. Avaliando os Dados"
   ]
  },
  {
   "cell_type": "code",
   "execution_count": 3,
   "metadata": {
    "collapsed": true
   },
   "outputs": [],
   "source": [
    "setwd(path_data)\n",
    "\n",
    "pattern <- \"discentes\"\n",
    "\n",
    "# listando os arquivos contidos no diretorio\n",
    "listoffiles <- list.files(path_data, pattern = pattern)\n",
    "\n",
    "# abrindo os arquivos da lista\n",
    "myfiles = lapply(listoffiles, read.csv2)"
   ]
  },
  {
   "cell_type": "code",
   "execution_count": 4,
   "metadata": {
    "collapsed": true
   },
   "outputs": [],
   "source": [
    "discentes <- do.call(rbind, myfiles)"
   ]
  },
  {
   "cell_type": "code",
   "execution_count": 5,
   "metadata": {
    "scrolled": true
   },
   "outputs": [
    {
     "name": "stdout",
     "output_type": "stream",
     "text": [
      "'data.frame':\t157192 obs. of  16 variables:\n",
      " $ matricula           : num  2.01e+09 2.01e+09 2.01e+09 2.01e+09 2.01e+09 ...\n",
      " $ nome_discente       : Factor w/ 107089 levels \"Abdias Beserra Pereira Júnior\",..: 1 2 3 4 5 6 7 8 9 10 ...\n",
      " $ ano_ingresso        : int  2009 2009 2009 2009 2009 2009 2009 2009 2009 2009 ...\n",
      " $ periodo_ingresso    : int  1 2 2 2 2 1 1 2 2 2 ...\n",
      " $ forma_ingresso      : Factor w/ 46 levels \"ACORDO COM A UNIVERSIDADE DE COIMBRA\",..: 27 22 27 27 4 4 27 27 4 27 ...\n",
      " $ tipo_discente       : Factor w/ 2 levels \"ESPECIAL\",\"REGULAR\": 2 2 2 2 1 1 2 2 1 2 ...\n",
      " $ status              : Factor w/ 9 levels \"ATIVO\",\"ATIVO - FORMANDO\",..: 4 5 4 5 4 4 5 4 4 5 ...\n",
      " $ sigla_nivel_ensino  : Factor w/ 12 levels \"D\",\"E\",\"G\",\"L\",..: 3 1 3 3 2 1 3 3 2 3 ...\n",
      " $ nivel_ensino        : Factor w/ 12 levels \"DOUTORADO\",\"FUNDAMENTAL\",..: 3 1 3 3 6 1 3 3 6 3 ...\n",
      " $ id_curso            : int  111635057 9300591 2000121 10426760 NA NA 9295710 10320810 NA 2000068 ...\n",
      " $ nome_curso          : Factor w/ 616 levels \"\",\"ADMINISTRAÇÃO\",..: 80 36 49 77 1 1 11 13 1 141 ...\n",
      " $ modalidade_educacao : Factor w/ 4 levels \"\",\"A DISTÂNCIA\",..: 3 3 3 3 1 1 2 3 1 3 ...\n",
      " $ id_unidade          : int  442 4847 440 442 NA NA 440 4885 NA 443 ...\n",
      " $ nome_unidade        : Factor w/ 187 levels \"\",\"CENTRO DE  ENSINO SUPERIOR DO SERIDÓ\",..: 6 35 3 6 1 1 3 16 1 7 ...\n",
      " $ id_unidade_gestora  : int  442 441 440 442 NA NA 440 605 NA 443 ...\n",
      " $ nome_unidade_gestora: Factor w/ 14 levels \"\",\"CENTRO DE  ENSINO SUPERIOR DO SERIDÓ\",..: 6 4 3 6 1 1 3 11 1 7 ...\n"
     ]
    },
    {
     "data": {
      "text/html": [
       "<table>\n",
       "<thead><tr><th scope=col>matricula</th><th scope=col>nome_discente</th><th scope=col>ano_ingresso</th><th scope=col>periodo_ingresso</th><th scope=col>forma_ingresso</th><th scope=col>tipo_discente</th><th scope=col>status</th><th scope=col>sigla_nivel_ensino</th><th scope=col>nivel_ensino</th><th scope=col>id_curso</th><th scope=col>nome_curso</th><th scope=col>modalidade_educacao</th><th scope=col>id_unidade</th><th scope=col>nome_unidade</th><th scope=col>id_unidade_gestora</th><th scope=col>nome_unidade_gestora</th></tr></thead>\n",
       "<tbody>\n",
       "\t<tr><td>2009021967                                                                         </td><td>Abdias Beserra Pereira Júnior                                                      </td><td>2009                                                                               </td><td>1                                                                                  </td><td>VESTIBULAR                                                                         </td><td>REGULAR                                                                            </td><td>CANCELADO                                                                          </td><td>G                                                                                  </td><td>GRADUAÇÃO                                                                          </td><td>111635057                                                                          </td><td>HISTÓRIA                                                                           </td><td>PRESENCIAL                                                                         </td><td> 442                                                                               </td><td>CENTRO DE CIÊNCIAS HUMANAS, LETRAS E ARTES                                         </td><td>442                                                                                </td><td>CENTRO DE CIÊNCIAS HUMANAS, LETRAS E ARTES                                         </td></tr>\n",
       "\t<tr><td>2009115809                                                                         </td><td>ABDO FARRET NETO                                                                   </td><td>2009                                                                               </td><td>2                                                                                  </td><td>SELEÇÃO DE PÓS-GRADUAÇÃO                                                           </td><td>REGULAR                                                                            </td><td>CONCLUÍDO                                                                          </td><td>D                                                                                  </td><td>DOUTORADO                                                                          </td><td>  9300591                                                                          </td><td>DOUTORADO EM DESENVOLVIMENTO E INOVAÇÃO TECNOLÓGICA EM MEDICAMENTOS                </td><td>PRESENCIAL                                                                         </td><td>4847                                                                               </td><td>PROGRAMA DE PÓS-GRADUAÇÃO EM DESENVOLVIMENTO E INOVAÇÃO TECNOLÓGICA EM MEDICAMENTOS</td><td>441                                                                                </td><td>CENTRO DE CIÊNCIAS DA SAÚDE                                                        </td></tr>\n",
       "\t<tr><td>2009048490                                                                         </td><td>ABELARDO LOPES DE ALBUQUERQUE MACHADO NETO                                         </td><td>2009                                                                               </td><td>2                                                                                  </td><td>VESTIBULAR                                                                         </td><td>REGULAR                                                                            </td><td>CANCELADO                                                                          </td><td>G                                                                                  </td><td>GRADUAÇÃO                                                                          </td><td>  2000121                                                                          </td><td>ECOLOGIA                                                                           </td><td>PRESENCIAL                                                                         </td><td> 440                                                                               </td><td>CENTRO DE BIOCIÊNCIAS                                                              </td><td>440                                                                                </td><td>CENTRO DE BIOCIÊNCIAS                                                              </td></tr>\n",
       "\t<tr><td>2009020804                                                                         </td><td>ABELARDO MONTEIRO BEZERRA DE MELO NETO                                             </td><td>2009                                                                               </td><td>2                                                                                  </td><td>VESTIBULAR                                                                         </td><td>REGULAR                                                                            </td><td>CONCLUÍDO                                                                          </td><td>G                                                                                  </td><td>GRADUAÇÃO                                                                          </td><td> 10426760                                                                          </td><td>GESTÃO DE POLÍTICAS PÚBLICAS                                                       </td><td>PRESENCIAL                                                                         </td><td> 442                                                                               </td><td>CENTRO DE CIÊNCIAS HUMANAS, LETRAS E ARTES                                         </td><td>442                                                                                </td><td>CENTRO DE CIÊNCIAS HUMANAS, LETRAS E ARTES                                         </td></tr>\n",
       "\t<tr><td>2009119915                                                                         </td><td>ABIGAIL CALDAS BATISTA GONDIM                                                      </td><td>2009                                                                               </td><td>2                                                                                  </td><td>ALUNO ESPECIAL POS-GRADUACAO                                                       </td><td>ESPECIAL                                                                           </td><td>CANCELADO                                                                          </td><td>E                                                                                  </td><td>MESTRADO                                                                           </td><td>       NA                                                                          </td><td>                                                                                   </td><td>                                                                                   </td><td>  NA                                                                               </td><td>                                                                                   </td><td> NA                                                                                </td><td>                                                                                   </td></tr>\n",
       "\t<tr><td>2009110811                                                                         </td><td>ABIGAIL NOÁDIA BARBALHO DA SILVA                                                   </td><td>2009                                                                               </td><td>1                                                                                  </td><td>ALUNO ESPECIAL POS-GRADUACAO                                                       </td><td>ESPECIAL                                                                           </td><td>CANCELADO                                                                          </td><td>D                                                                                  </td><td>DOUTORADO                                                                          </td><td>       NA                                                                          </td><td>                                                                                   </td><td>                                                                                   </td><td>  NA                                                                               </td><td>                                                                                   </td><td> NA                                                                                </td><td>                                                                                   </td></tr>\n",
       "</tbody>\n",
       "</table>\n"
      ],
      "text/latex": [
       "\\begin{tabular}{r|llllllllllllllll}\n",
       " matricula & nome\\_discente & ano\\_ingresso & periodo\\_ingresso & forma\\_ingresso & tipo\\_discente & status & sigla\\_nivel\\_ensino & nivel\\_ensino & id\\_curso & nome\\_curso & modalidade\\_educacao & id\\_unidade & nome\\_unidade & id\\_unidade\\_gestora & nome\\_unidade\\_gestora\\\\\n",
       "\\hline\n",
       "\t 2009021967                                                                          & Abdias Beserra Pereira Júnior                                                       & 2009                                                                                & 1                                                                                   & VESTIBULAR                                                                          & REGULAR                                                                             & CANCELADO                                                                           & G                                                                                   & GRADUAÇÃO                                                                           & 111635057                                                                           & HISTÓRIA                                                                            & PRESENCIAL                                                                          &  442                                                                                & CENTRO DE CIÊNCIAS HUMANAS, LETRAS E ARTES                                          & 442                                                                                 & CENTRO DE CIÊNCIAS HUMANAS, LETRAS E ARTES                                         \\\\\n",
       "\t 2009115809                                                                          & ABDO FARRET NETO                                                                    & 2009                                                                                & 2                                                                                   & SELEÇÃO DE PÓS-GRADUAÇÃO                                                            & REGULAR                                                                             & CONCLUÍDO                                                                           & D                                                                                   & DOUTORADO                                                                           &   9300591                                                                           & DOUTORADO EM DESENVOLVIMENTO E INOVAÇÃO TECNOLÓGICA EM MEDICAMENTOS                 & PRESENCIAL                                                                          & 4847                                                                                & PROGRAMA DE PÓS-GRADUAÇÃO EM DESENVOLVIMENTO E INOVAÇÃO TECNOLÓGICA EM MEDICAMENTOS & 441                                                                                 & CENTRO DE CIÊNCIAS DA SAÚDE                                                        \\\\\n",
       "\t 2009048490                                                                          & ABELARDO LOPES DE ALBUQUERQUE MACHADO NETO                                          & 2009                                                                                & 2                                                                                   & VESTIBULAR                                                                          & REGULAR                                                                             & CANCELADO                                                                           & G                                                                                   & GRADUAÇÃO                                                                           &   2000121                                                                           & ECOLOGIA                                                                            & PRESENCIAL                                                                          &  440                                                                                & CENTRO DE BIOCIÊNCIAS                                                               & 440                                                                                 & CENTRO DE BIOCIÊNCIAS                                                              \\\\\n",
       "\t 2009020804                                                                          & ABELARDO MONTEIRO BEZERRA DE MELO NETO                                              & 2009                                                                                & 2                                                                                   & VESTIBULAR                                                                          & REGULAR                                                                             & CONCLUÍDO                                                                           & G                                                                                   & GRADUAÇÃO                                                                           &  10426760                                                                           & GESTÃO DE POLÍTICAS PÚBLICAS                                                        & PRESENCIAL                                                                          &  442                                                                                & CENTRO DE CIÊNCIAS HUMANAS, LETRAS E ARTES                                          & 442                                                                                 & CENTRO DE CIÊNCIAS HUMANAS, LETRAS E ARTES                                         \\\\\n",
       "\t 2009119915                                                                          & ABIGAIL CALDAS BATISTA GONDIM                                                       & 2009                                                                                & 2                                                                                   & ALUNO ESPECIAL POS-GRADUACAO                                                        & ESPECIAL                                                                            & CANCELADO                                                                           & E                                                                                   & MESTRADO                                                                            &        NA                                                                           &                                                                                     &                                                                                     &   NA                                                                                &                                                                                     &  NA                                                                                 &                                                                                    \\\\\n",
       "\t 2009110811                                                                          & ABIGAIL NOÁDIA BARBALHO DA SILVA                                                    & 2009                                                                                & 1                                                                                   & ALUNO ESPECIAL POS-GRADUACAO                                                        & ESPECIAL                                                                            & CANCELADO                                                                           & D                                                                                   & DOUTORADO                                                                           &        NA                                                                           &                                                                                     &                                                                                     &   NA                                                                                &                                                                                     &  NA                                                                                 &                                                                                    \\\\\n",
       "\\end{tabular}\n"
      ],
      "text/markdown": [
       "\n",
       "matricula | nome_discente | ano_ingresso | periodo_ingresso | forma_ingresso | tipo_discente | status | sigla_nivel_ensino | nivel_ensino | id_curso | nome_curso | modalidade_educacao | id_unidade | nome_unidade | id_unidade_gestora | nome_unidade_gestora | \n",
       "|---|---|---|---|---|---|\n",
       "| 2009021967                                                                          | Abdias Beserra Pereira Júnior                                                       | 2009                                                                                | 1                                                                                   | VESTIBULAR                                                                          | REGULAR                                                                             | CANCELADO                                                                           | G                                                                                   | GRADUAÇÃO                                                                           | 111635057                                                                           | HISTÓRIA                                                                            | PRESENCIAL                                                                          |  442                                                                                | CENTRO DE CIÊNCIAS HUMANAS, LETRAS E ARTES                                          | 442                                                                                 | CENTRO DE CIÊNCIAS HUMANAS, LETRAS E ARTES                                          | \n",
       "| 2009115809                                                                          | ABDO FARRET NETO                                                                    | 2009                                                                                | 2                                                                                   | SELEÇÃO DE PÓS-GRADUAÇÃO                                                            | REGULAR                                                                             | CONCLUÍDO                                                                           | D                                                                                   | DOUTORADO                                                                           |   9300591                                                                           | DOUTORADO EM DESENVOLVIMENTO E INOVAÇÃO TECNOLÓGICA EM MEDICAMENTOS                 | PRESENCIAL                                                                          | 4847                                                                                | PROGRAMA DE PÓS-GRADUAÇÃO EM DESENVOLVIMENTO E INOVAÇÃO TECNOLÓGICA EM MEDICAMENTOS | 441                                                                                 | CENTRO DE CIÊNCIAS DA SAÚDE                                                         | \n",
       "| 2009048490                                                                          | ABELARDO LOPES DE ALBUQUERQUE MACHADO NETO                                          | 2009                                                                                | 2                                                                                   | VESTIBULAR                                                                          | REGULAR                                                                             | CANCELADO                                                                           | G                                                                                   | GRADUAÇÃO                                                                           |   2000121                                                                           | ECOLOGIA                                                                            | PRESENCIAL                                                                          |  440                                                                                | CENTRO DE BIOCIÊNCIAS                                                               | 440                                                                                 | CENTRO DE BIOCIÊNCIAS                                                               | \n",
       "| 2009020804                                                                          | ABELARDO MONTEIRO BEZERRA DE MELO NETO                                              | 2009                                                                                | 2                                                                                   | VESTIBULAR                                                                          | REGULAR                                                                             | CONCLUÍDO                                                                           | G                                                                                   | GRADUAÇÃO                                                                           |  10426760                                                                           | GESTÃO DE POLÍTICAS PÚBLICAS                                                        | PRESENCIAL                                                                          |  442                                                                                | CENTRO DE CIÊNCIAS HUMANAS, LETRAS E ARTES                                          | 442                                                                                 | CENTRO DE CIÊNCIAS HUMANAS, LETRAS E ARTES                                          | \n",
       "| 2009119915                                                                          | ABIGAIL CALDAS BATISTA GONDIM                                                       | 2009                                                                                | 2                                                                                   | ALUNO ESPECIAL POS-GRADUACAO                                                        | ESPECIAL                                                                            | CANCELADO                                                                           | E                                                                                   | MESTRADO                                                                            |        NA                                                                           |                                                                                     |                                                                                     |   NA                                                                                |                                                                                     |  NA                                                                                 |                                                                                     | \n",
       "| 2009110811                                                                          | ABIGAIL NOÁDIA BARBALHO DA SILVA                                                    | 2009                                                                                | 1                                                                                   | ALUNO ESPECIAL POS-GRADUACAO                                                        | ESPECIAL                                                                            | CANCELADO                                                                           | D                                                                                   | DOUTORADO                                                                           |        NA                                                                           |                                                                                     |                                                                                     |   NA                                                                                |                                                                                     |  NA                                                                                 |                                                                                     | \n",
       "\n",
       "\n"
      ],
      "text/plain": [
       "  matricula  nome_discente                              ano_ingresso\n",
       "1 2009021967 Abdias Beserra Pereira Júnior              2009        \n",
       "2 2009115809 ABDO FARRET NETO                           2009        \n",
       "3 2009048490 ABELARDO LOPES DE ALBUQUERQUE MACHADO NETO 2009        \n",
       "4 2009020804 ABELARDO MONTEIRO BEZERRA DE MELO NETO     2009        \n",
       "5 2009119915 ABIGAIL CALDAS BATISTA GONDIM              2009        \n",
       "6 2009110811 ABIGAIL NOÁDIA BARBALHO DA SILVA           2009        \n",
       "  periodo_ingresso forma_ingresso               tipo_discente status   \n",
       "1 1                VESTIBULAR                   REGULAR       CANCELADO\n",
       "2 2                SELEÇÃO DE PÓS-GRADUAÇÃO     REGULAR       CONCLUÍDO\n",
       "3 2                VESTIBULAR                   REGULAR       CANCELADO\n",
       "4 2                VESTIBULAR                   REGULAR       CONCLUÍDO\n",
       "5 2                ALUNO ESPECIAL POS-GRADUACAO ESPECIAL      CANCELADO\n",
       "6 1                ALUNO ESPECIAL POS-GRADUACAO ESPECIAL      CANCELADO\n",
       "  sigla_nivel_ensino nivel_ensino id_curso \n",
       "1 G                  GRADUAÇÃO    111635057\n",
       "2 D                  DOUTORADO      9300591\n",
       "3 G                  GRADUAÇÃO      2000121\n",
       "4 G                  GRADUAÇÃO     10426760\n",
       "5 E                  MESTRADO            NA\n",
       "6 D                  DOUTORADO           NA\n",
       "  nome_curso                                                         \n",
       "1 HISTÓRIA                                                           \n",
       "2 DOUTORADO EM DESENVOLVIMENTO E INOVAÇÃO TECNOLÓGICA EM MEDICAMENTOS\n",
       "3 ECOLOGIA                                                           \n",
       "4 GESTÃO DE POLÍTICAS PÚBLICAS                                       \n",
       "5                                                                    \n",
       "6                                                                    \n",
       "  modalidade_educacao id_unidade\n",
       "1 PRESENCIAL           442      \n",
       "2 PRESENCIAL          4847      \n",
       "3 PRESENCIAL           440      \n",
       "4 PRESENCIAL           442      \n",
       "5                       NA      \n",
       "6                       NA      \n",
       "  nome_unidade                                                                       \n",
       "1 CENTRO DE CIÊNCIAS HUMANAS, LETRAS E ARTES                                         \n",
       "2 PROGRAMA DE PÓS-GRADUAÇÃO EM DESENVOLVIMENTO E INOVAÇÃO TECNOLÓGICA EM MEDICAMENTOS\n",
       "3 CENTRO DE BIOCIÊNCIAS                                                              \n",
       "4 CENTRO DE CIÊNCIAS HUMANAS, LETRAS E ARTES                                         \n",
       "5                                                                                    \n",
       "6                                                                                    \n",
       "  id_unidade_gestora nome_unidade_gestora                      \n",
       "1 442                CENTRO DE CIÊNCIAS HUMANAS, LETRAS E ARTES\n",
       "2 441                CENTRO DE CIÊNCIAS DA SAÚDE               \n",
       "3 440                CENTRO DE BIOCIÊNCIAS                     \n",
       "4 442                CENTRO DE CIÊNCIAS HUMANAS, LETRAS E ARTES\n",
       "5  NA                                                          \n",
       "6  NA                                                          "
      ]
     },
     "metadata": {},
     "output_type": "display_data"
    }
   ],
   "source": [
    "str(discentes)\n",
    "\n",
    "head(discentes)"
   ]
  },
  {
   "cell_type": "markdown",
   "metadata": {},
   "source": [
    "### 3.1 Ingressantes por Periodo"
   ]
  },
  {
   "cell_type": "code",
   "execution_count": 14,
   "metadata": {
    "collapsed": true
   },
   "outputs": [],
   "source": [
    "ingressantes <- as.data.frame(table(discentes$ano_ingresso,discentes$periodo_ingresso))\n",
    "# ingressantes <- table(discentes$ano_ingresso,discentes$periodo_ingresso)"
   ]
  },
  {
   "cell_type": "code",
   "execution_count": 15,
   "metadata": {},
   "outputs": [
    {
     "data": {
      "text/html": [
       "<table>\n",
       "<thead><tr><th scope=col>ano</th><th scope=col>semestre</th><th scope=col>valores</th></tr></thead>\n",
       "<tbody>\n",
       "\t<tr><td>2009</td><td>0   </td><td>  7 </td></tr>\n",
       "\t<tr><td>2010</td><td>0   </td><td> 90 </td></tr>\n",
       "\t<tr><td>2011</td><td>0   </td><td>  0 </td></tr>\n",
       "\t<tr><td>2012</td><td>0   </td><td> 54 </td></tr>\n",
       "\t<tr><td>2013</td><td>0   </td><td>182 </td></tr>\n",
       "\t<tr><td>2014</td><td>0   </td><td>165 </td></tr>\n",
       "</tbody>\n",
       "</table>\n"
      ],
      "text/latex": [
       "\\begin{tabular}{r|lll}\n",
       " ano & semestre & valores\\\\\n",
       "\\hline\n",
       "\t 2009 & 0    &   7 \\\\\n",
       "\t 2010 & 0    &  90 \\\\\n",
       "\t 2011 & 0    &   0 \\\\\n",
       "\t 2012 & 0    &  54 \\\\\n",
       "\t 2013 & 0    & 182 \\\\\n",
       "\t 2014 & 0    & 165 \\\\\n",
       "\\end{tabular}\n"
      ],
      "text/markdown": [
       "\n",
       "ano | semestre | valores | \n",
       "|---|---|---|---|---|---|\n",
       "| 2009 | 0    |   7  | \n",
       "| 2010 | 0    |  90  | \n",
       "| 2011 | 0    |   0  | \n",
       "| 2012 | 0    |  54  | \n",
       "| 2013 | 0    | 182  | \n",
       "| 2014 | 0    | 165  | \n",
       "\n",
       "\n"
      ],
      "text/plain": [
       "  ano  semestre valores\n",
       "1 2009 0          7    \n",
       "2 2010 0         90    \n",
       "3 2011 0          0    \n",
       "4 2012 0         54    \n",
       "5 2013 0        182    \n",
       "6 2014 0        165    "
      ]
     },
     "metadata": {},
     "output_type": "display_data"
    }
   ],
   "source": [
    "names(ingressantes)[1] <- \"ano\"\n",
    "names(ingressantes)[2] <- \"semestre\"\n",
    "names(ingressantes)[3] <- \"valores\"\n",
    "\n",
    "# ingressantes$Ano <- as.numeric(as.character(ingressantes$Ano))\n",
    "# ingressantes$Freq <- as.numeric(ingressantes$Freq)\n",
    "\n",
    "head(ingressantes)"
   ]
  },
  {
   "cell_type": "code",
   "execution_count": 16,
   "metadata": {},
   "outputs": [
    {
     "name": "stdout",
     "output_type": "stream",
     "text": [
      "'data.frame':\t36 obs. of  3 variables:\n",
      " $ ano     : Factor w/ 9 levels \"2009\",\"2010\",..: 1 2 3 4 5 6 7 8 9 1 ...\n",
      " $ semestre: Factor w/ 4 levels \"0\",\"1\",\"2\",\"3\": 1 1 1 1 1 1 1 1 1 2 ...\n",
      " $ valores : int  7 90 0 54 182 165 209 142 185 6709 ...\n"
     ]
    }
   ],
   "source": [
    "str(ingressantes)"
   ]
  },
  {
   "cell_type": "code",
   "execution_count": 20,
   "metadata": {},
   "outputs": [
    {
     "data": {
      "image/png": "[encoded data removed]",
      "text/plain": [
       "plot without title"
      ]
     },
     "metadata": {},
     "output_type": "display_data"
    }
   ],
   "source": [
    "myplot <- ggplot(ingressantes,aes(ano,valores,fill=semestre))+\n",
    "   geom_bar(position=\"dodge\",stat=\"identity\")#+\n",
    "#    facet_wrap(~ano,nrow=3)\n",
    "\n",
    "print(myplot)"
   ]
  },
  {
   "cell_type": "markdown",
   "metadata": {},
   "source": [
    "### 3.2 Ingressantes por Nível de Ensino"
   ]
  },
  {
   "cell_type": "code",
   "execution_count": 21,
   "metadata": {
    "collapsed": true
   },
   "outputs": [],
   "source": [
    "ensino <- as.data.frame(table(discentes$ano_ingresso, discentes$nivel_ensino))"
   ]
  },
  {
   "cell_type": "code",
   "execution_count": 22,
   "metadata": {},
   "outputs": [
    {
     "name": "stdout",
     "output_type": "stream",
     "text": [
      "'data.frame':\t108 obs. of  3 variables:\n",
      " $ ano    : Factor w/ 9 levels \"2009\",\"2010\",..: 1 2 3 4 5 6 7 8 9 1 ...\n",
      " $ nivel  : Factor w/ 12 levels \"DOUTORADO\",\"FUNDAMENTAL\",..: 1 1 1 1 1 1 1 1 1 2 ...\n",
      " $ valores: int  456 629 616 618 722 681 727 826 689 30 ...\n"
     ]
    },
    {
     "data": {
      "text/html": [
       "<table>\n",
       "<thead><tr><th scope=col>ano</th><th scope=col>nivel</th><th scope=col>valores</th></tr></thead>\n",
       "<tbody>\n",
       "\t<tr><td>2009     </td><td>DOUTORADO</td><td>456      </td></tr>\n",
       "\t<tr><td>2010     </td><td>DOUTORADO</td><td>629      </td></tr>\n",
       "\t<tr><td>2011     </td><td>DOUTORADO</td><td>616      </td></tr>\n",
       "\t<tr><td>2012     </td><td>DOUTORADO</td><td>618      </td></tr>\n",
       "\t<tr><td>2013     </td><td>DOUTORADO</td><td>722      </td></tr>\n",
       "\t<tr><td>2014     </td><td>DOUTORADO</td><td>681      </td></tr>\n",
       "</tbody>\n",
       "</table>\n"
      ],
      "text/latex": [
       "\\begin{tabular}{r|lll}\n",
       " ano & nivel & valores\\\\\n",
       "\\hline\n",
       "\t 2009      & DOUTORADO & 456      \\\\\n",
       "\t 2010      & DOUTORADO & 629      \\\\\n",
       "\t 2011      & DOUTORADO & 616      \\\\\n",
       "\t 2012      & DOUTORADO & 618      \\\\\n",
       "\t 2013      & DOUTORADO & 722      \\\\\n",
       "\t 2014      & DOUTORADO & 681      \\\\\n",
       "\\end{tabular}\n"
      ],
      "text/markdown": [
       "\n",
       "ano | nivel | valores | \n",
       "|---|---|---|---|---|---|\n",
       "| 2009      | DOUTORADO | 456       | \n",
       "| 2010      | DOUTORADO | 629       | \n",
       "| 2011      | DOUTORADO | 616       | \n",
       "| 2012      | DOUTORADO | 618       | \n",
       "| 2013      | DOUTORADO | 722       | \n",
       "| 2014      | DOUTORADO | 681       | \n",
       "\n",
       "\n"
      ],
      "text/plain": [
       "  ano  nivel     valores\n",
       "1 2009 DOUTORADO 456    \n",
       "2 2010 DOUTORADO 629    \n",
       "3 2011 DOUTORADO 616    \n",
       "4 2012 DOUTORADO 618    \n",
       "5 2013 DOUTORADO 722    \n",
       "6 2014 DOUTORADO 681    "
      ]
     },
     "metadata": {},
     "output_type": "display_data"
    }
   ],
   "source": [
    "names(ensino)[1] <- \"ano\"\n",
    "names(ensino)[2] <- \"nivel\"\n",
    "names(ensino)[3] <- \"valores\"\n",
    "\n",
    "str(ensino)\n",
    "head(ensino)"
   ]
  },
  {
   "cell_type": "code",
   "execution_count": 23,
   "metadata": {},
   "outputs": [
    {
     "data": {
      "image/png": "[encoded data removed]",
      "text/plain": [
       "plot without title"
      ]
     },
     "metadata": {},
     "output_type": "display_data"
    }
   ],
   "source": [
    "myplot <- ggplot(ensino,aes(ano,valores,fill=nivel))+\n",
    "   geom_bar(position=\"dodge\",stat=\"identity\")#+\n",
    "#    facet_wrap(~ano,nrow=3)\n",
    "\n",
    "print(myplot)"
   ]
  },
  {
   "cell_type": "markdown",
   "metadata": {},
   "source": [
    "### 3.3 Ingressantes por Centro de Ensino e Modalidade"
   ]
  },
  {
   "cell_type": "code",
   "execution_count": 26,
   "metadata": {
    "collapsed": true
   },
   "outputs": [],
   "source": [
    "centro <- as.data.frame(table(discentes$ano_ingresso, discentes$modalidade_educacao, discentes$nome_unidade_gestora))"
   ]
  },
  {
   "cell_type": "code",
   "execution_count": 27,
   "metadata": {},
   "outputs": [
    {
     "name": "stdout",
     "output_type": "stream",
     "text": [
      "'data.frame':\t504 obs. of  4 variables:\n",
      " $ ano       : Factor w/ 9 levels \"2009\",\"2010\",..: 1 2 3 4 5 6 7 8 9 1 ...\n",
      " $ modalidade: Factor w/ 4 levels \"\",\"A DISTÂNCIA\",..: 1 1 1 1 1 1 1 1 1 2 ...\n",
      " $ centro    : Factor w/ 14 levels \"\",\"CENTRO DE  ENSINO SUPERIOR DO SERIDÓ\",..: 1 1 1 1 1 1 1 1 1 1 ...\n",
      " $ valores   : int  1382 1388 1255 1399 1263 1296 1348 1705 1404 0 ...\n"
     ]
    },
    {
     "data": {
      "text/html": [
       "<table>\n",
       "<thead><tr><th scope=col>ano</th><th scope=col>modalidade</th><th scope=col>centro</th><th scope=col>valores</th></tr></thead>\n",
       "<tbody>\n",
       "\t<tr><td>2009</td><td>    </td><td>    </td><td>1382</td></tr>\n",
       "\t<tr><td>2010</td><td>    </td><td>    </td><td>1388</td></tr>\n",
       "\t<tr><td>2011</td><td>    </td><td>    </td><td>1255</td></tr>\n",
       "\t<tr><td>2012</td><td>    </td><td>    </td><td>1399</td></tr>\n",
       "\t<tr><td>2013</td><td>    </td><td>    </td><td>1263</td></tr>\n",
       "\t<tr><td>2014</td><td>    </td><td>    </td><td>1296</td></tr>\n",
       "</tbody>\n",
       "</table>\n"
      ],
      "text/latex": [
       "\\begin{tabular}{r|llll}\n",
       " ano & modalidade & centro & valores\\\\\n",
       "\\hline\n",
       "\t 2009 &      &      & 1382\\\\\n",
       "\t 2010 &      &      & 1388\\\\\n",
       "\t 2011 &      &      & 1255\\\\\n",
       "\t 2012 &      &      & 1399\\\\\n",
       "\t 2013 &      &      & 1263\\\\\n",
       "\t 2014 &      &      & 1296\\\\\n",
       "\\end{tabular}\n"
      ],
      "text/markdown": [
       "\n",
       "ano | modalidade | centro | valores | \n",
       "|---|---|---|---|---|---|\n",
       "| 2009 |      |      | 1382 | \n",
       "| 2010 |      |      | 1388 | \n",
       "| 2011 |      |      | 1255 | \n",
       "| 2012 |      |      | 1399 | \n",
       "| 2013 |      |      | 1263 | \n",
       "| 2014 |      |      | 1296 | \n",
       "\n",
       "\n"
      ],
      "text/plain": [
       "  ano  modalidade centro valores\n",
       "1 2009                   1382   \n",
       "2 2010                   1388   \n",
       "3 2011                   1255   \n",
       "4 2012                   1399   \n",
       "5 2013                   1263   \n",
       "6 2014                   1296   "
      ]
     },
     "metadata": {},
     "output_type": "display_data"
    }
   ],
   "source": [
    "names(centro)[1] <- \"ano\"\n",
    "names(centro)[2] <- \"modalidade\"\n",
    "names(centro)[3] <- \"centro\"\n",
    "names(centro)[4] <- \"valores\"\n",
    "\n",
    "str(centro)\n",
    "head(centro)"
   ]
  },
  {
   "cell_type": "code",
   "execution_count": 45,
   "metadata": {},
   "outputs": [
    {
     "data": {
      "image/png": "[encoded data removed]",
      "text/plain": [
       "plot without title"
      ]
     },
     "metadata": {},
     "output_type": "display_data"
    }
   ],
   "source": [
    "graf1 <- ggplot(centro,aes(ano,valores,fill=centro))+\n",
    "    geom_bar(position=\"dodge\",stat=\"identity\")+\n",
    "    theme(legend.position=\"bottom\")+\n",
    "    guides(fill=guide_legend(ncol=2,bycol=TRUE))\n",
    "\n",
    "graf2 <- ggplot(centro,aes(ano,valores,fill=modalidade))+\n",
    "   geom_bar(position=\"dodge\",stat=\"identity\")\n",
    "\n",
    "grid.arrange(graf1, graf2, ncol=1)"
   ]
  },
  {
   "cell_type": "markdown",
   "metadata": {},
   "source": [
    "### 3.4 Agrupamento de Ingressos por Alunos\n",
    "\n",
    "Neste caso há uma ambiguidade, o mesmo aluno pode ser homonimo ou de fato um re-ingressante. No caso de re-ingressante pode ser devido a mudança de curso, acesso à pós-graduação ou ingresso em um curso técnico."
   ]
  },
  {
   "cell_type": "markdown",
   "metadata": {},
   "source": [
    "#### Calculando quantas vezes cada aluno ingressou na UFRN"
   ]
  },
  {
   "cell_type": "code",
   "execution_count": 46,
   "metadata": {},
   "outputs": [
    {
     "name": "stdout",
     "output_type": "stream",
     "text": [
      "'data.frame':\t107089 obs. of  2 variables:\n",
      " $ nome : Factor w/ 107089 levels \"Abdias Beserra Pereira Júnior\",..: 1 2 3 4 5 6 7 8 9 10 ...\n",
      " $ total: int  2 1 1 3 1 4 3 1 2 1 ...\n"
     ]
    },
    {
     "data": {
      "text/html": [
       "<table>\n",
       "<thead><tr><th scope=col>nome</th><th scope=col>total</th></tr></thead>\n",
       "<tbody>\n",
       "\t<tr><td>Abdias Beserra Pereira Júnior             </td><td>2                                         </td></tr>\n",
       "\t<tr><td>ABDO FARRET NETO                          </td><td>1                                         </td></tr>\n",
       "\t<tr><td>ABELARDO LOPES DE ALBUQUERQUE MACHADO NETO</td><td>1                                         </td></tr>\n",
       "\t<tr><td>ABELARDO MONTEIRO BEZERRA DE MELO NETO    </td><td>3                                         </td></tr>\n",
       "\t<tr><td>ABIGAIL CALDAS BATISTA GONDIM             </td><td>1                                         </td></tr>\n",
       "\t<tr><td>ABIGAIL NOÁDIA BARBALHO DA SILVA          </td><td>4                                         </td></tr>\n",
       "</tbody>\n",
       "</table>\n"
      ],
      "text/latex": [
       "\\begin{tabular}{r|ll}\n",
       " nome & total\\\\\n",
       "\\hline\n",
       "\t Abdias Beserra Pereira Júnior              & 2                                         \\\\\n",
       "\t ABDO FARRET NETO                           & 1                                         \\\\\n",
       "\t ABELARDO LOPES DE ALBUQUERQUE MACHADO NETO & 1                                         \\\\\n",
       "\t ABELARDO MONTEIRO BEZERRA DE MELO NETO     & 3                                         \\\\\n",
       "\t ABIGAIL CALDAS BATISTA GONDIM              & 1                                         \\\\\n",
       "\t ABIGAIL NOÁDIA BARBALHO DA SILVA           & 4                                         \\\\\n",
       "\\end{tabular}\n"
      ],
      "text/markdown": [
       "\n",
       "nome | total | \n",
       "|---|---|---|---|---|---|\n",
       "| Abdias Beserra Pereira Júnior              | 2                                          | \n",
       "| ABDO FARRET NETO                           | 1                                          | \n",
       "| ABELARDO LOPES DE ALBUQUERQUE MACHADO NETO | 1                                          | \n",
       "| ABELARDO MONTEIRO BEZERRA DE MELO NETO     | 3                                          | \n",
       "| ABIGAIL CALDAS BATISTA GONDIM              | 1                                          | \n",
       "| ABIGAIL NOÁDIA BARBALHO DA SILVA           | 4                                          | \n",
       "\n",
       "\n"
      ],
      "text/plain": [
       "  nome                                       total\n",
       "1 Abdias Beserra Pereira Júnior              2    \n",
       "2 ABDO FARRET NETO                           1    \n",
       "3 ABELARDO LOPES DE ALBUQUERQUE MACHADO NETO 1    \n",
       "4 ABELARDO MONTEIRO BEZERRA DE MELO NETO     3    \n",
       "5 ABIGAIL CALDAS BATISTA GONDIM              1    \n",
       "6 ABIGAIL NOÁDIA BARBALHO DA SILVA           4    "
      ]
     },
     "metadata": {},
     "output_type": "display_data"
    }
   ],
   "source": [
    "alunos <- as.data.frame(table(discentes$nome_discente))\n",
    "\n",
    "names(alunos)[1] <- \"nome\"\n",
    "names(alunos)[2] <- \"total\"\n",
    "\n",
    "str(alunos)\n",
    "head(alunos)"
   ]
  },
  {
   "cell_type": "markdown",
   "metadata": {},
   "source": [
    "#### Calculando quantas vezes cada `frequencia` se repete "
   ]
  },
  {
   "cell_type": "code",
   "execution_count": 47,
   "metadata": {},
   "outputs": [
    {
     "name": "stdout",
     "output_type": "stream",
     "text": [
      "'data.frame':\t14 obs. of  2 variables:\n",
      " $ freq : Factor w/ 14 levels \"1\",\"2\",\"3\",\"4\",..: 1 2 3 4 5 6 7 8 9 10 ...\n",
      " $ total: int  74638 21087 7251 2675 969 307 102 36 16 4 ...\n"
     ]
    },
    {
     "data": {
      "text/html": [
       "<table>\n",
       "<thead><tr><th scope=col>freq</th><th scope=col>total</th></tr></thead>\n",
       "<tbody>\n",
       "\t<tr><td>1    </td><td>74638</td></tr>\n",
       "\t<tr><td>2    </td><td>21087</td></tr>\n",
       "\t<tr><td>3    </td><td> 7251</td></tr>\n",
       "\t<tr><td>4    </td><td> 2675</td></tr>\n",
       "\t<tr><td>5    </td><td>  969</td></tr>\n",
       "\t<tr><td>6    </td><td>  307</td></tr>\n",
       "</tbody>\n",
       "</table>\n"
      ],
      "text/latex": [
       "\\begin{tabular}{r|ll}\n",
       " freq & total\\\\\n",
       "\\hline\n",
       "\t 1     & 74638\\\\\n",
       "\t 2     & 21087\\\\\n",
       "\t 3     &  7251\\\\\n",
       "\t 4     &  2675\\\\\n",
       "\t 5     &   969\\\\\n",
       "\t 6     &   307\\\\\n",
       "\\end{tabular}\n"
      ],
      "text/markdown": [
       "\n",
       "freq | total | \n",
       "|---|---|---|---|---|---|\n",
       "| 1     | 74638 | \n",
       "| 2     | 21087 | \n",
       "| 3     |  7251 | \n",
       "| 4     |  2675 | \n",
       "| 5     |   969 | \n",
       "| 6     |   307 | \n",
       "\n",
       "\n"
      ],
      "text/plain": [
       "  freq total\n",
       "1 1    74638\n",
       "2 2    21087\n",
       "3 3     7251\n",
       "4 4     2675\n",
       "5 5      969\n",
       "6 6      307"
      ]
     },
     "metadata": {},
     "output_type": "display_data"
    }
   ],
   "source": [
    "frequencia <- as.data.frame(table(alunos$total))\n",
    "\n",
    "names(frequencia)[1] <- \"freq\"\n",
    "names(frequencia)[2] <- \"total\"\n",
    "\n",
    "str(frequencia)\n",
    "head(frequencia)"
   ]
  },
  {
   "cell_type": "code",
   "execution_count": 57,
   "metadata": {},
   "outputs": [
    {
     "data": {
      "image/png": "[encoded data removed]",
      "text/plain": [
       "plot without title"
      ]
     },
     "metadata": {},
     "output_type": "display_data"
    }
   ],
   "source": [
    "myplot <- ggplot(frequencia, aes(freq, total)) +\n",
    "    geom_bar(stat=\"identity\", fill=\"steelblue\")+\n",
    "    geom_text(aes(label=total), vjust=-0.3, size=3.5)+\n",
    "    theme_minimal()\n",
    "\n",
    "print(myplot)"
   ]
  },
  {
   "cell_type": "code",
   "execution_count": 63,
   "metadata": {
    "collapsed": true
   },
   "outputs": [],
   "source": [
    "alunos <- arrange(alunos,desc(total))"
   ]
  },
  {
   "cell_type": "code",
   "execution_count": 64,
   "metadata": {},
   "outputs": [
    {
     "data": {
      "text/html": [
       "<table>\n",
       "<thead><tr><th scope=col>nome</th><th scope=col>total</th></tr></thead>\n",
       "<tbody>\n",
       "\t<tr><td>MARIA APARECIDA DA SILVA       </td><td>17                             </td></tr>\n",
       "\t<tr><td>MAÍSA CARVALHO DE SOUZA VIEGA  </td><td>14                             </td></tr>\n",
       "\t<tr><td>MARINHO BEZERRA DE ARAUJO FILHO</td><td>12                             </td></tr>\n",
       "\t<tr><td>MARIA CLARA QUEIROZ DE SOUSA   </td><td>11                             </td></tr>\n",
       "\t<tr><td>ANA CAROLINA MORAIS SALES      </td><td>10                             </td></tr>\n",
       "\t<tr><td>RIVALDO FERNANDES PEREIRA      </td><td>10                             </td></tr>\n",
       "</tbody>\n",
       "</table>\n"
      ],
      "text/latex": [
       "\\begin{tabular}{r|ll}\n",
       " nome & total\\\\\n",
       "\\hline\n",
       "\t MARIA APARECIDA DA SILVA        & 17                             \\\\\n",
       "\t MAÍSA CARVALHO DE SOUZA VIEGA   & 14                             \\\\\n",
       "\t MARINHO BEZERRA DE ARAUJO FILHO & 12                             \\\\\n",
       "\t MARIA CLARA QUEIROZ DE SOUSA    & 11                             \\\\\n",
       "\t ANA CAROLINA MORAIS SALES       & 10                             \\\\\n",
       "\t RIVALDO FERNANDES PEREIRA       & 10                             \\\\\n",
       "\\end{tabular}\n"
      ],
      "text/markdown": [
       "\n",
       "nome | total | \n",
       "|---|---|---|---|---|---|\n",
       "| MARIA APARECIDA DA SILVA        | 17                              | \n",
       "| MAÍSA CARVALHO DE SOUZA VIEGA   | 14                              | \n",
       "| MARINHO BEZERRA DE ARAUJO FILHO | 12                              | \n",
       "| MARIA CLARA QUEIROZ DE SOUSA    | 11                              | \n",
       "| ANA CAROLINA MORAIS SALES       | 10                              | \n",
       "| RIVALDO FERNANDES PEREIRA       | 10                              | \n",
       "\n",
       "\n"
      ],
      "text/plain": [
       "  nome                            total\n",
       "1 MARIA APARECIDA DA SILVA        17   \n",
       "2 MAÍSA CARVALHO DE SOUZA VIEGA   14   \n",
       "3 MARINHO BEZERRA DE ARAUJO FILHO 12   \n",
       "4 MARIA CLARA QUEIROZ DE SOUSA    11   \n",
       "5 ANA CAROLINA MORAIS SALES       10   \n",
       "6 RIVALDO FERNANDES PEREIRA       10   "
      ]
     },
     "metadata": {},
     "output_type": "display_data"
    }
   ],
   "source": [
    "head(alunos)"
   ]
  },
  {
   "cell_type": "code",
   "execution_count": 75,
   "metadata": {},
   "outputs": [
    {
     "data": {
      "text/html": [
       "<table>\n",
       "<thead><tr><th></th><th scope=col>matricula</th><th scope=col>nome_discente</th><th scope=col>ano_ingresso</th><th scope=col>periodo_ingresso</th><th scope=col>forma_ingresso</th><th scope=col>tipo_discente</th><th scope=col>status</th><th scope=col>sigla_nivel_ensino</th><th scope=col>nivel_ensino</th><th scope=col>id_curso</th><th scope=col>nome_curso</th><th scope=col>modalidade_educacao</th><th scope=col>id_unidade</th><th scope=col>nome_unidade</th><th scope=col>id_unidade_gestora</th><th scope=col>nome_unidade_gestora</th></tr></thead>\n",
       "<tbody>\n",
       "\t<tr><th scope=row>7012</th><td> 2009073398                                                            </td><td>MARIA APARECIDA DA SILVA                                               </td><td>2009                                                                   </td><td>2                                                                      </td><td>REINGRESSO AUTOMATICO                                                  </td><td>REGULAR                                                                </td><td>CANCELADO                                                              </td><td>G                                                                      </td><td>GRADUAÇÃO                                                              </td><td>  2000009                                                              </td><td>CIÊNCIAS BIOLÓGICAS                                                    </td><td>PRESENCIAL                                                             </td><td> 440                                                                   </td><td>CENTRO DE BIOCIÊNCIAS                                                  </td><td> 440                                                                   </td><td>CENTRO DE BIOCIÊNCIAS                                                  </td></tr>\n",
       "\t<tr><th scope=row>21053</th><td> 2010017498                                                            </td><td>MARIA APARECIDA DA SILVA                                               </td><td>2010                                                                   </td><td>1                                                                      </td><td>VESTIBULAR                                                             </td><td>REGULAR                                                                </td><td>CONCLUÍDO                                                              </td><td>G                                                                      </td><td>GRADUAÇÃO                                                              </td><td>  2000069                                                              </td><td>TURISMO                                                                </td><td>PRESENCIAL                                                             </td><td> 443                                                                   </td><td>CENTRO DE CIÊNCIAS SOCIAIS APLICADAS                                   </td><td> 443                                                                   </td><td>CENTRO DE CIÊNCIAS SOCIAIS APLICADAS                                   </td></tr>\n",
       "\t<tr><th scope=row>21054</th><td> 2010084429                                                            </td><td>MARIA APARECIDA DA SILVA                                               </td><td>2010                                                                   </td><td>1                                                                      </td><td>VESTIBULAR                                                             </td><td>REGULAR                                                                </td><td>CONCLUÍDO                                                              </td><td>G                                                                      </td><td>GRADUAÇÃO                                                              </td><td>  2671321                                                              </td><td>GEOGRAFIA                                                              </td><td>A DISTÂNCIA                                                            </td><td> 442                                                                   </td><td>CENTRO DE CIÊNCIAS HUMANAS, LETRAS E ARTES                             </td><td> 442                                                                   </td><td>CENTRO DE CIÊNCIAS HUMANAS, LETRAS E ARTES                             </td></tr>\n",
       "\t<tr><th scope=row>21055</th><td> 2010079090                                                            </td><td>MARIA APARECIDA DA SILVA                                               </td><td>2010                                                                   </td><td>1                                                                      </td><td>REINGRESSO AUTOMATICO                                                  </td><td>REGULAR                                                                </td><td>CANCELADO                                                              </td><td>G                                                                      </td><td>GRADUAÇÃO                                                              </td><td>  2000054                                                              </td><td>MATEMÁTICA                                                             </td><td>PRESENCIAL                                                             </td><td> 439                                                                   </td><td>CENTRO DE CIÊNCIAS EXATAS E DA TERRA                                   </td><td> 439                                                                   </td><td>CENTRO DE CIÊNCIAS EXATAS E DA TERRA                                   </td></tr>\n",
       "\t<tr><th scope=row>35739</th><td> 2011505427                                                            </td><td>MARIA APARECIDA DA SILVA                                               </td><td>2011                                                                   </td><td>2                                                                      </td><td>PROCESSO SELETIVO                                                      </td><td>REGULAR                                                                </td><td>ATIVO                                                                  </td><td>F                                                                      </td><td>FORMAÇÃO COMPLEMENTAR                                                  </td><td> 86979169                                                              </td><td>CURSO DE LÍNGUA INGLESA  BÁSICO                                  </td><td>PRESENCIAL                                                             </td><td>6042                                                                   </td><td>INSTITUTO ÁGORA - LÍNGUAS, LITERATURAS E CULTURAS ESTRANGEIRAS MODERNAS</td><td> 442                                                                   </td><td>CENTRO DE CIÊNCIAS HUMANAS, LETRAS E ARTES                             </td></tr>\n",
       "\t<tr><th scope=row>52287</th><td> 2012105072                                                            </td><td>MARIA APARECIDA DA SILVA                                               </td><td>2012                                                                   </td><td>1                                                                      </td><td>SELEÇÃO DE PÓS-GRADUAÇÃO                                               </td><td>REGULAR                                                                </td><td>CANCELADO                                                              </td><td>E                                                                      </td><td>MESTRADO                                                               </td><td> 84739892                                                              </td><td>MESTRADO PROFISSIONAL EM MATEMÁTICA EM REDE NACIONAL                   </td><td>PRESENCIAL                                                             </td><td>5671                                                                   </td><td>PROGRAMA DE PÓS-GRADUAÇÃO EM MATEMÁTICA EM REDE NACIONAL               </td><td> 439                                                                   </td><td>CENTRO DE CIÊNCIAS EXATAS E DA TERRA                                   </td></tr>\n",
       "\t<tr><th scope=row>52288</th><td> 2012961600                                                            </td><td>MARIA APARECIDA DA SILVA                                               </td><td>2012                                                                   </td><td>2                                                                      </td><td>VESTIBULAR                                                             </td><td>REGULAR                                                                </td><td>CONCLUÍDO                                                              </td><td>G                                                                      </td><td>GRADUAÇÃO                                                              </td><td>  2000068                                                              </td><td>SERVIÇO SOCIAL                                                         </td><td>PRESENCIAL                                                             </td><td> 443                                                                   </td><td>CENTRO DE CIÊNCIAS SOCIAIS APLICADAS                                   </td><td> 443                                                                   </td><td>CENTRO DE CIÊNCIAS SOCIAIS APLICADAS                                   </td></tr>\n",
       "\t<tr><th scope=row>52289</th><td> 2012506877                                                            </td><td>MARIA APARECIDA DA SILVA                                               </td><td>2012                                                                   </td><td>1                                                                      </td><td>PROCESSO SELETIVO                                                      </td><td>REGULAR                                                                </td><td>ATIVO                                                                  </td><td>F                                                                      </td><td>FORMAÇÃO COMPLEMENTAR                                                  </td><td> 86979728                                                              </td><td>CURSO DE LÍNGUA INGLESA PARA FINS ACADÊMICOS                           </td><td>PRESENCIAL                                                             </td><td>6042                                                                   </td><td>INSTITUTO ÁGORA - LÍNGUAS, LITERATURAS E CULTURAS ESTRANGEIRAS MODERNAS</td><td> 442                                                                   </td><td>CENTRO DE CIÊNCIAS HUMANAS, LETRAS E ARTES                             </td></tr>\n",
       "\t<tr><th scope=row>72429</th><td> 2013044605                                                            </td><td>MARIA APARECIDA DA SILVA                                               </td><td>2013                                                                   </td><td>1                                                                      </td><td>ALUNO ESPECIAL                                                         </td><td>ESPECIAL                                                               </td><td>ATIVO                                                                  </td><td>G                                                                      </td><td>GRADUAÇÃO                                                              </td><td>       NA                                                              </td><td>                                                                       </td><td>                                                                       </td><td>  NA                                                                   </td><td>                                                                       </td><td>  NA                                                                   </td><td>                                                                       </td></tr>\n",
       "\t<tr><th scope=row>72430</th><td> 2013350304                                                            </td><td>MARIA APARECIDA DA SILVA                                               </td><td>2013                                                                   </td><td>2                                                                      </td><td>PROCESSO SELETIVO                                                      </td><td>REGULAR                                                                </td><td>ATIVO                                                                  </td><td>T                                                                      </td><td>TÉCNICO                                                                </td><td>100755694                                                              </td><td>TÉCNICO EM COOPERATIVISMO A DISTÂNCIA E-TEC                            </td><td>A DISTÂNCIA                                                            </td><td> 351                                                                   </td><td>ESCOLA AGRÍCOLA DE JUNDIAÍ                                             </td><td> 605                                                                   </td><td>UNIVERSIDADE FEDERAL DO RIO GRANDE DO NORTE                            </td></tr>\n",
       "\t<tr><th scope=row>72431</th><td> 2013122686                                                            </td><td>MARIA APARECIDA DA SILVA                                               </td><td>2013                                                                   </td><td>2                                                                      </td><td>ALUNO ESPECIAL POS-GRADUACAO                                           </td><td>ESPECIAL                                                               </td><td>CANCELADO                                                              </td><td>E                                                                      </td><td>MESTRADO                                                               </td><td>       NA                                                              </td><td>                                                                       </td><td>                                                                       </td><td>  NA                                                                   </td><td>                                                                       </td><td>  NA                                                                   </td><td>                                                                       </td></tr>\n",
       "\t<tr><th scope=row>93623</th><td> 2014117635                                                            </td><td>MARIA APARECIDA DA SILVA                                               </td><td>2014                                                                   </td><td>1                                                                      </td><td>ALUNO ESPECIAL POS-GRADUACAO                                           </td><td>ESPECIAL                                                               </td><td>CANCELADO                                                              </td><td>E                                                                      </td><td>MESTRADO                                                               </td><td>       NA                                                              </td><td>                                                                       </td><td>                                                                       </td><td>  NA                                                                   </td><td>                                                                       </td><td>  NA                                                                   </td><td>                                                                       </td></tr>\n",
       "\t<tr><th scope=row>93624</th><td> 2014215449                                                            </td><td>MARIA APARECIDA DA SILVA                                               </td><td>2014                                                                   </td><td>2                                                                      </td><td>PROCESSO SELETIVO                                                      </td><td>REGULAR                                                                </td><td>CONCLUÍDO                                                              </td><td>L                                                                      </td><td>LATO SENSU                                                             </td><td>105104013                                                              </td><td>DOCÊNCIA NA EDUCAÇÃO INFANTIL                                          </td><td>PRESENCIAL                                                             </td><td>1452                                                                   </td><td>NÚCLEO DE EDUCAÇÃO DA INFÂNCIA                                         </td><td>5965                                                                   </td><td>CENTRO DE EDUCAÇÃO                                                     </td></tr>\n",
       "\t<tr><th scope=row>113322</th><td>20153022265                                                            </td><td>MARIA APARECIDA DA SILVA                                               </td><td>2015                                                                   </td><td>1                                                                      </td><td>PROCESSO SELETIVO                                                      </td><td>REGULAR                                                                </td><td>CONCLUÍDO                                                              </td><td>T                                                                      </td><td>TÉCNICO                                                                </td><td>  4746394                                                              </td><td>TECNICO EM AGROINDUSTRIA SUBSEQUENTE                                   </td><td>PRESENCIAL                                                             </td><td> 351                                                                   </td><td>ESCOLA AGRÍCOLA DE JUNDIAÍ                                             </td><td> 605                                                                   </td><td>UNIVERSIDADE FEDERAL DO RIO GRANDE DO NORTE                            </td></tr>\n",
       "\t<tr><th scope=row>113323</th><td>20155133272                                                            </td><td>MARIA APARECIDA DA SILVA                                               </td><td>2015                                                                   </td><td>2                                                                      </td><td>SiSU                                                                   </td><td>REGULAR                                                                </td><td>ATIVO                                                                  </td><td>G                                                                      </td><td>GRADUAÇÃO                                                              </td><td>  2000002                                                              </td><td>ADMINISTRAÇÃO                                                          </td><td>PRESENCIAL                                                             </td><td> 443                                                                   </td><td>CENTRO DE CIÊNCIAS SOCIAIS APLICADAS                                   </td><td> 443                                                                   </td><td>CENTRO DE CIÊNCIAS SOCIAIS APLICADAS                                   </td></tr>\n",
       "\t<tr><th scope=row>131874</th><td>20160151182                                                            </td><td>MARIA APARECIDA DA SILVA                                               </td><td>2016                                                                   </td><td>2                                                                      </td><td>PARFOR                                                                 </td><td>REGULAR                                                                </td><td>ATIVO                                                                  </td><td>G                                                                      </td><td>GRADUAÇÃO                                                              </td><td> 85436489                                                              </td><td>MATEMÁTICA                                                             </td><td>PRESENCIAL                                                             </td><td> 439                                                                   </td><td>CENTRO DE CIÊNCIAS EXATAS E DA TERRA                                   </td><td> 439                                                                   </td><td>CENTRO DE CIÊNCIAS EXATAS E DA TERRA                                   </td></tr>\n",
       "\t<tr><th scope=row>150838</th><td>20173038389                                                            </td><td>MARIA APARECIDA DA SILVA                                               </td><td>2017                                                                   </td><td>2                                                                      </td><td>PROCESSO SELETIVO                                                      </td><td>REGULAR                                                                </td><td>ATIVO                                                                  </td><td>T                                                                      </td><td>TÉCNICO                                                                </td><td>125836427                                                              </td><td>TÉCNICO EM AGROPECUÁRIA - MEDIOTEC - 2017.2 - SANTO ANTÔNIO            </td><td>SEMI-PRESENCIAL                                                        </td><td>8919                                                                   </td><td>ESCOLA AGRICOLA DE JUNDIAI - PRONATEC                                  </td><td> 605                                                                   </td><td>UNIVERSIDADE FEDERAL DO RIO GRANDE DO NORTE                            </td></tr>\n",
       "</tbody>\n",
       "</table>\n"
      ],
      "text/latex": [
       "\\begin{tabular}{r|llllllllllllllll}\n",
       "  & matricula & nome\\_discente & ano\\_ingresso & periodo\\_ingresso & forma\\_ingresso & tipo\\_discente & status & sigla\\_nivel\\_ensino & nivel\\_ensino & id\\_curso & nome\\_curso & modalidade\\_educacao & id\\_unidade & nome\\_unidade & id\\_unidade\\_gestora & nome\\_unidade\\_gestora\\\\\n",
       "\\hline\n",
       "\t7012 &  2009073398                                                             & MARIA APARECIDA DA SILVA                                                & 2009                                                                    & 2                                                                       & REINGRESSO AUTOMATICO                                                   & REGULAR                                                                 & CANCELADO                                                               & G                                                                       & GRADUAÇÃO                                                               &   2000009                                                               & CIÊNCIAS BIOLÓGICAS                                                     & PRESENCIAL                                                              &  440                                                                    & CENTRO DE BIOCIÊNCIAS                                                   &  440                                                                    & CENTRO DE BIOCIÊNCIAS                                                  \\\\\n",
       "\t21053 &  2010017498                                                             & MARIA APARECIDA DA SILVA                                                & 2010                                                                    & 1                                                                       & VESTIBULAR                                                              & REGULAR                                                                 & CONCLUÍDO                                                               & G                                                                       & GRADUAÇÃO                                                               &   2000069                                                               & TURISMO                                                                 & PRESENCIAL                                                              &  443                                                                    & CENTRO DE CIÊNCIAS SOCIAIS APLICADAS                                    &  443                                                                    & CENTRO DE CIÊNCIAS SOCIAIS APLICADAS                                   \\\\\n",
       "\t21054 &  2010084429                                                             & MARIA APARECIDA DA SILVA                                                & 2010                                                                    & 1                                                                       & VESTIBULAR                                                              & REGULAR                                                                 & CONCLUÍDO                                                               & G                                                                       & GRADUAÇÃO                                                               &   2671321                                                               & GEOGRAFIA                                                               & A DISTÂNCIA                                                             &  442                                                                    & CENTRO DE CIÊNCIAS HUMANAS, LETRAS E ARTES                              &  442                                                                    & CENTRO DE CIÊNCIAS HUMANAS, LETRAS E ARTES                             \\\\\n",
       "\t21055 &  2010079090                                                             & MARIA APARECIDA DA SILVA                                                & 2010                                                                    & 1                                                                       & REINGRESSO AUTOMATICO                                                   & REGULAR                                                                 & CANCELADO                                                               & G                                                                       & GRADUAÇÃO                                                               &   2000054                                                               & MATEMÁTICA                                                              & PRESENCIAL                                                              &  439                                                                    & CENTRO DE CIÊNCIAS EXATAS E DA TERRA                                    &  439                                                                    & CENTRO DE CIÊNCIAS EXATAS E DA TERRA                                   \\\\\n",
       "\t35739 &  2011505427                                                             & MARIA APARECIDA DA SILVA                                                & 2011                                                                    & 2                                                                       & PROCESSO SELETIVO                                                       & REGULAR                                                                 & ATIVO                                                                   & F                                                                       & FORMAÇÃO COMPLEMENTAR                                                   &  86979169                                                               & CURSO DE LÍNGUA INGLESA  BÁSICO                                   & PRESENCIAL                                                              & 6042                                                                    & INSTITUTO ÁGORA - LÍNGUAS, LITERATURAS E CULTURAS ESTRANGEIRAS MODERNAS &  442                                                                    & CENTRO DE CIÊNCIAS HUMANAS, LETRAS E ARTES                             \\\\\n",
       "\t52287 &  2012105072                                                             & MARIA APARECIDA DA SILVA                                                & 2012                                                                    & 1                                                                       & SELEÇÃO DE PÓS-GRADUAÇÃO                                                & REGULAR                                                                 & CANCELADO                                                               & E                                                                       & MESTRADO                                                                &  84739892                                                               & MESTRADO PROFISSIONAL EM MATEMÁTICA EM REDE NACIONAL                    & PRESENCIAL                                                              & 5671                                                                    & PROGRAMA DE PÓS-GRADUAÇÃO EM MATEMÁTICA EM REDE NACIONAL                &  439                                                                    & CENTRO DE CIÊNCIAS EXATAS E DA TERRA                                   \\\\\n",
       "\t52288 &  2012961600                                                             & MARIA APARECIDA DA SILVA                                                & 2012                                                                    & 2                                                                       & VESTIBULAR                                                              & REGULAR                                                                 & CONCLUÍDO                                                               & G                                                                       & GRADUAÇÃO                                                               &   2000068                                                               & SERVIÇO SOCIAL                                                          & PRESENCIAL                                                              &  443                                                                    & CENTRO DE CIÊNCIAS SOCIAIS APLICADAS                                    &  443                                                                    & CENTRO DE CIÊNCIAS SOCIAIS APLICADAS                                   \\\\\n",
       "\t52289 &  2012506877                                                             & MARIA APARECIDA DA SILVA                                                & 2012                                                                    & 1                                                                       & PROCESSO SELETIVO                                                       & REGULAR                                                                 & ATIVO                                                                   & F                                                                       & FORMAÇÃO COMPLEMENTAR                                                   &  86979728                                                               & CURSO DE LÍNGUA INGLESA PARA FINS ACADÊMICOS                            & PRESENCIAL                                                              & 6042                                                                    & INSTITUTO ÁGORA - LÍNGUAS, LITERATURAS E CULTURAS ESTRANGEIRAS MODERNAS &  442                                                                    & CENTRO DE CIÊNCIAS HUMANAS, LETRAS E ARTES                             \\\\\n",
       "\t72429 &  2013044605                                                             & MARIA APARECIDA DA SILVA                                                & 2013                                                                    & 1                                                                       & ALUNO ESPECIAL                                                          & ESPECIAL                                                                & ATIVO                                                                   & G                                                                       & GRADUAÇÃO                                                               &        NA                                                               &                                                                         &                                                                         &   NA                                                                    &                                                                         &   NA                                                                    &                                                                        \\\\\n",
       "\t72430 &  2013350304                                                             & MARIA APARECIDA DA SILVA                                                & 2013                                                                    & 2                                                                       & PROCESSO SELETIVO                                                       & REGULAR                                                                 & ATIVO                                                                   & T                                                                       & TÉCNICO                                                                 & 100755694                                                               & TÉCNICO EM COOPERATIVISMO A DISTÂNCIA E-TEC                             & A DISTÂNCIA                                                             &  351                                                                    & ESCOLA AGRÍCOLA DE JUNDIAÍ                                              &  605                                                                    & UNIVERSIDADE FEDERAL DO RIO GRANDE DO NORTE                            \\\\\n",
       "\t72431 &  2013122686                                                             & MARIA APARECIDA DA SILVA                                                & 2013                                                                    & 2                                                                       & ALUNO ESPECIAL POS-GRADUACAO                                            & ESPECIAL                                                                & CANCELADO                                                               & E                                                                       & MESTRADO                                                                &        NA                                                               &                                                                         &                                                                         &   NA                                                                    &                                                                         &   NA                                                                    &                                                                        \\\\\n",
       "\t93623 &  2014117635                                                             & MARIA APARECIDA DA SILVA                                                & 2014                                                                    & 1                                                                       & ALUNO ESPECIAL POS-GRADUACAO                                            & ESPECIAL                                                                & CANCELADO                                                               & E                                                                       & MESTRADO                                                                &        NA                                                               &                                                                         &                                                                         &   NA                                                                    &                                                                         &   NA                                                                    &                                                                        \\\\\n",
       "\t93624 &  2014215449                                                             & MARIA APARECIDA DA SILVA                                                & 2014                                                                    & 2                                                                       & PROCESSO SELETIVO                                                       & REGULAR                                                                 & CONCLUÍDO                                                               & L                                                                       & LATO SENSU                                                              & 105104013                                                               & DOCÊNCIA NA EDUCAÇÃO INFANTIL                                           & PRESENCIAL                                                              & 1452                                                                    & NÚCLEO DE EDUCAÇÃO DA INFÂNCIA                                          & 5965                                                                    & CENTRO DE EDUCAÇÃO                                                     \\\\\n",
       "\t113322 & 20153022265                                                             & MARIA APARECIDA DA SILVA                                                & 2015                                                                    & 1                                                                       & PROCESSO SELETIVO                                                       & REGULAR                                                                 & CONCLUÍDO                                                               & T                                                                       & TÉCNICO                                                                 &   4746394                                                               & TECNICO EM AGROINDUSTRIA SUBSEQUENTE                                    & PRESENCIAL                                                              &  351                                                                    & ESCOLA AGRÍCOLA DE JUNDIAÍ                                              &  605                                                                    & UNIVERSIDADE FEDERAL DO RIO GRANDE DO NORTE                            \\\\\n",
       "\t113323 & 20155133272                                                             & MARIA APARECIDA DA SILVA                                                & 2015                                                                    & 2                                                                       & SiSU                                                                    & REGULAR                                                                 & ATIVO                                                                   & G                                                                       & GRADUAÇÃO                                                               &   2000002                                                               & ADMINISTRAÇÃO                                                           & PRESENCIAL                                                              &  443                                                                    & CENTRO DE CIÊNCIAS SOCIAIS APLICADAS                                    &  443                                                                    & CENTRO DE CIÊNCIAS SOCIAIS APLICADAS                                   \\\\\n",
       "\t131874 & 20160151182                                                             & MARIA APARECIDA DA SILVA                                                & 2016                                                                    & 2                                                                       & PARFOR                                                                  & REGULAR                                                                 & ATIVO                                                                   & G                                                                       & GRADUAÇÃO                                                               &  85436489                                                               & MATEMÁTICA                                                              & PRESENCIAL                                                              &  439                                                                    & CENTRO DE CIÊNCIAS EXATAS E DA TERRA                                    &  439                                                                    & CENTRO DE CIÊNCIAS EXATAS E DA TERRA                                   \\\\\n",
       "\t150838 & 20173038389                                                             & MARIA APARECIDA DA SILVA                                                & 2017                                                                    & 2                                                                       & PROCESSO SELETIVO                                                       & REGULAR                                                                 & ATIVO                                                                   & T                                                                       & TÉCNICO                                                                 & 125836427                                                               & TÉCNICO EM AGROPECUÁRIA - MEDIOTEC - 2017.2 - SANTO ANTÔNIO             & SEMI-PRESENCIAL                                                         & 8919                                                                    & ESCOLA AGRICOLA DE JUNDIAI - PRONATEC                                   &  605                                                                    & UNIVERSIDADE FEDERAL DO RIO GRANDE DO NORTE                            \\\\\n",
       "\\end{tabular}\n"
      ],
      "text/markdown": [
       "\n",
       "| <!--/--> | matricula | nome_discente | ano_ingresso | periodo_ingresso | forma_ingresso | tipo_discente | status | sigla_nivel_ensino | nivel_ensino | id_curso | nome_curso | modalidade_educacao | id_unidade | nome_unidade | id_unidade_gestora | nome_unidade_gestora | \n",
       "|---|---|---|---|---|---|---|---|---|---|---|---|---|---|---|---|---|\n",
       "| 7012 |  2009073398                                                             | MARIA APARECIDA DA SILVA                                                | 2009                                                                    | 2                                                                       | REINGRESSO AUTOMATICO                                                   | REGULAR                                                                 | CANCELADO                                                               | G                                                                       | GRADUAÇÃO                                                               |   2000009                                                               | CIÊNCIAS BIOLÓGICAS                                                     | PRESENCIAL                                                              |  440                                                                    | CENTRO DE BIOCIÊNCIAS                                                   |  440                                                                    | CENTRO DE BIOCIÊNCIAS                                                   | \n",
       "| 21053 |  2010017498                                                             | MARIA APARECIDA DA SILVA                                                | 2010                                                                    | 1                                                                       | VESTIBULAR                                                              | REGULAR                                                                 | CONCLUÍDO                                                               | G                                                                       | GRADUAÇÃO                                                               |   2000069                                                               | TURISMO                                                                 | PRESENCIAL                                                              |  443                                                                    | CENTRO DE CIÊNCIAS SOCIAIS APLICADAS                                    |  443                                                                    | CENTRO DE CIÊNCIAS SOCIAIS APLICADAS                                    | \n",
       "| 21054 |  2010084429                                                             | MARIA APARECIDA DA SILVA                                                | 2010                                                                    | 1                                                                       | VESTIBULAR                                                              | REGULAR                                                                 | CONCLUÍDO                                                               | G                                                                       | GRADUAÇÃO                                                               |   2671321                                                               | GEOGRAFIA                                                               | A DISTÂNCIA                                                             |  442                                                                    | CENTRO DE CIÊNCIAS HUMANAS, LETRAS E ARTES                              |  442                                                                    | CENTRO DE CIÊNCIAS HUMANAS, LETRAS E ARTES                              | \n",
       "| 21055 |  2010079090                                                             | MARIA APARECIDA DA SILVA                                                | 2010                                                                    | 1                                                                       | REINGRESSO AUTOMATICO                                                   | REGULAR                                                                 | CANCELADO                                                               | G                                                                       | GRADUAÇÃO                                                               |   2000054                                                               | MATEMÁTICA                                                              | PRESENCIAL                                                              |  439                                                                    | CENTRO DE CIÊNCIAS EXATAS E DA TERRA                                    |  439                                                                    | CENTRO DE CIÊNCIAS EXATAS E DA TERRA                                    | \n",
       "| 35739 |  2011505427                                                             | MARIA APARECIDA DA SILVA                                                | 2011                                                                    | 2                                                                       | PROCESSO SELETIVO                                                       | REGULAR                                                                 | ATIVO                                                                   | F                                                                       | FORMAÇÃO COMPLEMENTAR                                                   |  86979169                                                               | CURSO DE LÍNGUA INGLESA  BÁSICO                                   | PRESENCIAL                                                              | 6042                                                                    | INSTITUTO ÁGORA - LÍNGUAS, LITERATURAS E CULTURAS ESTRANGEIRAS MODERNAS |  442                                                                    | CENTRO DE CIÊNCIAS HUMANAS, LETRAS E ARTES                              | \n",
       "| 52287 |  2012105072                                                             | MARIA APARECIDA DA SILVA                                                | 2012                                                                    | 1                                                                       | SELEÇÃO DE PÓS-GRADUAÇÃO                                                | REGULAR                                                                 | CANCELADO                                                               | E                                                                       | MESTRADO                                                                |  84739892                                                               | MESTRADO PROFISSIONAL EM MATEMÁTICA EM REDE NACIONAL                    | PRESENCIAL                                                              | 5671                                                                    | PROGRAMA DE PÓS-GRADUAÇÃO EM MATEMÁTICA EM REDE NACIONAL                |  439                                                                    | CENTRO DE CIÊNCIAS EXATAS E DA TERRA                                    | \n",
       "| 52288 |  2012961600                                                             | MARIA APARECIDA DA SILVA                                                | 2012                                                                    | 2                                                                       | VESTIBULAR                                                              | REGULAR                                                                 | CONCLUÍDO                                                               | G                                                                       | GRADUAÇÃO                                                               |   2000068                                                               | SERVIÇO SOCIAL                                                          | PRESENCIAL                                                              |  443                                                                    | CENTRO DE CIÊNCIAS SOCIAIS APLICADAS                                    |  443                                                                    | CENTRO DE CIÊNCIAS SOCIAIS APLICADAS                                    | \n",
       "| 52289 |  2012506877                                                             | MARIA APARECIDA DA SILVA                                                | 2012                                                                    | 1                                                                       | PROCESSO SELETIVO                                                       | REGULAR                                                                 | ATIVO                                                                   | F                                                                       | FORMAÇÃO COMPLEMENTAR                                                   |  86979728                                                               | CURSO DE LÍNGUA INGLESA PARA FINS ACADÊMICOS                            | PRESENCIAL                                                              | 6042                                                                    | INSTITUTO ÁGORA - LÍNGUAS, LITERATURAS E CULTURAS ESTRANGEIRAS MODERNAS |  442                                                                    | CENTRO DE CIÊNCIAS HUMANAS, LETRAS E ARTES                              | \n",
       "| 72429 |  2013044605                                                             | MARIA APARECIDA DA SILVA                                                | 2013                                                                    | 1                                                                       | ALUNO ESPECIAL                                                          | ESPECIAL                                                                | ATIVO                                                                   | G                                                                       | GRADUAÇÃO                                                               |        NA                                                               |                                                                         |                                                                         |   NA                                                                    |                                                                         |   NA                                                                    |                                                                         | \n",
       "| 72430 |  2013350304                                                             | MARIA APARECIDA DA SILVA                                                | 2013                                                                    | 2                                                                       | PROCESSO SELETIVO                                                       | REGULAR                                                                 | ATIVO                                                                   | T                                                                       | TÉCNICO                                                                 | 100755694                                                               | TÉCNICO EM COOPERATIVISMO A DISTÂNCIA E-TEC                             | A DISTÂNCIA                                                             |  351                                                                    | ESCOLA AGRÍCOLA DE JUNDIAÍ                                              |  605                                                                    | UNIVERSIDADE FEDERAL DO RIO GRANDE DO NORTE                             | \n",
       "| 72431 |  2013122686                                                             | MARIA APARECIDA DA SILVA                                                | 2013                                                                    | 2                                                                       | ALUNO ESPECIAL POS-GRADUACAO                                            | ESPECIAL                                                                | CANCELADO                                                               | E                                                                       | MESTRADO                                                                |        NA                                                               |                                                                         |                                                                         |   NA                                                                    |                                                                         |   NA                                                                    |                                                                         | \n",
       "| 93623 |  2014117635                                                             | MARIA APARECIDA DA SILVA                                                | 2014                                                                    | 1                                                                       | ALUNO ESPECIAL POS-GRADUACAO                                            | ESPECIAL                                                                | CANCELADO                                                               | E                                                                       | MESTRADO                                                                |        NA                                                               |                                                                         |                                                                         |   NA                                                                    |                                                                         |   NA                                                                    |                                                                         | \n",
       "| 93624 |  2014215449                                                             | MARIA APARECIDA DA SILVA                                                | 2014                                                                    | 2                                                                       | PROCESSO SELETIVO                                                       | REGULAR                                                                 | CONCLUÍDO                                                               | L                                                                       | LATO SENSU                                                              | 105104013                                                               | DOCÊNCIA NA EDUCAÇÃO INFANTIL                                           | PRESENCIAL                                                              | 1452                                                                    | NÚCLEO DE EDUCAÇÃO DA INFÂNCIA                                          | 5965                                                                    | CENTRO DE EDUCAÇÃO                                                      | \n",
       "| 113322 | 20153022265                                                             | MARIA APARECIDA DA SILVA                                                | 2015                                                                    | 1                                                                       | PROCESSO SELETIVO                                                       | REGULAR                                                                 | CONCLUÍDO                                                               | T                                                                       | TÉCNICO                                                                 |   4746394                                                               | TECNICO EM AGROINDUSTRIA SUBSEQUENTE                                    | PRESENCIAL                                                              |  351                                                                    | ESCOLA AGRÍCOLA DE JUNDIAÍ                                              |  605                                                                    | UNIVERSIDADE FEDERAL DO RIO GRANDE DO NORTE                             | \n",
       "| 113323 | 20155133272                                                             | MARIA APARECIDA DA SILVA                                                | 2015                                                                    | 2                                                                       | SiSU                                                                    | REGULAR                                                                 | ATIVO                                                                   | G                                                                       | GRADUAÇÃO                                                               |   2000002                                                               | ADMINISTRAÇÃO                                                           | PRESENCIAL                                                              |  443                                                                    | CENTRO DE CIÊNCIAS SOCIAIS APLICADAS                                    |  443                                                                    | CENTRO DE CIÊNCIAS SOCIAIS APLICADAS                                    | \n",
       "| 131874 | 20160151182                                                             | MARIA APARECIDA DA SILVA                                                | 2016                                                                    | 2                                                                       | PARFOR                                                                  | REGULAR                                                                 | ATIVO                                                                   | G                                                                       | GRADUAÇÃO                                                               |  85436489                                                               | MATEMÁTICA                                                              | PRESENCIAL                                                              |  439                                                                    | CENTRO DE CIÊNCIAS EXATAS E DA TERRA                                    |  439                                                                    | CENTRO DE CIÊNCIAS EXATAS E DA TERRA                                    | \n",
       "| 150838 | 20173038389                                                             | MARIA APARECIDA DA SILVA                                                | 2017                                                                    | 2                                                                       | PROCESSO SELETIVO                                                       | REGULAR                                                                 | ATIVO                                                                   | T                                                                       | TÉCNICO                                                                 | 125836427                                                               | TÉCNICO EM AGROPECUÁRIA - MEDIOTEC - 2017.2 - SANTO ANTÔNIO             | SEMI-PRESENCIAL                                                         | 8919                                                                    | ESCOLA AGRICOLA DE JUNDIAI - PRONATEC                                   |  605                                                                    | UNIVERSIDADE FEDERAL DO RIO GRANDE DO NORTE                             | \n",
       "\n",
       "\n"
      ],
      "text/plain": [
       "       matricula   nome_discente            ano_ingresso periodo_ingresso\n",
       "7012    2009073398 MARIA APARECIDA DA SILVA 2009         2               \n",
       "21053   2010017498 MARIA APARECIDA DA SILVA 2010         1               \n",
       "21054   2010084429 MARIA APARECIDA DA SILVA 2010         1               \n",
       "21055   2010079090 MARIA APARECIDA DA SILVA 2010         1               \n",
       "35739   2011505427 MARIA APARECIDA DA SILVA 2011         2               \n",
       "52287   2012105072 MARIA APARECIDA DA SILVA 2012         1               \n",
       "52288   2012961600 MARIA APARECIDA DA SILVA 2012         2               \n",
       "52289   2012506877 MARIA APARECIDA DA SILVA 2012         1               \n",
       "72429   2013044605 MARIA APARECIDA DA SILVA 2013         1               \n",
       "72430   2013350304 MARIA APARECIDA DA SILVA 2013         2               \n",
       "72431   2013122686 MARIA APARECIDA DA SILVA 2013         2               \n",
       "93623   2014117635 MARIA APARECIDA DA SILVA 2014         1               \n",
       "93624   2014215449 MARIA APARECIDA DA SILVA 2014         2               \n",
       "113322 20153022265 MARIA APARECIDA DA SILVA 2015         1               \n",
       "113323 20155133272 MARIA APARECIDA DA SILVA 2015         2               \n",
       "131874 20160151182 MARIA APARECIDA DA SILVA 2016         2               \n",
       "150838 20173038389 MARIA APARECIDA DA SILVA 2017         2               \n",
       "       forma_ingresso               tipo_discente status    sigla_nivel_ensino\n",
       "7012   REINGRESSO AUTOMATICO        REGULAR       CANCELADO G                 \n",
       "21053  VESTIBULAR                   REGULAR       CONCLUÍDO G                 \n",
       "21054  VESTIBULAR                   REGULAR       CONCLUÍDO G                 \n",
       "21055  REINGRESSO AUTOMATICO        REGULAR       CANCELADO G                 \n",
       "35739  PROCESSO SELETIVO            REGULAR       ATIVO     F                 \n",
       "52287  SELEÇÃO DE PÓS-GRADUAÇÃO     REGULAR       CANCELADO E                 \n",
       "52288  VESTIBULAR                   REGULAR       CONCLUÍDO G                 \n",
       "52289  PROCESSO SELETIVO            REGULAR       ATIVO     F                 \n",
       "72429  ALUNO ESPECIAL               ESPECIAL      ATIVO     G                 \n",
       "72430  PROCESSO SELETIVO            REGULAR       ATIVO     T                 \n",
       "72431  ALUNO ESPECIAL POS-GRADUACAO ESPECIAL      CANCELADO E                 \n",
       "93623  ALUNO ESPECIAL POS-GRADUACAO ESPECIAL      CANCELADO E                 \n",
       "93624  PROCESSO SELETIVO            REGULAR       CONCLUÍDO L                 \n",
       "113322 PROCESSO SELETIVO            REGULAR       CONCLUÍDO T                 \n",
       "113323 SiSU                         REGULAR       ATIVO     G                 \n",
       "131874 PARFOR                       REGULAR       ATIVO     G                 \n",
       "150838 PROCESSO SELETIVO            REGULAR       ATIVO     T                 \n",
       "       nivel_ensino          id_curso \n",
       "7012   GRADUAÇÃO               2000009\n",
       "21053  GRADUAÇÃO               2000069\n",
       "21054  GRADUAÇÃO               2671321\n",
       "21055  GRADUAÇÃO               2000054\n",
       "35739  FORMAÇÃO COMPLEMENTAR  86979169\n",
       "52287  MESTRADO               84739892\n",
       "52288  GRADUAÇÃO               2000068\n",
       "52289  FORMAÇÃO COMPLEMENTAR  86979728\n",
       "72429  GRADUAÇÃO                    NA\n",
       "72430  TÉCNICO               100755694\n",
       "72431  MESTRADO                     NA\n",
       "93623  MESTRADO                     NA\n",
       "93624  LATO SENSU            105104013\n",
       "113322 TÉCNICO                 4746394\n",
       "113323 GRADUAÇÃO               2000002\n",
       "131874 GRADUAÇÃO              85436489\n",
       "150838 TÉCNICO               125836427\n",
       "       nome_curso                                                 \n",
       "7012   CIÊNCIAS BIOLÓGICAS                                        \n",
       "21053  TURISMO                                                    \n",
       "21054  GEOGRAFIA                                                  \n",
       "21055  MATEMÁTICA                                                 \n",
       "35739  CURSO DE LÍNGUA INGLESA \\u0096 BÁSICO                      \n",
       "52287  MESTRADO PROFISSIONAL EM MATEMÁTICA EM REDE NACIONAL       \n",
       "52288  SERVIÇO SOCIAL                                             \n",
       "52289  CURSO DE LÍNGUA INGLESA PARA FINS ACADÊMICOS               \n",
       "72429                                                             \n",
       "72430  TÉCNICO EM COOPERATIVISMO A DISTÂNCIA E-TEC                \n",
       "72431                                                             \n",
       "93623                                                             \n",
       "93624  DOCÊNCIA NA EDUCAÇÃO INFANTIL                              \n",
       "113322 TECNICO EM AGROINDUSTRIA SUBSEQUENTE                       \n",
       "113323 ADMINISTRAÇÃO                                              \n",
       "131874 MATEMÁTICA                                                 \n",
       "150838 TÉCNICO EM AGROPECUÁRIA - MEDIOTEC - 2017.2 - SANTO ANTÔNIO\n",
       "       modalidade_educacao id_unidade\n",
       "7012   PRESENCIAL           440      \n",
       "21053  PRESENCIAL           443      \n",
       "21054  A DISTÂNCIA          442      \n",
       "21055  PRESENCIAL           439      \n",
       "35739  PRESENCIAL          6042      \n",
       "52287  PRESENCIAL          5671      \n",
       "52288  PRESENCIAL           443      \n",
       "52289  PRESENCIAL          6042      \n",
       "72429                        NA      \n",
       "72430  A DISTÂNCIA          351      \n",
       "72431                        NA      \n",
       "93623                        NA      \n",
       "93624  PRESENCIAL          1452      \n",
       "113322 PRESENCIAL           351      \n",
       "113323 PRESENCIAL           443      \n",
       "131874 PRESENCIAL           439      \n",
       "150838 SEMI-PRESENCIAL     8919      \n",
       "       nome_unidade                                                           \n",
       "7012   CENTRO DE BIOCIÊNCIAS                                                  \n",
       "21053  CENTRO DE CIÊNCIAS SOCIAIS APLICADAS                                   \n",
       "21054  CENTRO DE CIÊNCIAS HUMANAS, LETRAS E ARTES                             \n",
       "21055  CENTRO DE CIÊNCIAS EXATAS E DA TERRA                                   \n",
       "35739  INSTITUTO ÁGORA - LÍNGUAS, LITERATURAS E CULTURAS ESTRANGEIRAS MODERNAS\n",
       "52287  PROGRAMA DE PÓS-GRADUAÇÃO EM MATEMÁTICA EM REDE NACIONAL               \n",
       "52288  CENTRO DE CIÊNCIAS SOCIAIS APLICADAS                                   \n",
       "52289  INSTITUTO ÁGORA - LÍNGUAS, LITERATURAS E CULTURAS ESTRANGEIRAS MODERNAS\n",
       "72429                                                                         \n",
       "72430  ESCOLA AGRÍCOLA DE JUNDIAÍ                                             \n",
       "72431                                                                         \n",
       "93623                                                                         \n",
       "93624  NÚCLEO DE EDUCAÇÃO DA INFÂNCIA                                         \n",
       "113322 ESCOLA AGRÍCOLA DE JUNDIAÍ                                             \n",
       "113323 CENTRO DE CIÊNCIAS SOCIAIS APLICADAS                                   \n",
       "131874 CENTRO DE CIÊNCIAS EXATAS E DA TERRA                                   \n",
       "150838 ESCOLA AGRICOLA DE JUNDIAI - PRONATEC                                  \n",
       "       id_unidade_gestora nome_unidade_gestora                       \n",
       "7012    440               CENTRO DE BIOCIÊNCIAS                      \n",
       "21053   443               CENTRO DE CIÊNCIAS SOCIAIS APLICADAS       \n",
       "21054   442               CENTRO DE CIÊNCIAS HUMANAS, LETRAS E ARTES \n",
       "21055   439               CENTRO DE CIÊNCIAS EXATAS E DA TERRA       \n",
       "35739   442               CENTRO DE CIÊNCIAS HUMANAS, LETRAS E ARTES \n",
       "52287   439               CENTRO DE CIÊNCIAS EXATAS E DA TERRA       \n",
       "52288   443               CENTRO DE CIÊNCIAS SOCIAIS APLICADAS       \n",
       "52289   442               CENTRO DE CIÊNCIAS HUMANAS, LETRAS E ARTES \n",
       "72429    NA                                                          \n",
       "72430   605               UNIVERSIDADE FEDERAL DO RIO GRANDE DO NORTE\n",
       "72431    NA                                                          \n",
       "93623    NA                                                          \n",
       "93624  5965               CENTRO DE EDUCAÇÃO                         \n",
       "113322  605               UNIVERSIDADE FEDERAL DO RIO GRANDE DO NORTE\n",
       "113323  443               CENTRO DE CIÊNCIAS SOCIAIS APLICADAS       \n",
       "131874  439               CENTRO DE CIÊNCIAS EXATAS E DA TERRA       \n",
       "150838  605               UNIVERSIDADE FEDERAL DO RIO GRANDE DO NORTE"
      ]
     },
     "metadata": {},
     "output_type": "display_data"
    }
   ],
   "source": [
    "subset(discentes, nome_discente == \"MARIA APARECIDA DA SILVA\")"
   ]
  },
  {
   "cell_type": "markdown",
   "metadata": {},
   "source": [
    "### 3.5 Ingressos por Aluno e Ano"
   ]
  },
  {
   "cell_type": "code",
   "execution_count": 76,
   "metadata": {},
   "outputs": [
    {
     "name": "stdout",
     "output_type": "stream",
     "text": [
      "'data.frame':\t963801 obs. of  3 variables:\n",
      " $ nome : Factor w/ 107089 levels \"Abdias Beserra Pereira Júnior\",..: 1 2 3 4 5 6 7 8 9 10 ...\n",
      " $ ano  : Factor w/ 9 levels \"2009\",\"2010\",..: 1 1 1 1 1 1 1 1 1 1 ...\n",
      " $ total: int  1 1 1 1 1 1 1 1 1 1 ...\n"
     ]
    },
    {
     "data": {
      "text/html": [
       "<table>\n",
       "<thead><tr><th scope=col>nome</th><th scope=col>ano</th><th scope=col>total</th></tr></thead>\n",
       "<tbody>\n",
       "\t<tr><td>Abdias Beserra Pereira Júnior             </td><td>2009                                      </td><td>1                                         </td></tr>\n",
       "\t<tr><td>ABDO FARRET NETO                          </td><td>2009                                      </td><td>1                                         </td></tr>\n",
       "\t<tr><td>ABELARDO LOPES DE ALBUQUERQUE MACHADO NETO</td><td>2009                                      </td><td>1                                         </td></tr>\n",
       "\t<tr><td>ABELARDO MONTEIRO BEZERRA DE MELO NETO    </td><td>2009                                      </td><td>1                                         </td></tr>\n",
       "\t<tr><td>ABIGAIL CALDAS BATISTA GONDIM             </td><td>2009                                      </td><td>1                                         </td></tr>\n",
       "\t<tr><td>ABIGAIL NOÁDIA BARBALHO DA SILVA          </td><td>2009                                      </td><td>1                                         </td></tr>\n",
       "</tbody>\n",
       "</table>\n"
      ],
      "text/latex": [
       "\\begin{tabular}{r|lll}\n",
       " nome & ano & total\\\\\n",
       "\\hline\n",
       "\t Abdias Beserra Pereira Júnior              & 2009                                       & 1                                         \\\\\n",
       "\t ABDO FARRET NETO                           & 2009                                       & 1                                         \\\\\n",
       "\t ABELARDO LOPES DE ALBUQUERQUE MACHADO NETO & 2009                                       & 1                                         \\\\\n",
       "\t ABELARDO MONTEIRO BEZERRA DE MELO NETO     & 2009                                       & 1                                         \\\\\n",
       "\t ABIGAIL CALDAS BATISTA GONDIM              & 2009                                       & 1                                         \\\\\n",
       "\t ABIGAIL NOÁDIA BARBALHO DA SILVA           & 2009                                       & 1                                         \\\\\n",
       "\\end{tabular}\n"
      ],
      "text/markdown": [
       "\n",
       "nome | ano | total | \n",
       "|---|---|---|---|---|---|\n",
       "| Abdias Beserra Pereira Júnior              | 2009                                       | 1                                          | \n",
       "| ABDO FARRET NETO                           | 2009                                       | 1                                          | \n",
       "| ABELARDO LOPES DE ALBUQUERQUE MACHADO NETO | 2009                                       | 1                                          | \n",
       "| ABELARDO MONTEIRO BEZERRA DE MELO NETO     | 2009                                       | 1                                          | \n",
       "| ABIGAIL CALDAS BATISTA GONDIM              | 2009                                       | 1                                          | \n",
       "| ABIGAIL NOÁDIA BARBALHO DA SILVA           | 2009                                       | 1                                          | \n",
       "\n",
       "\n"
      ],
      "text/plain": [
       "  nome                                       ano  total\n",
       "1 Abdias Beserra Pereira Júnior              2009 1    \n",
       "2 ABDO FARRET NETO                           2009 1    \n",
       "3 ABELARDO LOPES DE ALBUQUERQUE MACHADO NETO 2009 1    \n",
       "4 ABELARDO MONTEIRO BEZERRA DE MELO NETO     2009 1    \n",
       "5 ABIGAIL CALDAS BATISTA GONDIM              2009 1    \n",
       "6 ABIGAIL NOÁDIA BARBALHO DA SILVA           2009 1    "
      ]
     },
     "metadata": {},
     "output_type": "display_data"
    }
   ],
   "source": [
    "alunos_ano <- as.data.frame(table(discentes$nome_discente, discentes$ano_ingresso))\n",
    "\n",
    "names(alunos_ano)[1] <- \"nome\"\n",
    "names(alunos_ano)[2] <- \"ano\"\n",
    "names(alunos_ano)[3] <- \"total\"\n",
    "\n",
    "str(alunos_ano)\n",
    "head(alunos_ano)"
   ]
  },
  {
   "cell_type": "code",
   "execution_count": 79,
   "metadata": {},
   "outputs": [
    {
     "name": "stdout",
     "output_type": "stream",
     "text": [
      "'data.frame':\t45 obs. of  3 variables:\n",
      " $ ano  : Factor w/ 9 levels \"2009\",\"2010\",..: 1 2 3 4 5 6 7 8 9 1 ...\n",
      " $ freq : Factor w/ 5 levels \"1\",\"2\",\"3\",\"4\",..: 1 1 1 1 1 1 1 1 1 2 ...\n",
      " $ total: int  9993 14295 12775 15606 17553 17454 17082 16245 17567 288 ...\n"
     ]
    },
    {
     "data": {
      "text/html": [
       "<table>\n",
       "<thead><tr><th></th><th scope=col>ano</th><th scope=col>freq</th><th scope=col>total</th></tr></thead>\n",
       "<tbody>\n",
       "\t<tr><th scope=row>10</th><td>2009 </td><td>1    </td><td> 9993</td></tr>\n",
       "\t<tr><th scope=row>11</th><td>2010 </td><td>1    </td><td>14295</td></tr>\n",
       "\t<tr><th scope=row>12</th><td>2011 </td><td>1    </td><td>12775</td></tr>\n",
       "\t<tr><th scope=row>13</th><td>2012 </td><td>1    </td><td>15606</td></tr>\n",
       "\t<tr><th scope=row>14</th><td>2013 </td><td>1    </td><td>17553</td></tr>\n",
       "\t<tr><th scope=row>15</th><td>2014 </td><td>1    </td><td>17454</td></tr>\n",
       "</tbody>\n",
       "</table>\n"
      ],
      "text/latex": [
       "\\begin{tabular}{r|lll}\n",
       "  & ano & freq & total\\\\\n",
       "\\hline\n",
       "\t10 & 2009  & 1     &  9993\\\\\n",
       "\t11 & 2010  & 1     & 14295\\\\\n",
       "\t12 & 2011  & 1     & 12775\\\\\n",
       "\t13 & 2012  & 1     & 15606\\\\\n",
       "\t14 & 2013  & 1     & 17553\\\\\n",
       "\t15 & 2014  & 1     & 17454\\\\\n",
       "\\end{tabular}\n"
      ],
      "text/markdown": [
       "\n",
       "| <!--/--> | ano | freq | total | \n",
       "|---|---|---|---|---|---|\n",
       "| 10 | 2009  | 1     |  9993 | \n",
       "| 11 | 2010  | 1     | 14295 | \n",
       "| 12 | 2011  | 1     | 12775 | \n",
       "| 13 | 2012  | 1     | 15606 | \n",
       "| 14 | 2013  | 1     | 17553 | \n",
       "| 15 | 2014  | 1     | 17454 | \n",
       "\n",
       "\n"
      ],
      "text/plain": [
       "   ano  freq total\n",
       "10 2009 1     9993\n",
       "11 2010 1    14295\n",
       "12 2011 1    12775\n",
       "13 2012 1    15606\n",
       "14 2013 1    17553\n",
       "15 2014 1    17454"
      ]
     },
     "metadata": {},
     "output_type": "display_data"
    }
   ],
   "source": [
    "frequencia_ano <- as.data.frame(table(alunos_ano$ano, alunos_ano$total))\n",
    "\n",
    "names(frequencia_ano)[1] <- \"ano\"\n",
    "names(frequencia_ano)[2] <- \"freq\"\n",
    "names(frequencia_ano)[3] <- \"total\"\n",
    "\n",
    "frequencia_ano <- frequencia_ano[!(frequencia_ano$freq==0),]\n",
    "frequencia_ano <- droplevels(frequencia_ano)\n",
    "\n",
    "str(frequencia_ano)\n",
    "head(frequencia_ano)"
   ]
  },
  {
   "cell_type": "code",
   "execution_count": 81,
   "metadata": {},
   "outputs": [
    {
     "data": {
      "image/png": "[encoded data removed]",
      "text/plain": [
       "plot without title"
      ]
     },
     "metadata": {},
     "output_type": "display_data"
    }
   ],
   "source": [
    "myplot <- ggplot(frequencia_ano,aes(ano,total,fill=freq))+\n",
    "   geom_bar(position=\"dodge\",stat=\"identity\")#+\n",
    "#    facet_wrap(~ano,nrow=3)\n",
    "\n",
    "print(myplot)"
   ]
  },
  {
   "cell_type": "code",
   "execution_count": 82,
   "metadata": {
    "collapsed": true
   },
   "outputs": [],
   "source": [
    "alunos_ano <- arrange(alunos_ano,desc(total))"
   ]
  },
  {
   "cell_type": "code",
   "execution_count": 83,
   "metadata": {},
   "outputs": [
    {
     "data": {
      "text/html": [
       "<table>\n",
       "<thead><tr><th scope=col>nome</th><th scope=col>ano</th><th scope=col>total</th></tr></thead>\n",
       "<tbody>\n",
       "\t<tr><td>ALESON BELO DA SILVA                 </td><td>2013                                 </td><td>5                                    </td></tr>\n",
       "\t<tr><td>FELIPE DIDIER GAMEIRO                </td><td>2013                                 </td><td>5                                    </td></tr>\n",
       "\t<tr><td>JOÃO BATISTA DA SILVA                </td><td>2009                                 </td><td>4                                    </td></tr>\n",
       "\t<tr><td>SAYONARA OLIVEIRA FREITAS            </td><td>2010                                 </td><td>4                                    </td></tr>\n",
       "\t<tr><td>ANA PAULA PEREIRA DO NASCIMENTO SILVA</td><td>2010                                 </td><td>4                                    </td></tr>\n",
       "\t<tr><td>MARIA DAS GRAÇAS DA SILVA            </td><td>2012                                 </td><td>4                                    </td></tr>\n",
       "</tbody>\n",
       "</table>\n"
      ],
      "text/latex": [
       "\\begin{tabular}{r|lll}\n",
       " nome & ano & total\\\\\n",
       "\\hline\n",
       "\t ALESON BELO DA SILVA                  & 2013                                  & 5                                    \\\\\n",
       "\t FELIPE DIDIER GAMEIRO                 & 2013                                  & 5                                    \\\\\n",
       "\t JOÃO BATISTA DA SILVA                 & 2009                                  & 4                                    \\\\\n",
       "\t SAYONARA OLIVEIRA FREITAS             & 2010                                  & 4                                    \\\\\n",
       "\t ANA PAULA PEREIRA DO NASCIMENTO SILVA & 2010                                  & 4                                    \\\\\n",
       "\t MARIA DAS GRAÇAS DA SILVA             & 2012                                  & 4                                    \\\\\n",
       "\\end{tabular}\n"
      ],
      "text/markdown": [
       "\n",
       "nome | ano | total | \n",
       "|---|---|---|---|---|---|\n",
       "| ALESON BELO DA SILVA                  | 2013                                  | 5                                     | \n",
       "| FELIPE DIDIER GAMEIRO                 | 2013                                  | 5                                     | \n",
       "| JOÃO BATISTA DA SILVA                 | 2009                                  | 4                                     | \n",
       "| SAYONARA OLIVEIRA FREITAS             | 2010                                  | 4                                     | \n",
       "| ANA PAULA PEREIRA DO NASCIMENTO SILVA | 2010                                  | 4                                     | \n",
       "| MARIA DAS GRAÇAS DA SILVA             | 2012                                  | 4                                     | \n",
       "\n",
       "\n"
      ],
      "text/plain": [
       "  nome                                  ano  total\n",
       "1 ALESON BELO DA SILVA                  2013 5    \n",
       "2 FELIPE DIDIER GAMEIRO                 2013 5    \n",
       "3 JOÃO BATISTA DA SILVA                 2009 4    \n",
       "4 SAYONARA OLIVEIRA FREITAS             2010 4    \n",
       "5 ANA PAULA PEREIRA DO NASCIMENTO SILVA 2010 4    \n",
       "6 MARIA DAS GRAÇAS DA SILVA             2012 4    "
      ]
     },
     "metadata": {},
     "output_type": "display_data"
    }
   ],
   "source": [
    "head(alunos_ano)"
   ]
  },
  {
   "cell_type": "code",
   "execution_count": 84,
   "metadata": {},
   "outputs": [
    {
     "data": {
      "text/html": [
       "<table>\n",
       "<thead><tr><th></th><th scope=col>matricula</th><th scope=col>nome_discente</th><th scope=col>ano_ingresso</th><th scope=col>periodo_ingresso</th><th scope=col>forma_ingresso</th><th scope=col>tipo_discente</th><th scope=col>status</th><th scope=col>sigla_nivel_ensino</th><th scope=col>nivel_ensino</th><th scope=col>id_curso</th><th scope=col>nome_curso</th><th scope=col>modalidade_educacao</th><th scope=col>id_unidade</th><th scope=col>nome_unidade</th><th scope=col>id_unidade_gestora</th><th scope=col>nome_unidade_gestora</th></tr></thead>\n",
       "<tbody>\n",
       "\t<tr><th scope=row>58560</th><td>2013065893                                                             </td><td>ALESON BELO DA SILVA                                                   </td><td>2013                                                                   </td><td>2                                                                      </td><td>SiSU                                                                   </td><td>REGULAR                                                                </td><td>CANCELADO                                                              </td><td>G                                                                      </td><td>GRADUAÇÃO                                                              </td><td>  2000002                                                              </td><td>ADMINISTRAÇÃO                                                          </td><td>PRESENCIAL                                                             </td><td> 443                                                                   </td><td>CENTRO DE CIÊNCIAS SOCIAIS APLICADAS                                   </td><td>443                                                                    </td><td>CENTRO DE CIÊNCIAS SOCIAIS APLICADAS                                   </td></tr>\n",
       "\t<tr><th scope=row>58561</th><td>2013082132                                                             </td><td>ALESON BELO DA SILVA                                                   </td><td>2013                                                                   </td><td>2                                                                      </td><td>SiSU                                                                   </td><td>REGULAR                                                                </td><td>ATIVO                                                                  </td><td>G                                                                      </td><td>GRADUAÇÃO                                                              </td><td>  2000029                                                              </td><td>ENGENHARIA DE PRODUÇÃO                                                 </td><td>PRESENCIAL                                                             </td><td> 445                                                                   </td><td>CENTRO DE TECNOLOGIA                                                   </td><td>445                                                                    </td><td>CENTRO DE TECNOLOGIA                                                   </td></tr>\n",
       "\t<tr><th scope=row>58562</th><td>2013042558                                                             </td><td>ALESON BELO DA SILVA                                                   </td><td>2013                                                                   </td><td>1                                                                      </td><td>SiSU                                                                   </td><td>REGULAR                                                                </td><td>CANCELADO                                                              </td><td>G                                                                      </td><td>GRADUAÇÃO                                                              </td><td>111635066                                                              </td><td>MATEMÁTICA                                                             </td><td>PRESENCIAL                                                             </td><td> 439                                                                   </td><td>CENTRO DE CIÊNCIAS EXATAS E DA TERRA                                   </td><td>439                                                                    </td><td>CENTRO DE CIÊNCIAS EXATAS E DA TERRA                                   </td></tr>\n",
       "\t<tr><th scope=row>58563</th><td>2013046600                                                             </td><td>ALESON BELO DA SILVA                                                   </td><td>2013                                                                   </td><td>1                                                                      </td><td>SiSU                                                                   </td><td>REGULAR                                                                </td><td>CANCELADO                                                              </td><td>G                                                                      </td><td>GRADUAÇÃO                                                              </td><td> 92127264                                                              </td><td>TECNOLOGIA DA INFORMAÇÃO                                               </td><td>PRESENCIAL                                                             </td><td>6069                                                                   </td><td>INSTITUTO METROPOLE DIGITAL                                            </td><td>605                                                                    </td><td>UNIVERSIDADE FEDERAL DO RIO GRANDE DO NORTE                            </td></tr>\n",
       "\t<tr><th scope=row>58564</th><td>2013315118                                                             </td><td>ALESON BELO DA SILVA                                                   </td><td>2013                                                                   </td><td>1                                                                      </td><td>PROCESSO SELETIVO                                                      </td><td>REGULAR                                                                </td><td>CANCELADO                                                              </td><td>T                                                                      </td><td>TÉCNICO                                                                </td><td> 96054058                                                              </td><td>CURSO TÉCNICO DA METRÓPOLE DIGITAL                                     </td><td>SEMI-PRESENCIAL                                                        </td><td>6069                                                                   </td><td>INSTITUTO METROPOLE DIGITAL                                            </td><td>605                                                                    </td><td>UNIVERSIDADE FEDERAL DO RIO GRANDE DO NORTE                            </td></tr>\n",
       "\t<tr><th scope=row>120000</th><td>2016500620                                                             </td><td>ALESON BELO DA SILVA                                                   </td><td>2016                                                                   </td><td>1                                                                      </td><td>PROCESSO SELETIVO                                                      </td><td>REGULAR                                                                </td><td>ATIVO                                                                  </td><td>F                                                                      </td><td>FORMAÇÃO COMPLEMENTAR                                                  </td><td> 86980317                                                              </td><td>CURSO DE LÍNGUA ESPANHOLA - BÁSICO                                     </td><td>PRESENCIAL                                                             </td><td>6042                                                                   </td><td>INSTITUTO ÁGORA - LÍNGUAS, LITERATURAS E CULTURAS ESTRANGEIRAS MODERNAS</td><td>442                                                                    </td><td>CENTRO DE CIÊNCIAS HUMANAS, LETRAS E ARTES                             </td></tr>\n",
       "</tbody>\n",
       "</table>\n"
      ],
      "text/latex": [
       "\\begin{tabular}{r|llllllllllllllll}\n",
       "  & matricula & nome\\_discente & ano\\_ingresso & periodo\\_ingresso & forma\\_ingresso & tipo\\_discente & status & sigla\\_nivel\\_ensino & nivel\\_ensino & id\\_curso & nome\\_curso & modalidade\\_educacao & id\\_unidade & nome\\_unidade & id\\_unidade\\_gestora & nome\\_unidade\\_gestora\\\\\n",
       "\\hline\n",
       "\t58560 & 2013065893                                                              & ALESON BELO DA SILVA                                                    & 2013                                                                    & 2                                                                       & SiSU                                                                    & REGULAR                                                                 & CANCELADO                                                               & G                                                                       & GRADUAÇÃO                                                               &   2000002                                                               & ADMINISTRAÇÃO                                                           & PRESENCIAL                                                              &  443                                                                    & CENTRO DE CIÊNCIAS SOCIAIS APLICADAS                                    & 443                                                                     & CENTRO DE CIÊNCIAS SOCIAIS APLICADAS                                   \\\\\n",
       "\t58561 & 2013082132                                                              & ALESON BELO DA SILVA                                                    & 2013                                                                    & 2                                                                       & SiSU                                                                    & REGULAR                                                                 & ATIVO                                                                   & G                                                                       & GRADUAÇÃO                                                               &   2000029                                                               & ENGENHARIA DE PRODUÇÃO                                                  & PRESENCIAL                                                              &  445                                                                    & CENTRO DE TECNOLOGIA                                                    & 445                                                                     & CENTRO DE TECNOLOGIA                                                   \\\\\n",
       "\t58562 & 2013042558                                                              & ALESON BELO DA SILVA                                                    & 2013                                                                    & 1                                                                       & SiSU                                                                    & REGULAR                                                                 & CANCELADO                                                               & G                                                                       & GRADUAÇÃO                                                               & 111635066                                                               & MATEMÁTICA                                                              & PRESENCIAL                                                              &  439                                                                    & CENTRO DE CIÊNCIAS EXATAS E DA TERRA                                    & 439                                                                     & CENTRO DE CIÊNCIAS EXATAS E DA TERRA                                   \\\\\n",
       "\t58563 & 2013046600                                                              & ALESON BELO DA SILVA                                                    & 2013                                                                    & 1                                                                       & SiSU                                                                    & REGULAR                                                                 & CANCELADO                                                               & G                                                                       & GRADUAÇÃO                                                               &  92127264                                                               & TECNOLOGIA DA INFORMAÇÃO                                                & PRESENCIAL                                                              & 6069                                                                    & INSTITUTO METROPOLE DIGITAL                                             & 605                                                                     & UNIVERSIDADE FEDERAL DO RIO GRANDE DO NORTE                            \\\\\n",
       "\t58564 & 2013315118                                                              & ALESON BELO DA SILVA                                                    & 2013                                                                    & 1                                                                       & PROCESSO SELETIVO                                                       & REGULAR                                                                 & CANCELADO                                                               & T                                                                       & TÉCNICO                                                                 &  96054058                                                               & CURSO TÉCNICO DA METRÓPOLE DIGITAL                                      & SEMI-PRESENCIAL                                                         & 6069                                                                    & INSTITUTO METROPOLE DIGITAL                                             & 605                                                                     & UNIVERSIDADE FEDERAL DO RIO GRANDE DO NORTE                            \\\\\n",
       "\t120000 & 2016500620                                                              & ALESON BELO DA SILVA                                                    & 2016                                                                    & 1                                                                       & PROCESSO SELETIVO                                                       & REGULAR                                                                 & ATIVO                                                                   & F                                                                       & FORMAÇÃO COMPLEMENTAR                                                   &  86980317                                                               & CURSO DE LÍNGUA ESPANHOLA - BÁSICO                                      & PRESENCIAL                                                              & 6042                                                                    & INSTITUTO ÁGORA - LÍNGUAS, LITERATURAS E CULTURAS ESTRANGEIRAS MODERNAS & 442                                                                     & CENTRO DE CIÊNCIAS HUMANAS, LETRAS E ARTES                             \\\\\n",
       "\\end{tabular}\n"
      ],
      "text/markdown": [
       "\n",
       "| <!--/--> | matricula | nome_discente | ano_ingresso | periodo_ingresso | forma_ingresso | tipo_discente | status | sigla_nivel_ensino | nivel_ensino | id_curso | nome_curso | modalidade_educacao | id_unidade | nome_unidade | id_unidade_gestora | nome_unidade_gestora | \n",
       "|---|---|---|---|---|---|\n",
       "| 58560 | 2013065893                                                              | ALESON BELO DA SILVA                                                    | 2013                                                                    | 2                                                                       | SiSU                                                                    | REGULAR                                                                 | CANCELADO                                                               | G                                                                       | GRADUAÇÃO                                                               |   2000002                                                               | ADMINISTRAÇÃO                                                           | PRESENCIAL                                                              |  443                                                                    | CENTRO DE CIÊNCIAS SOCIAIS APLICADAS                                    | 443                                                                     | CENTRO DE CIÊNCIAS SOCIAIS APLICADAS                                    | \n",
       "| 58561 | 2013082132                                                              | ALESON BELO DA SILVA                                                    | 2013                                                                    | 2                                                                       | SiSU                                                                    | REGULAR                                                                 | ATIVO                                                                   | G                                                                       | GRADUAÇÃO                                                               |   2000029                                                               | ENGENHARIA DE PRODUÇÃO                                                  | PRESENCIAL                                                              |  445                                                                    | CENTRO DE TECNOLOGIA                                                    | 445                                                                     | CENTRO DE TECNOLOGIA                                                    | \n",
       "| 58562 | 2013042558                                                              | ALESON BELO DA SILVA                                                    | 2013                                                                    | 1                                                                       | SiSU                                                                    | REGULAR                                                                 | CANCELADO                                                               | G                                                                       | GRADUAÇÃO                                                               | 111635066                                                               | MATEMÁTICA                                                              | PRESENCIAL                                                              |  439                                                                    | CENTRO DE CIÊNCIAS EXATAS E DA TERRA                                    | 439                                                                     | CENTRO DE CIÊNCIAS EXATAS E DA TERRA                                    | \n",
       "| 58563 | 2013046600                                                              | ALESON BELO DA SILVA                                                    | 2013                                                                    | 1                                                                       | SiSU                                                                    | REGULAR                                                                 | CANCELADO                                                               | G                                                                       | GRADUAÇÃO                                                               |  92127264                                                               | TECNOLOGIA DA INFORMAÇÃO                                                | PRESENCIAL                                                              | 6069                                                                    | INSTITUTO METROPOLE DIGITAL                                             | 605                                                                     | UNIVERSIDADE FEDERAL DO RIO GRANDE DO NORTE                             | \n",
       "| 58564 | 2013315118                                                              | ALESON BELO DA SILVA                                                    | 2013                                                                    | 1                                                                       | PROCESSO SELETIVO                                                       | REGULAR                                                                 | CANCELADO                                                               | T                                                                       | TÉCNICO                                                                 |  96054058                                                               | CURSO TÉCNICO DA METRÓPOLE DIGITAL                                      | SEMI-PRESENCIAL                                                         | 6069                                                                    | INSTITUTO METROPOLE DIGITAL                                             | 605                                                                     | UNIVERSIDADE FEDERAL DO RIO GRANDE DO NORTE                             | \n",
       "| 120000 | 2016500620                                                              | ALESON BELO DA SILVA                                                    | 2016                                                                    | 1                                                                       | PROCESSO SELETIVO                                                       | REGULAR                                                                 | ATIVO                                                                   | F                                                                       | FORMAÇÃO COMPLEMENTAR                                                   |  86980317                                                               | CURSO DE LÍNGUA ESPANHOLA - BÁSICO                                      | PRESENCIAL                                                              | 6042                                                                    | INSTITUTO ÁGORA - LÍNGUAS, LITERATURAS E CULTURAS ESTRANGEIRAS MODERNAS | 442                                                                     | CENTRO DE CIÊNCIAS HUMANAS, LETRAS E ARTES                              | \n",
       "\n",
       "\n"
      ],
      "text/plain": [
       "       matricula  nome_discente        ano_ingresso periodo_ingresso\n",
       "58560  2013065893 ALESON BELO DA SILVA 2013         2               \n",
       "58561  2013082132 ALESON BELO DA SILVA 2013         2               \n",
       "58562  2013042558 ALESON BELO DA SILVA 2013         1               \n",
       "58563  2013046600 ALESON BELO DA SILVA 2013         1               \n",
       "58564  2013315118 ALESON BELO DA SILVA 2013         1               \n",
       "120000 2016500620 ALESON BELO DA SILVA 2016         1               \n",
       "       forma_ingresso    tipo_discente status    sigla_nivel_ensino\n",
       "58560  SiSU              REGULAR       CANCELADO G                 \n",
       "58561  SiSU              REGULAR       ATIVO     G                 \n",
       "58562  SiSU              REGULAR       CANCELADO G                 \n",
       "58563  SiSU              REGULAR       CANCELADO G                 \n",
       "58564  PROCESSO SELETIVO REGULAR       CANCELADO T                 \n",
       "120000 PROCESSO SELETIVO REGULAR       ATIVO     F                 \n",
       "       nivel_ensino          id_curso  nome_curso                        \n",
       "58560  GRADUAÇÃO               2000002 ADMINISTRAÇÃO                     \n",
       "58561  GRADUAÇÃO               2000029 ENGENHARIA DE PRODUÇÃO            \n",
       "58562  GRADUAÇÃO             111635066 MATEMÁTICA                        \n",
       "58563  GRADUAÇÃO              92127264 TECNOLOGIA DA INFORMAÇÃO          \n",
       "58564  TÉCNICO                96054058 CURSO TÉCNICO DA METRÓPOLE DIGITAL\n",
       "120000 FORMAÇÃO COMPLEMENTAR  86980317 CURSO DE LÍNGUA ESPANHOLA - BÁSICO\n",
       "       modalidade_educacao id_unidade\n",
       "58560  PRESENCIAL           443      \n",
       "58561  PRESENCIAL           445      \n",
       "58562  PRESENCIAL           439      \n",
       "58563  PRESENCIAL          6069      \n",
       "58564  SEMI-PRESENCIAL     6069      \n",
       "120000 PRESENCIAL          6042      \n",
       "       nome_unidade                                                           \n",
       "58560  CENTRO DE CIÊNCIAS SOCIAIS APLICADAS                                   \n",
       "58561  CENTRO DE TECNOLOGIA                                                   \n",
       "58562  CENTRO DE CIÊNCIAS EXATAS E DA TERRA                                   \n",
       "58563  INSTITUTO METROPOLE DIGITAL                                            \n",
       "58564  INSTITUTO METROPOLE DIGITAL                                            \n",
       "120000 INSTITUTO ÁGORA - LÍNGUAS, LITERATURAS E CULTURAS ESTRANGEIRAS MODERNAS\n",
       "       id_unidade_gestora nome_unidade_gestora                       \n",
       "58560  443                CENTRO DE CIÊNCIAS SOCIAIS APLICADAS       \n",
       "58561  445                CENTRO DE TECNOLOGIA                       \n",
       "58562  439                CENTRO DE CIÊNCIAS EXATAS E DA TERRA       \n",
       "58563  605                UNIVERSIDADE FEDERAL DO RIO GRANDE DO NORTE\n",
       "58564  605                UNIVERSIDADE FEDERAL DO RIO GRANDE DO NORTE\n",
       "120000 442                CENTRO DE CIÊNCIAS HUMANAS, LETRAS E ARTES "
      ]
     },
     "metadata": {},
     "output_type": "display_data"
    }
   ],
   "source": [
    "subset(discentes, nome_discente == \"ALESON BELO DA SILVA\")"
   ]
  },
  {
   "cell_type": "markdown",
   "metadata": {},
   "source": [
    "### - Estudos a Parte"
   ]
  },
  {
   "cell_type": "code",
   "execution_count": 6,
   "metadata": {},
   "outputs": [
    {
     "data": {
      "text/plain": [
       "   matricula                                 nome_discente     ano_ingresso \n",
       " Min.   :2.009e+08   MARIA APARECIDA DA SILVA       :    17   Min.   :2009  \n",
       " 1st Qu.:2.011e+09   MAÍSA CARVALHO DE SOUZA VIEGA  :    14   1st Qu.:2011  \n",
       " Median :2.014e+09   MARINHO BEZERRA DE ARAUJO FILHO:    12   Median :2013  \n",
       " Mean   :7.238e+09   MARIA CLARA QUEIROZ DE SOUSA   :    11   Mean   :2013  \n",
       " 3rd Qu.:2.015e+10   ANA CAROLINA MORAIS SALES      :    10   3rd Qu.:2015  \n",
       " Max.   :2.018e+10   RIVALDO FERNANDES PEREIRA      :    10   Max.   :2017  \n",
       " NA's   :2           (Other)                        :157118                 \n",
       " periodo_ingresso                       forma_ingresso   tipo_discente   \n",
       " Min.   :0.00     PROCESSO SELETIVO            :48179   ESPECIAL: 12440  \n",
       " 1st Qu.:1.00     VESTIBULAR                   :37057   REGULAR :144752  \n",
       " Median :1.00     SiSU                         :30623                    \n",
       " Mean   :1.39     SELEÇÃO DE PÓS-GRADUAÇÃO     :16431                    \n",
       " 3rd Qu.:2.00     ALUNO ESPECIAL POS-GRADUACAO :10833                    \n",
       " Max.   :3.00     REOCUPAÇÃO DE VAGAS RESIDUAIS: 3107                    \n",
       " NA's   :349      (Other)                      :10962                    \n",
       "              status      sigla_nivel_ensino                nivel_ensino  \n",
       " CANCELADO       :56565   G      :78426      GRADUAÇÃO            :78426  \n",
       " ATIVO           :53274   T      :23844      TÉCNICO              :23844  \n",
       " CONCLUÍDO       :39893   E      :19496      MESTRADO             :19496  \n",
       " TRANCADO        : 2930   L      :16417      LATO SENSU           :16417  \n",
       " ATIVO - FORMANDO: 2846   F      :10352      FORMAÇÃO COMPLEMENTAR:10352  \n",
       " CADASTRADO      :  732   D      : 5964      DOUTORADO            : 5964  \n",
       " (Other)         :  952   (Other): 2693      (Other)              : 2693  \n",
       "    id_curso                                         nome_curso    \n",
       " Min.   :     4970                                        : 12440  \n",
       " 1st Qu.:  2000044   CIÊNCIAS E TECNOLOGIA                : 10222  \n",
       " Median : 10320810   CURSO TÉCNICO DA METRÓPOLE DIGITAL   : 10150  \n",
       " Mean   : 45708085   PEDAGOGIA                            :  3298  \n",
       " 3rd Qu.: 96054058   CURSO DE LÍNGUA INGLESA \\u0096 BÁSICO:  3038  \n",
       " Max.   :126501266   GEOGRAFIA                            :  2929  \n",
       " NA's   :12440       (Other)                              :115115  \n",
       "      modalidade_educacao   id_unidade   \n",
       "                : 12441   Min.   :    2  \n",
       " A DISTÂNCIA    : 19202   1st Qu.:  376  \n",
       " PRESENCIAL     :112301   Median :  442  \n",
       " SEMI-PRESENCIAL: 13248   Mean   : 2138  \n",
       "                          3rd Qu.: 4885  \n",
       "                          Max.   :10490  \n",
       "                          NA's   :12440  \n",
       "                                     nome_unidade   id_unidade_gestora\n",
       " CENTRO DE CIÊNCIAS HUMANAS, LETRAS E ARTES:13776   Min.   : 285      \n",
       "                                           :12440   1st Qu.: 442      \n",
       " INSTITUTO METROPOLE DIGITAL               :10399   Median : 443      \n",
       " ESCOLA DE CIÊNCIAS E TECNOLOGIA           :10222   Mean   : 815      \n",
       " CENTRO DE CIÊNCIAS SOCIAIS APLICADAS      :10150   3rd Qu.: 605      \n",
       " CENTRO DE CIÊNCIAS DA SAÚDE               : 8522   Max.   :5965      \n",
       " (Other)                                   :91683   NA's   :12440     \n",
       "                                  nome_unidade_gestora\n",
       " UNIVERSIDADE FEDERAL DO RIO GRANDE DO NORTE:43869    \n",
       " CENTRO DE CIÊNCIAS HUMANAS, LETRAS E ARTES :28208    \n",
       " CENTRO DE CIÊNCIAS SOCIAIS APLICADAS       :14668    \n",
       " CENTRO DE CIÊNCIAS DA SAÚDE                :14616    \n",
       "                                            :12440    \n",
       " CENTRO DE CIÊNCIAS EXATAS E DA TERRA       :12396    \n",
       " (Other)                                    :30995    "
      ]
     },
     "metadata": {},
     "output_type": "display_data"
    }
   ],
   "source": [
    "summary(discentes)"
   ]
  },
  {
   "cell_type": "code",
   "execution_count": 7,
   "metadata": {},
   "outputs": [
    {
     "name": "stdout",
     "output_type": "stream",
     "text": [
      "'data.frame':\t157192 obs. of  16 variables:\n",
      " $ matricula           : num  2.01e+09 2.01e+09 2.01e+09 2.01e+09 2.01e+09 ...\n",
      " $ nome_discente       : Factor w/ 107089 levels \"Abdias Beserra Pereira Júnior\",..: 1 2 3 4 5 6 7 8 9 10 ...\n",
      " $ ano_ingresso        : int  2009 2009 2009 2009 2009 2009 2009 2009 2009 2009 ...\n",
      " $ periodo_ingresso    : int  1 2 2 2 2 1 1 2 2 2 ...\n",
      " $ forma_ingresso      : Factor w/ 46 levels \"ACORDO COM A UNIVERSIDADE DE COIMBRA\",..: 27 22 27 27 4 4 27 27 4 27 ...\n",
      " $ tipo_discente       : Factor w/ 2 levels \"ESPECIAL\",\"REGULAR\": 2 2 2 2 1 1 2 2 1 2 ...\n",
      " $ status              : Factor w/ 9 levels \"ATIVO\",\"ATIVO - FORMANDO\",..: 4 5 4 5 4 4 5 4 4 5 ...\n",
      " $ sigla_nivel_ensino  : Factor w/ 12 levels \"D\",\"E\",\"G\",\"L\",..: 3 1 3 3 2 1 3 3 2 3 ...\n",
      " $ nivel_ensino        : Factor w/ 12 levels \"DOUTORADO\",\"FUNDAMENTAL\",..: 3 1 3 3 6 1 3 3 6 3 ...\n",
      " $ id_curso            : int  111635057 9300591 2000121 10426760 NA NA 9295710 10320810 NA 2000068 ...\n",
      " $ nome_curso          : Factor w/ 616 levels \"\",\"ADMINISTRAÇÃO\",..: 80 36 49 77 1 1 11 13 1 141 ...\n",
      " $ modalidade_educacao : Factor w/ 4 levels \"\",\"A DISTÂNCIA\",..: 3 3 3 3 1 1 2 3 1 3 ...\n",
      " $ id_unidade          : int  442 4847 440 442 NA NA 440 4885 NA 443 ...\n",
      " $ nome_unidade        : Factor w/ 187 levels \"\",\"CENTRO DE  ENSINO SUPERIOR DO SERIDÓ\",..: 6 35 3 6 1 1 3 16 1 7 ...\n",
      " $ id_unidade_gestora  : int  442 441 440 442 NA NA 440 605 NA 443 ...\n",
      " $ nome_unidade_gestora: Factor w/ 14 levels \"\",\"CENTRO DE  ENSINO SUPERIOR DO SERIDÓ\",..: 6 4 3 6 1 1 3 11 1 7 ...\n"
     ]
    }
   ],
   "source": [
    "str(discentes)"
   ]
  },
  {
   "cell_type": "code",
   "execution_count": 9,
   "metadata": {},
   "outputs": [],
   "source": [
    "# calculando os valores NAs no dataset\n",
    "\n",
    "total <- nrow(discentes)\n",
    "na_matricula <- sum(is.na(discentes$matricula))\n",
    "na_nome_discente <- sum(is.na(discentes$nome_discente))\n",
    "na_ano_ingresso <- sum(is.na(discentes$ano_ingresso))\n",
    "na_periodo_ingresso <- sum(is.na(discentes$periodo_ingresso))\n",
    "na_forma_ingresso <- sum(is.na(discentes$forma_ingresso))\n",
    "na_tipo_discente <- sum(is.na(discentes$tipo_discente))\n",
    "na_status <- sum(is.na(discentes$status))\n",
    "na_sigla_nivel_ensino <- sum(is.na(discentes$sigla_nivel_ensino))\n",
    "na_nivel_ensino <- sum(is.na(discentes$nivel_ensino))\n",
    "na_id_curso <- sum(is.na(discentes$id_curso))\n",
    "na_nome_curso <- sum(is.na(discentes$nome_curso))\n",
    "na_modalidade_educacao <- sum(is.na(discentes$modalidade_educacao))\n",
    "na_id_unidade <- sum(is.na(discentes$id_unidade))\n",
    "na_nome_unidade <- sum(is.na(discentes$nome_unidade))\n",
    "na_id_unidade_gestora <- sum(is.na(discentes$id_unidade_gestora))\n",
    "na_nome_unidade_gestora <- sum(is.na(discentes$nome_unidade_gestora))"
   ]
  },
  {
   "cell_type": "code",
   "execution_count": 10,
   "metadata": {},
   "outputs": [
    {
     "data": {
      "text/html": [
       "'0.00% para Matricula'"
      ],
      "text/latex": [
       "'0.00\\% para Matricula'"
      ],
      "text/markdown": [
       "'0.00% para Matricula'"
      ],
      "text/plain": [
       "[1] \"0.00% para Matricula\""
      ]
     },
     "metadata": {},
     "output_type": "display_data"
    },
    {
     "data": {
      "text/html": [
       "'0.00% para Nome Discente'"
      ],
      "text/latex": [
       "'0.00\\% para Nome Discente'"
      ],
      "text/markdown": [
       "'0.00% para Nome Discente'"
      ],
      "text/plain": [
       "[1] \"0.00% para Nome Discente\""
      ]
     },
     "metadata": {},
     "output_type": "display_data"
    },
    {
     "data": {
      "text/html": [
       "'0.00% para Ano Ingresso'"
      ],
      "text/latex": [
       "'0.00\\% para Ano Ingresso'"
      ],
      "text/markdown": [
       "'0.00% para Ano Ingresso'"
      ],
      "text/plain": [
       "[1] \"0.00% para Ano Ingresso\""
      ]
     },
     "metadata": {},
     "output_type": "display_data"
    },
    {
     "data": {
      "text/html": [
       "'0.22% para Periodo Ingresso'"
      ],
      "text/latex": [
       "'0.22\\% para Periodo Ingresso'"
      ],
      "text/markdown": [
       "'0.22% para Periodo Ingresso'"
      ],
      "text/plain": [
       "[1] \"0.22% para Periodo Ingresso\""
      ]
     },
     "metadata": {},
     "output_type": "display_data"
    },
    {
     "data": {
      "text/html": [
       "'0.00% para Forma Ingresso'"
      ],
      "text/latex": [
       "'0.00\\% para Forma Ingresso'"
      ],
      "text/markdown": [
       "'0.00% para Forma Ingresso'"
      ],
      "text/plain": [
       "[1] \"0.00% para Forma Ingresso\""
      ]
     },
     "metadata": {},
     "output_type": "display_data"
    },
    {
     "data": {
      "text/html": [
       "'0.00% para Tipo Discente'"
      ],
      "text/latex": [
       "'0.00\\% para Tipo Discente'"
      ],
      "text/markdown": [
       "'0.00% para Tipo Discente'"
      ],
      "text/plain": [
       "[1] \"0.00% para Tipo Discente\""
      ]
     },
     "metadata": {},
     "output_type": "display_data"
    },
    {
     "data": {
      "text/html": [
       "'0.00% para Status'"
      ],
      "text/latex": [
       "'0.00\\% para Status'"
      ],
      "text/markdown": [
       "'0.00% para Status'"
      ],
      "text/plain": [
       "[1] \"0.00% para Status\""
      ]
     },
     "metadata": {},
     "output_type": "display_data"
    },
    {
     "data": {
      "text/html": [
       "'0.00% para Sg Nivel Ensino'"
      ],
      "text/latex": [
       "'0.00\\% para Sg Nivel Ensino'"
      ],
      "text/markdown": [
       "'0.00% para Sg Nivel Ensino'"
      ],
      "text/plain": [
       "[1] \"0.00% para Sg Nivel Ensino\""
      ]
     },
     "metadata": {},
     "output_type": "display_data"
    },
    {
     "data": {
      "text/html": [
       "'0.00% para Nivel Ensino'"
      ],
      "text/latex": [
       "'0.00\\% para Nivel Ensino'"
      ],
      "text/markdown": [
       "'0.00% para Nivel Ensino'"
      ],
      "text/plain": [
       "[1] \"0.00% para Nivel Ensino\""
      ]
     },
     "metadata": {},
     "output_type": "display_data"
    },
    {
     "data": {
      "text/html": [
       "'7.91% para Id Curso'"
      ],
      "text/latex": [
       "'7.91\\% para Id Curso'"
      ],
      "text/markdown": [
       "'7.91% para Id Curso'"
      ],
      "text/plain": [
       "[1] \"7.91% para Id Curso\""
      ]
     },
     "metadata": {},
     "output_type": "display_data"
    },
    {
     "data": {
      "text/html": [
       "'0.00% para Nome Curso'"
      ],
      "text/latex": [
       "'0.00\\% para Nome Curso'"
      ],
      "text/markdown": [
       "'0.00% para Nome Curso'"
      ],
      "text/plain": [
       "[1] \"0.00% para Nome Curso\""
      ]
     },
     "metadata": {},
     "output_type": "display_data"
    },
    {
     "data": {
      "text/html": [
       "'0.00% para Modalidaed'"
      ],
      "text/latex": [
       "'0.00\\% para Modalidaed'"
      ],
      "text/markdown": [
       "'0.00% para Modalidaed'"
      ],
      "text/plain": [
       "[1] \"0.00% para Modalidaed\""
      ]
     },
     "metadata": {},
     "output_type": "display_data"
    },
    {
     "data": {
      "text/html": [
       "'7.91% para Id Unidade'"
      ],
      "text/latex": [
       "'7.91\\% para Id Unidade'"
      ],
      "text/markdown": [
       "'7.91% para Id Unidade'"
      ],
      "text/plain": [
       "[1] \"7.91% para Id Unidade\""
      ]
     },
     "metadata": {},
     "output_type": "display_data"
    },
    {
     "data": {
      "text/html": [
       "'0.00% para Nome Unidade'"
      ],
      "text/latex": [
       "'0.00\\% para Nome Unidade'"
      ],
      "text/markdown": [
       "'0.00% para Nome Unidade'"
      ],
      "text/plain": [
       "[1] \"0.00% para Nome Unidade\""
      ]
     },
     "metadata": {},
     "output_type": "display_data"
    },
    {
     "data": {
      "text/html": [
       "'7.91% para Id Unidade Gestora'"
      ],
      "text/latex": [
       "'7.91\\% para Id Unidade Gestora'"
      ],
      "text/markdown": [
       "'7.91% para Id Unidade Gestora'"
      ],
      "text/plain": [
       "[1] \"7.91% para Id Unidade Gestora\""
      ]
     },
     "metadata": {},
     "output_type": "display_data"
    },
    {
     "data": {
      "text/html": [
       "'0.00% para Unidade Gestora'"
      ],
      "text/latex": [
       "'0.00\\% para Unidade Gestora'"
      ],
      "text/markdown": [
       "'0.00% para Unidade Gestora'"
      ],
      "text/plain": [
       "[1] \"0.00% para Unidade Gestora\""
      ]
     },
     "metadata": {},
     "output_type": "display_data"
    }
   ],
   "source": [
    "sprintf(\"%.2f%% para Matricula\", (na_matricula/total)*100)\n",
    "sprintf(\"%.2f%% para Nome Discente\", (na_nome_discente/total)*100)\n",
    "sprintf(\"%.2f%% para Ano Ingresso\", (na_ano_ingresso/total)*100)\n",
    "sprintf(\"%.2f%% para Periodo Ingresso\", (na_periodo_ingresso/total)*100)\n",
    "sprintf(\"%.2f%% para Forma Ingresso\", (na_forma_ingresso/total)*100)\n",
    "sprintf(\"%.2f%% para Tipo Discente\", (na_tipo_discente/total)*100)\n",
    "sprintf(\"%.2f%% para Status\", (na_status/total)*100)\n",
    "sprintf(\"%.2f%% para Sg Nivel Ensino\", (na_sigla_nivel_ensino/total)*100)\n",
    "sprintf(\"%.2f%% para Nivel Ensino\", (na_nivel_ensino/total)*100)\n",
    "sprintf(\"%.2f%% para Id Curso\", (na_id_curso/total)*100)\n",
    "sprintf(\"%.2f%% para Nome Curso\", (na_nome_curso/total)*100)\n",
    "sprintf(\"%.2f%% para Modalidaed\", (na_modalidade_educacao/total)*100)\n",
    "sprintf(\"%.2f%% para Id Unidade\", (na_id_unidade/total)*100)\n",
    "sprintf(\"%.2f%% para Nome Unidade\", (na_nome_unidade/total)*100)\n",
    "sprintf(\"%.2f%% para Id Unidade Gestora\", (na_id_unidade_gestora/total)*100)\n",
    "sprintf(\"%.2f%% para Unidade Gestora\", (na_nome_unidade_gestora/total)*100)\n"
   ]
  },
  {
   "cell_type": "code",
   "execution_count": 11,
   "metadata": {},
   "outputs": [],
   "source": [
    "# removendo todos os valores NAs do dataset\n",
    "\n",
    "reduced <- discentes[complete.cases(discentes), ]"
   ]
  },
  {
   "cell_type": "code",
   "execution_count": 12,
   "metadata": {},
   "outputs": [],
   "source": [
    "# salvando o dataset em CSV para facilitar trabalhos futuros\n",
    "setwd(path_save)\n",
    "\n",
    "write.csv(reduced, \"alunos.csv\", row.names=FALSE)"
   ]
  },
  {
   "cell_type": "code",
   "execution_count": null,
   "metadata": {},
   "outputs": [],
   "source": []
  }
 ],
 "metadata": {
  "kernelspec": {
   "display_name": "R",
   "language": "R",
   "name": "ir"
  },
  "language_info": {
   "codemirror_mode": "r",
   "file_extension": ".r",
   "mimetype": "text/x-r-source",
   "name": "R",
   "pygments_lexer": "r",
   "version": "3.4.2"
  }
 },
 "nbformat": 4,
 "nbformat_minor": 2
}
