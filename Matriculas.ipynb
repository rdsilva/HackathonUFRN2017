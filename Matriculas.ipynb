{
 "cells": [
  {
   "cell_type": "markdown",
   "metadata": {},
   "source": [
    "# Objetivo\n",
    "\n",
    "O objetivo deste notebook é avaliar os dados disponíveis no [Portal de Dados Abertos da UFRN](http://dados.ufrn.br/) no grupo `Matriculas`.\n",
    "\n",
    "Assim sendo, a avaliação é apenas quanti-qualitativa para descobrirmos o que podemos extrair a favor do nosso projeto."
   ]
  },
  {
   "cell_type": "markdown",
   "metadata": {},
   "source": [
    "## 1. Bibliotecas"
   ]
  },
  {
   "cell_type": "code",
   "execution_count": 1,
   "metadata": {},
   "outputs": [
    {
     "name": "stderr",
     "output_type": "stream",
     "text": [
      "\n",
      "Attaching package: ‘dplyr’\n",
      "\n",
      "The following objects are masked from ‘package:stats’:\n",
      "\n",
      "    filter, lag\n",
      "\n",
      "The following objects are masked from ‘package:base’:\n",
      "\n",
      "    intersect, setdiff, setequal, union\n",
      "\n"
     ]
    }
   ],
   "source": [
    "library(\"dplyr\")"
   ]
  },
  {
   "cell_type": "markdown",
   "metadata": {},
   "source": [
    "## 2. Dados"
   ]
  },
  {
   "cell_type": "code",
   "execution_count": 2,
   "metadata": {},
   "outputs": [],
   "source": [
    "path_data <- \"/Users/rsilva/Documents/UFRN/Hackathon/UFRN\\ Dados/matriculas\"\n",
    "path_save <- \"/Users/rsilva/Documents/UFRN/Hackathon/Resultados\""
   ]
  },
  {
   "cell_type": "code",
   "execution_count": 3,
   "metadata": {},
   "outputs": [],
   "source": [
    "lista <- c(\"id_turma\", \"id_curso\",\"unidade\",\"nota\",\"reposicao\",\"faltas_unidade\",\"media_final\",\"numero_total_faltas\",\"descricao\")"
   ]
  },
  {
   "cell_type": "code",
   "execution_count": 6,
   "metadata": {},
   "outputs": [
    {
     "data": {
      "text/html": [
       "<table>\n",
       "<thead><tr><th></th><th scope=col>used</th><th scope=col>(Mb)</th><th scope=col>gc trigger</th><th scope=col>(Mb)</th><th scope=col>max used</th><th scope=col>(Mb)</th></tr></thead>\n",
       "<tbody>\n",
       "\t<tr><th scope=row>Ncells</th><td>  578443 </td><td> 30.9    </td><td>  1168576</td><td>  62.5   </td><td>   940480</td><td>  50.3   </td></tr>\n",
       "\t<tr><th scope=row>Vcells</th><td>54944264 </td><td>419.2    </td><td>156537992</td><td>1194.3   </td><td>203535955</td><td>1552.9   </td></tr>\n",
       "</tbody>\n",
       "</table>\n"
      ],
      "text/latex": [
       "\\begin{tabular}{r|llllll}\n",
       "  & used & (Mb) & gc trigger & (Mb) & max used & (Mb)\\\\\n",
       "\\hline\n",
       "\tNcells &   578443  &  30.9     &   1168576 &   62.5    &    940480 &   50.3   \\\\\n",
       "\tVcells & 54944264  & 419.2     & 156537992 & 1194.3    & 203535955 & 1552.9   \\\\\n",
       "\\end{tabular}\n"
      ],
      "text/markdown": [
       "\n",
       "| <!--/--> | used | (Mb) | gc trigger | (Mb) | max used | (Mb) | \n",
       "|---|---|\n",
       "| Ncells |   578443  |  30.9     |   1168576 |   62.5    |    940480 |   50.3    | \n",
       "| Vcells | 54944264  | 419.2     | 156537992 | 1194.3    | 203535955 | 1552.9    | \n",
       "\n",
       "\n"
      ],
      "text/plain": [
       "       used     (Mb)  gc trigger (Mb)   max used  (Mb)  \n",
       "Ncells   578443  30.9   1168576    62.5    940480   50.3\n",
       "Vcells 54944264 419.2 156537992  1194.3 203535955 1552.9"
      ]
     },
     "metadata": {},
     "output_type": "display_data"
    }
   ],
   "source": [
    "## como os script acima dá erro de leitura, visto que os arquivos não mantem o mesmo padrão\n",
    "## irei rodar um laço para abrir cada arquivo, reduzir os parametros de desejo e então unificar tudo\n",
    "## em um unico arquivo para que possamos manipular e identificar padrões\n",
    "\n",
    "setwd(path_data)\n",
    "\n",
    "pattern <- \"matricula-componente\"\n",
    "\n",
    "# listando os arquivos contidos no diretorio\n",
    "listoffiles <- list.files(path_data, pattern = pattern)\n",
    "\n",
    "# abrindo os arquivos da lista\n",
    "# myfiles = lapply(listoffiles, read.csv2)\n",
    "\n",
    "myfiles <- data.frame()\n",
    "\n",
    "for(i in 1:length(listoffiles)){\n",
    "    \n",
    "    strfile <- listoffiles[i]\n",
    "    \n",
    "    file <- read.csv2(strfile, header=TRUE)\n",
    "    \n",
    "    reduced <- subset(file, select=lista)\n",
    "    \n",
    "    if(nrow(myfiles) == 0 & is.data.frame(myfiles)){\n",
    "        myfiles <- reduced\n",
    "    } else {\n",
    "        myfiles <- rbind(myfiles, reduced)\n",
    "    }\n",
    "}\n",
    "\n",
    "gc()"
   ]
  },
  {
   "cell_type": "code",
   "execution_count": 7,
   "metadata": {},
   "outputs": [
    {
     "name": "stdout",
     "output_type": "stream",
     "text": [
      "'data.frame':\t10184029 obs. of  9 variables:\n",
      " $ id_turma           : int  57550758 57550758 57550757 57550757 57550757 57550757 57550539 57550539 57550518 57550518 ...\n",
      " $ id_curso           : int  5400 5400 5400 5400 5400 5400 5400 5400 5401 5401 ...\n",
      " $ unidade            : int  1 2 1 2 1 2 1 2 1 2 ...\n",
      " $ nota               : Factor w/ 3287 levels \"\",\"0\",\"0.0666667\",..: 78 78 585 742 585 585 742 742 2 2 ...\n",
      " $ reposicao          : Factor w/ 3 levels \"\",\"f\",\"t\": 2 2 2 2 2 2 2 2 2 2 ...\n",
      " $ faltas_unidade     : int  0 0 0 0 0 0 0 0 0 0 ...\n",
      " $ media_final        : Factor w/ 165 levels \"\",\"0.00\",\"0.10\",..: 22 22 98 98 92 92 102 102 2 2 ...\n",
      " $ numero_total_faltas: int  0 0 0 0 0 0 0 0 0 0 ...\n",
      " $ descricao          : Factor w/ 19 levels \"APROVADO\",\"CANCELADO\",..: 1 1 1 1 1 1 1 1 9 9 ...\n"
     ]
    }
   ],
   "source": [
    "str(myfiles)"
   ]
  },
  {
   "cell_type": "code",
   "execution_count": 19,
   "metadata": {},
   "outputs": [],
   "source": [
    "# reduzindo os dados para apenas as turmas filtradas \n",
    "\n",
    "setwd(path_save)\n",
    "\n",
    "lst_turmas <- as.list(read.csv2(\"lst_turmas.csv\", header=TRUE)$IdTurmas)\n",
    "\n",
    "# str(lst_turmas)"
   ]
  },
  {
   "cell_type": "code",
   "execution_count": 21,
   "metadata": {},
   "outputs": [
    {
     "name": "stdout",
     "output_type": "stream",
     "text": [
      "'data.frame':\t6998748 obs. of  9 variables:\n",
      " $ id_turma           : int  57547303 57547303 57547303 57547303 57547303 57547303 57547303 57547303 57547303 57547303 ...\n",
      " $ id_curso           : int  2000072 2000072 2000072 2000072 2000072 2000072 2000072 2000072 2000072 2000072 ...\n",
      " $ unidade            : int  1 2 3 1 2 3 1 2 3 1 ...\n",
      " $ nota               : Factor w/ 3287 levels \"\",\"0\",\"0.0666667\",..: 742 742 742 742 432 432 742 432 432 742 ...\n",
      " $ reposicao          : Factor w/ 3 levels \"\",\"f\",\"t\": 2 2 2 2 2 2 2 2 2 2 ...\n",
      " $ faltas_unidade     : int  0 0 0 0 0 0 0 0 0 0 ...\n",
      " $ media_final        : Factor w/ 165 levels \"\",\"0.00\",\"0.10\",..: 102 102 102 85 85 85 85 85 85 98 ...\n",
      " $ numero_total_faltas: int  0 0 0 0 0 0 0 0 0 0 ...\n",
      " $ descricao          : Factor w/ 19 levels \"APROVADO\",\"CANCELADO\",..: 1 1 1 1 1 1 1 1 1 1 ...\n"
     ]
    }
   ],
   "source": [
    "matriculas <- subset(myfiles, id_turma %in% lst_turmas)\n",
    "\n",
    "str(matriculas)\n",
    "\n",
    "# subset(myfiles, id_turma == 1151200)"
   ]
  },
  {
   "cell_type": "code",
   "execution_count": 22,
   "metadata": {},
   "outputs": [
    {
     "data": {
      "text/plain": [
       "    id_turma           id_curso            unidade            nota        \n",
       " Min.   : 1151160   Min.   :     4970   Min.   :1               :1085330  \n",
       " 1st Qu.: 1182214   1st Qu.:  2000030   1st Qu.:1        10     : 549172  \n",
       " Median : 1219810   Median :  2000057   Median :2        9      : 435860  \n",
       " Mean   :16869051   Mean   : 17902963   Mean   :2        0      : 429452  \n",
       " 3rd Qu.:57547987   3rd Qu.: 10320810   3rd Qu.:3        8      : 351152  \n",
       " Max.   :57612405   Max.   :119512361   Max.   :3        8.5    : 279072  \n",
       "                    NA's   :19777       NA's   :729765   (Other):3868710  \n",
       " reposicao   faltas_unidade    media_final      numero_total_faltas\n",
       "  : 729765   Min.   :0               :1220539   Min.   :  0.0      \n",
       " f:6215736   1st Qu.:0        0.00   : 243224   1st Qu.:  0.0      \n",
       " t:  53247   Median :0        7.00   : 220024   Median :  0.0      \n",
       "             Mean   :0        8.00   : 178237   Mean   :  5.2      \n",
       "             3rd Qu.:0        9.00   : 177177   3rd Qu.:  7.0      \n",
       "             Max.   :0        8.50   : 172522   Max.   :481.0      \n",
       "             NA's   :729765   (Other):4787025   NA's   :797789     \n",
       "             descricao      \n",
       " APROVADO         :4432569  \n",
       " APROVADO POR NOTA: 575650  \n",
       " REPROVADO        : 416234  \n",
       " EXCLUIDA         : 304760  \n",
       " MATRICULADO      : 260520  \n",
       " CANCELADO        : 242622  \n",
       " (Other)          : 766393  "
      ]
     },
     "metadata": {},
     "output_type": "display_data"
    }
   ],
   "source": [
    "summary(matriculas)"
   ]
  },
  {
   "cell_type": "code",
   "execution_count": 23,
   "metadata": {},
   "outputs": [],
   "source": [
    "# convertendo todas as entras nulas em valores NA\n",
    "\n",
    "matriculas$nota[matriculas$nota == \"\"] <- NA\n",
    "matriculas$reposicao[matriculas$reposicao == \"\"] <- NA\n",
    "matriculas$media_final[matriculas$media_final == \"\"] <- NA"
   ]
  },
  {
   "cell_type": "code",
   "execution_count": 24,
   "metadata": {},
   "outputs": [],
   "source": [
    "# calcular as porcentagens de valores nulos conforme a sumarização acima e o total de entradas\n",
    "total <- nrow(matriculas)\n",
    "nulo_idturma <- sum(is.na(matriculas$id_turma))\n",
    "nulo_idcurso <- sum(is.na(matriculas$id_curso))\n",
    "nulo_unidade <- sum(is.na(matriculas$unidade))\n",
    "nulo_nota <- sum(is.na(matriculas$nota))\n",
    "nulo_reposicao <- sum(is.na(matriculas$reposicao))\n",
    "nulo_faltasunidade <- sum(is.na(matriculas$faltas_unidade))\n",
    "nulo_mediafinal <- sum(is.na(matriculas$media_final))\n",
    "nulo_totalfaltas <- sum(is.na(matriculas$numero_total_faltas))\n",
    "nulo_descricao <- sum(is.na(matriculas$descricao))"
   ]
  },
  {
   "cell_type": "code",
   "execution_count": 25,
   "metadata": {},
   "outputs": [
    {
     "data": {
      "text/html": [
       "'0.00% para IdTurma'"
      ],
      "text/latex": [
       "'0.00\\% para IdTurma'"
      ],
      "text/markdown": [
       "'0.00% para IdTurma'"
      ],
      "text/plain": [
       "[1] \"0.00% para IdTurma\""
      ]
     },
     "metadata": {},
     "output_type": "display_data"
    },
    {
     "data": {
      "text/html": [
       "'0.28% para IdCurso'"
      ],
      "text/latex": [
       "'0.28\\% para IdCurso'"
      ],
      "text/markdown": [
       "'0.28% para IdCurso'"
      ],
      "text/plain": [
       "[1] \"0.28% para IdCurso\""
      ]
     },
     "metadata": {},
     "output_type": "display_data"
    },
    {
     "data": {
      "text/html": [
       "'10.43% para Unidade'"
      ],
      "text/latex": [
       "'10.43\\% para Unidade'"
      ],
      "text/markdown": [
       "'10.43% para Unidade'"
      ],
      "text/plain": [
       "[1] \"10.43% para Unidade\""
      ]
     },
     "metadata": {},
     "output_type": "display_data"
    },
    {
     "data": {
      "text/html": [
       "'15.51% para Nota'"
      ],
      "text/latex": [
       "'15.51\\% para Nota'"
      ],
      "text/markdown": [
       "'15.51% para Nota'"
      ],
      "text/plain": [
       "[1] \"15.51% para Nota\""
      ]
     },
     "metadata": {},
     "output_type": "display_data"
    },
    {
     "data": {
      "text/html": [
       "'10.43% para Reposição'"
      ],
      "text/latex": [
       "'10.43\\% para Reposição'"
      ],
      "text/markdown": [
       "'10.43% para Reposição'"
      ],
      "text/plain": [
       "[1] \"10.43% para Reposição\""
      ]
     },
     "metadata": {},
     "output_type": "display_data"
    },
    {
     "data": {
      "text/html": [
       "'10.43% para Faltas Unidade'"
      ],
      "text/latex": [
       "'10.43\\% para Faltas Unidade'"
      ],
      "text/markdown": [
       "'10.43% para Faltas Unidade'"
      ],
      "text/plain": [
       "[1] \"10.43% para Faltas Unidade\""
      ]
     },
     "metadata": {},
     "output_type": "display_data"
    },
    {
     "data": {
      "text/html": [
       "'17.44% para Media Final'"
      ],
      "text/latex": [
       "'17.44\\% para Media Final'"
      ],
      "text/markdown": [
       "'17.44% para Media Final'"
      ],
      "text/plain": [
       "[1] \"17.44% para Media Final\""
      ]
     },
     "metadata": {},
     "output_type": "display_data"
    },
    {
     "data": {
      "text/html": [
       "'11.40% para Total Faltas'"
      ],
      "text/latex": [
       "'11.40\\% para Total Faltas'"
      ],
      "text/markdown": [
       "'11.40% para Total Faltas'"
      ],
      "text/plain": [
       "[1] \"11.40% para Total Faltas\""
      ]
     },
     "metadata": {},
     "output_type": "display_data"
    },
    {
     "data": {
      "text/html": [
       "'0.00% para Descricao'"
      ],
      "text/latex": [
       "'0.00\\% para Descricao'"
      ],
      "text/markdown": [
       "'0.00% para Descricao'"
      ],
      "text/plain": [
       "[1] \"0.00% para Descricao\""
      ]
     },
     "metadata": {},
     "output_type": "display_data"
    }
   ],
   "source": [
    "sprintf(\"%.2f%% para IdTurma\", (nulo_idturma/total)*100)\n",
    "sprintf(\"%.2f%% para IdCurso\", (nulo_idcurso/total)*100)\n",
    "sprintf(\"%.2f%% para Unidade\", (nulo_unidade/total)*100)\n",
    "sprintf(\"%.2f%% para Nota\", (nulo_nota/total)*100)\n",
    "sprintf(\"%.2f%% para Reposição\", (nulo_reposicao/total)*100)\n",
    "sprintf(\"%.2f%% para Faltas Unidade\", (nulo_faltasunidade/total)*100)\n",
    "sprintf(\"%.2f%% para Media Final\", (nulo_mediafinal/total)*100)\n",
    "sprintf(\"%.2f%% para Total Faltas\", (nulo_totalfaltas/total)*100)\n",
    "sprintf(\"%.2f%% para Descricao\", (nulo_descricao/total)*100)"
   ]
  },
  {
   "cell_type": "code",
   "execution_count": 26,
   "metadata": {},
   "outputs": [],
   "source": [
    "# removendo todos os valores NAs do dataset\n",
    "\n",
    "reduced <- matriculas[complete.cases(matriculas), ]"
   ]
  },
  {
   "cell_type": "code",
   "execution_count": 29,
   "metadata": {},
   "outputs": [],
   "source": [
    "reduced <- droplevels(reduced)"
   ]
  },
  {
   "cell_type": "code",
   "execution_count": 30,
   "metadata": {},
   "outputs": [
    {
     "name": "stdout",
     "output_type": "stream",
     "text": [
      "'data.frame':\t5747370 obs. of  9 variables:\n",
      " $ id_turma           : int  57547303 57547303 57547303 57547303 57547303 57547303 57547303 57547303 57547303 57547303 ...\n",
      " $ id_curso           : int  2000072 2000072 2000072 2000072 2000072 2000072 2000072 2000072 2000072 2000072 ...\n",
      " $ unidade            : int  1 2 3 1 2 3 1 2 3 1 ...\n",
      " $ nota               : Factor w/ 866 levels \"0\",\"0.0666667\",..: 670 670 670 670 362 362 670 362 362 670 ...\n",
      " $ reposicao          : Factor w/ 2 levels \"f\",\"t\": 1 1 1 1 1 1 1 1 1 1 ...\n",
      " $ faltas_unidade     : int  0 0 0 0 0 0 0 0 0 0 ...\n",
      " $ media_final        : Factor w/ 101 levels \"0.00\",\"0.10\",..: 92 92 92 77 77 77 77 77 77 88 ...\n",
      " $ numero_total_faltas: int  0 0 0 0 0 0 0 0 0 0 ...\n",
      " $ descricao          : Factor w/ 16 levels \"APROVADO\",\"CANCELADO\",..: 1 1 1 1 1 1 1 1 1 1 ...\n"
     ]
    }
   ],
   "source": [
    "str(reduced)"
   ]
  },
  {
   "cell_type": "markdown",
   "metadata": {},
   "source": [
    "## 3. Exportando os Resultados"
   ]
  },
  {
   "cell_type": "code",
   "execution_count": 31,
   "metadata": {},
   "outputs": [],
   "source": [
    "# salvando o dataset em CSV para facilitar trabalhos futuros\n",
    "setwd(path_save)\n",
    "\n",
    "write.csv(reduced, \"matriculas.csv\", row.names=FALSE)"
   ]
  },
  {
   "cell_type": "markdown",
   "metadata": {},
   "source": []
  },
  {
   "cell_type": "code",
   "execution_count": null,
   "metadata": {},
   "outputs": [],
   "source": []
  },
  {
   "cell_type": "code",
   "execution_count": null,
   "metadata": {},
   "outputs": [],
   "source": []
  }
 ],
 "metadata": {
  "kernelspec": {
   "display_name": "R",
   "language": "R",
   "name": "ir"
  },
  "language_info": {
   "codemirror_mode": "r",
   "file_extension": ".r",
   "mimetype": "text/x-r-source",
   "name": "R",
   "pygments_lexer": "r",
   "version": "3.4.2"
  }
 },
 "nbformat": 4,
 "nbformat_minor": 2
}
