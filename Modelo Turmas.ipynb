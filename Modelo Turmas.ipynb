{
 "cells": [
  {
   "cell_type": "markdown",
   "metadata": {},
   "source": [
    "## Objetivo\n",
    "\n",
    "Este notebook deve unificar os 4 datasets criados a partir dos dados abertos da UFRN. São eles: `Alunos`, `Componentes`, `Matriculas` e `Turmas`.\n",
    "\n",
    "Infelizmente não é possível relacionar os dados dos Alunos com os das Matriculas, assim sendo, para criar o modelo necessário para predizer se o aluno tem chance de ser aprovado na disciplina, usaremos apenas os 3 últimos datasets listados acima."
   ]
  },
  {
   "cell_type": "markdown",
   "metadata": {},
   "source": [
    "### 1. Bibliotecas"
   ]
  },
  {
   "cell_type": "code",
   "execution_count": 1,
   "metadata": {},
   "outputs": [
    {
     "name": "stderr",
     "output_type": "stream",
     "text": [
      "\n",
      "Attaching package: ‘dplyr’\n",
      "\n",
      "The following objects are masked from ‘package:stats’:\n",
      "\n",
      "    filter, lag\n",
      "\n",
      "The following objects are masked from ‘package:base’:\n",
      "\n",
      "    intersect, setdiff, setequal, union\n",
      "\n"
     ]
    }
   ],
   "source": [
    "library(\"dplyr\")"
   ]
  },
  {
   "cell_type": "markdown",
   "metadata": {},
   "source": [
    "### 2. Dados"
   ]
  },
  {
   "cell_type": "code",
   "execution_count": 2,
   "metadata": {
    "collapsed": true
   },
   "outputs": [],
   "source": [
    "path <- \"/home/navi/RDS/HackathonUFRN/resultados\""
   ]
  },
  {
   "cell_type": "code",
   "execution_count": 3,
   "metadata": {
    "collapsed": true
   },
   "outputs": [],
   "source": [
    "setwd(path)\n",
    "\n",
    "componentes <- read.csv2(\"componentes.csv\", header=T, sep=\",\")\n",
    "matriculas <- read.csv2(\"matriculas.csv\", header=T, sep=\",\")\n",
    "turmas <- read.csv2(\"turmas.csv\", header=T, sep=\",\")"
   ]
  },
  {
   "cell_type": "code",
   "execution_count": 4,
   "metadata": {},
   "outputs": [
    {
     "name": "stdout",
     "output_type": "stream",
     "text": [
      "'data.frame':\t67988 obs. of  8 variables:\n",
      " $ id_componente          : int  20001 20001 20001 20002 20003 20003 20003 20003 20003 20003 ...\n",
      " $ id_curriculo           : int  104850 104848 104849 125003 107690 107680 107687 107676 107674 107685 ...\n",
      " $ semestre_oferta        : int  4 4 4 3 6 9 6 9 7 6 ...\n",
      " $ tipo_vinculo_componente: Factor w/ 3 levels \"COMPLEMENTAR\",..: 2 2 2 2 3 2 3 2 2 3 ...\n",
      " $ nivel_ensino           : Factor w/ 1 level \"GRADUAÇÃO\": 1 1 1 1 1 1 1 1 1 1 ...\n",
      " $ nome                   : Factor w/ 10298 levels \"A  QUESTÃO DO HUMANO\",..: 5710 5710 5710 7685 561 561 561 561 561 561 ...\n",
      " $ unidade_responsavel    : Factor w/ 152 levels \"CB - COORDENAÇÃO DO CURSO DE CIÊNCIAS BIOLÓGICAS - LICENCIATURA\",..: 77 77 77 12 74 74 74 74 74 74 ...\n",
      " $ ch_total               : int  60 60 60 90 60 60 60 60 60 60 ...\n"
     ]
    }
   ],
   "source": [
    "str(componentes)"
   ]
  },
  {
   "cell_type": "code",
   "execution_count": 5,
   "metadata": {},
   "outputs": [
    {
     "name": "stdout",
     "output_type": "stream",
     "text": [
      "'data.frame':\t5747370 obs. of  9 variables:\n",
      " $ id_turma           : int  57547303 57547303 57547303 57547303 57547303 57547303 57547303 57547303 57547303 57547303 ...\n",
      " $ id_curso           : int  2000072 2000072 2000072 2000072 2000072 2000072 2000072 2000072 2000072 2000072 ...\n",
      " $ unidade            : int  1 2 3 1 2 3 1 2 3 1 ...\n",
      " $ nota               : Factor w/ 866 levels \"0\",\"0.0666667\",..: 746 746 746 746 420 420 746 420 420 746 ...\n",
      " $ reposicao          : Factor w/ 2 levels \"f\",\"t\": 1 1 1 1 1 1 1 1 1 1 ...\n",
      " $ faltas_unidade     : int  0 0 0 0 0 0 0 0 0 0 ...\n",
      " $ media_final        : Factor w/ 101 levels \"0.00\",\"0.10\",..: 92 92 92 77 77 77 77 77 77 88 ...\n",
      " $ numero_total_faltas: int  0 0 0 0 0 0 0 0 0 0 ...\n",
      " $ descricao          : Factor w/ 16 levels \"APROVADO\",\"APROVADO POR NOTA\",..: 1 1 1 1 1 1 1 1 1 1 ...\n"
     ]
    }
   ],
   "source": [
    "str(matriculas)"
   ]
  },
  {
   "cell_type": "code",
   "execution_count": 6,
   "metadata": {},
   "outputs": [
    {
     "name": "stdout",
     "output_type": "stream",
     "text": [
      "'data.frame':\t104612 obs. of  6 variables:\n",
      " $ id_turma                : int  1151160 1151161 1151162 1151178 1151178 1151179 1151179 1151200 1151200 1151201 ...\n",
      " $ id_componente_curricular: int  24054 24061 25843 23857 23857 23857 23857 23667 23667 23646 ...\n",
      " $ nivel_ensino            : Factor w/ 1 level \"GRADUAÇÃO\": 1 1 1 1 1 1 1 1 1 1 ...\n",
      " $ periodo                 : int  1 1 1 1 1 1 1 1 1 1 ...\n",
      " $ descricao_horario       : Factor w/ 10000 levels \"234567M12345  234567T123\",..: 4390 9246 4351 1886 1886 1886 1886 9395 9395 9395 ...\n",
      " $ tipo                    : Factor w/ 3 levels \"ENSINO INDIVIDUAL\",..: 2 2 2 2 2 2 2 1 1 1 ...\n"
     ]
    }
   ],
   "source": [
    "str(turmas)"
   ]
  },
  {
   "cell_type": "code",
   "execution_count": 7,
   "metadata": {
    "collapsed": true
   },
   "outputs": [],
   "source": [
    "tmp_1 <- merge(matriculas, turmas, by=\"id_turma\")"
   ]
  },
  {
   "cell_type": "code",
   "execution_count": 8,
   "metadata": {},
   "outputs": [
    {
     "name": "stdout",
     "output_type": "stream",
     "text": [
      "'data.frame':\t15538888 obs. of  14 variables:\n",
      " $ id_turma                : int  1151160 1151160 1151160 1151161 1151161 1151161 1151162 1151162 1151162 1151178 ...\n",
      " $ id_curso                : int  2000029 2000029 2000029 2000029 2000029 2000029 2000029 2000029 2000029 2000056 ...\n",
      " $ unidade                 : int  2 3 1 3 1 2 2 1 3 3 ...\n",
      " $ nota                    : Factor w/ 866 levels \"0\",\"0.0666667\",..: 1 1 1 248 581 581 266 420 581 617 ...\n",
      " $ reposicao               : Factor w/ 2 levels \"f\",\"t\": 1 1 1 1 1 1 1 1 1 1 ...\n",
      " $ faltas_unidade          : int  0 0 0 0 0 0 0 0 0 0 ...\n",
      " $ media_final             : Factor w/ 101 levels \"0.00\",\"0.10\",..: 1 1 1 72 72 72 72 72 72 81 ...\n",
      " $ numero_total_faltas     : int  0 0 0 0 0 0 14 14 14 0 ...\n",
      " $ descricao               : Factor w/ 16 levels \"APROVADO\",\"APROVADO POR NOTA\",..: 10 10 10 1 1 1 1 1 1 1 ...\n",
      " $ id_componente_curricular: int  24054 24054 24054 24061 24061 24061 25843 25843 25843 23857 ...\n",
      " $ nivel_ensino            : Factor w/ 1 level \"GRADUAÇÃO\": 1 1 1 1 1 1 1 1 1 1 ...\n",
      " $ periodo                 : int  1 1 1 1 1 1 1 1 1 1 ...\n",
      " $ descricao_horario       : Factor w/ 10000 levels \"234567M12345  234567T123\",..: 4390 4390 4390 9246 9246 9246 4351 4351 4351 1886 ...\n",
      " $ tipo                    : Factor w/ 3 levels \"ENSINO INDIVIDUAL\",..: 2 2 2 2 2 2 2 2 2 2 ...\n"
     ]
    }
   ],
   "source": [
    "str(tmp_1)"
   ]
  },
  {
   "cell_type": "code",
   "execution_count": 9,
   "metadata": {},
   "outputs": [
    {
     "data": {
      "text/html": [
       "<table>\n",
       "<thead><tr><th scope=col>id_turma</th><th scope=col>id_curso</th><th scope=col>unidade</th><th scope=col>nota</th><th scope=col>reposicao</th><th scope=col>faltas_unidade</th><th scope=col>media_final</th><th scope=col>numero_total_faltas</th><th scope=col>descricao</th><th scope=col>id_componente_curricular</th><th scope=col>nivel_ensino</th><th scope=col>periodo</th><th scope=col>descricao_horario</th><th scope=col>tipo</th></tr></thead>\n",
       "<tbody>\n",
       "\t<tr><td>1151160   </td><td>2000029   </td><td>2         </td><td>0         </td><td>f         </td><td>0         </td><td>0.00      </td><td>0         </td><td>REPROVADO </td><td>24054     </td><td>GRADUAÇÃO </td><td>1         </td><td>35T12     </td><td>REGULAR   </td></tr>\n",
       "\t<tr><td>1151160   </td><td>2000029   </td><td>3         </td><td>0         </td><td>f         </td><td>0         </td><td>0.00      </td><td>0         </td><td>REPROVADO </td><td>24054     </td><td>GRADUAÇÃO </td><td>1         </td><td>35T12     </td><td>REGULAR   </td></tr>\n",
       "\t<tr><td>1151160   </td><td>2000029   </td><td>1         </td><td>0         </td><td>f         </td><td>0         </td><td>0.00      </td><td>0         </td><td>REPROVADO </td><td>24054     </td><td>GRADUAÇÃO </td><td>1         </td><td>35T12     </td><td>REGULAR   </td></tr>\n",
       "\t<tr><td>1151161   </td><td>2000029   </td><td>3         </td><td>5.5       </td><td>f         </td><td>0         </td><td>7.00      </td><td>0         </td><td>APROVADO  </td><td>24061     </td><td>GRADUAÇÃO </td><td>1         </td><td>6T56  5N34</td><td>REGULAR   </td></tr>\n",
       "\t<tr><td>1151161   </td><td>2000029   </td><td>1         </td><td>8         </td><td>f         </td><td>0         </td><td>7.00      </td><td>0         </td><td>APROVADO  </td><td>24061     </td><td>GRADUAÇÃO </td><td>1         </td><td>6T56  5N34</td><td>REGULAR   </td></tr>\n",
       "\t<tr><td>1151161   </td><td>2000029   </td><td>2         </td><td>8         </td><td>f         </td><td>0         </td><td>7.00      </td><td>0         </td><td>APROVADO  </td><td>24061     </td><td>GRADUAÇÃO </td><td>1         </td><td>6T56  5N34</td><td>REGULAR   </td></tr>\n",
       "</tbody>\n",
       "</table>\n"
      ],
      "text/latex": [
       "\\begin{tabular}{r|llllllllllllll}\n",
       " id\\_turma & id\\_curso & unidade & nota & reposicao & faltas\\_unidade & media\\_final & numero\\_total\\_faltas & descricao & id\\_componente\\_curricular & nivel\\_ensino & periodo & descricao\\_horario & tipo\\\\\n",
       "\\hline\n",
       "\t 1151160    & 2000029    & 2          & 0          & f          & 0          & 0.00       & 0          & REPROVADO  & 24054      & GRADUAÇÃO  & 1          & 35T12      & REGULAR   \\\\\n",
       "\t 1151160    & 2000029    & 3          & 0          & f          & 0          & 0.00       & 0          & REPROVADO  & 24054      & GRADUAÇÃO  & 1          & 35T12      & REGULAR   \\\\\n",
       "\t 1151160    & 2000029    & 1          & 0          & f          & 0          & 0.00       & 0          & REPROVADO  & 24054      & GRADUAÇÃO  & 1          & 35T12      & REGULAR   \\\\\n",
       "\t 1151161    & 2000029    & 3          & 5.5        & f          & 0          & 7.00       & 0          & APROVADO   & 24061      & GRADUAÇÃO  & 1          & 6T56  5N34 & REGULAR   \\\\\n",
       "\t 1151161    & 2000029    & 1          & 8          & f          & 0          & 7.00       & 0          & APROVADO   & 24061      & GRADUAÇÃO  & 1          & 6T56  5N34 & REGULAR   \\\\\n",
       "\t 1151161    & 2000029    & 2          & 8          & f          & 0          & 7.00       & 0          & APROVADO   & 24061      & GRADUAÇÃO  & 1          & 6T56  5N34 & REGULAR   \\\\\n",
       "\\end{tabular}\n"
      ],
      "text/markdown": [
       "\n",
       "id_turma | id_curso | unidade | nota | reposicao | faltas_unidade | media_final | numero_total_faltas | descricao | id_componente_curricular | nivel_ensino | periodo | descricao_horario | tipo | \n",
       "|---|---|---|---|---|---|\n",
       "| 1151160    | 2000029    | 2          | 0          | f          | 0          | 0.00       | 0          | REPROVADO  | 24054      | GRADUAÇÃO  | 1          | 35T12      | REGULAR    | \n",
       "| 1151160    | 2000029    | 3          | 0          | f          | 0          | 0.00       | 0          | REPROVADO  | 24054      | GRADUAÇÃO  | 1          | 35T12      | REGULAR    | \n",
       "| 1151160    | 2000029    | 1          | 0          | f          | 0          | 0.00       | 0          | REPROVADO  | 24054      | GRADUAÇÃO  | 1          | 35T12      | REGULAR    | \n",
       "| 1151161    | 2000029    | 3          | 5.5        | f          | 0          | 7.00       | 0          | APROVADO   | 24061      | GRADUAÇÃO  | 1          | 6T56  5N34 | REGULAR    | \n",
       "| 1151161    | 2000029    | 1          | 8          | f          | 0          | 7.00       | 0          | APROVADO   | 24061      | GRADUAÇÃO  | 1          | 6T56  5N34 | REGULAR    | \n",
       "| 1151161    | 2000029    | 2          | 8          | f          | 0          | 7.00       | 0          | APROVADO   | 24061      | GRADUAÇÃO  | 1          | 6T56  5N34 | REGULAR    | \n",
       "\n",
       "\n"
      ],
      "text/plain": [
       "  id_turma id_curso unidade nota reposicao faltas_unidade media_final\n",
       "1 1151160  2000029  2       0    f         0              0.00       \n",
       "2 1151160  2000029  3       0    f         0              0.00       \n",
       "3 1151160  2000029  1       0    f         0              0.00       \n",
       "4 1151161  2000029  3       5.5  f         0              7.00       \n",
       "5 1151161  2000029  1       8    f         0              7.00       \n",
       "6 1151161  2000029  2       8    f         0              7.00       \n",
       "  numero_total_faltas descricao id_componente_curricular nivel_ensino periodo\n",
       "1 0                   REPROVADO 24054                    GRADUAÇÃO    1      \n",
       "2 0                   REPROVADO 24054                    GRADUAÇÃO    1      \n",
       "3 0                   REPROVADO 24054                    GRADUAÇÃO    1      \n",
       "4 0                   APROVADO  24061                    GRADUAÇÃO    1      \n",
       "5 0                   APROVADO  24061                    GRADUAÇÃO    1      \n",
       "6 0                   APROVADO  24061                    GRADUAÇÃO    1      \n",
       "  descricao_horario tipo   \n",
       "1 35T12             REGULAR\n",
       "2 35T12             REGULAR\n",
       "3 35T12             REGULAR\n",
       "4 6T56  5N34        REGULAR\n",
       "5 6T56  5N34        REGULAR\n",
       "6 6T56  5N34        REGULAR"
      ]
     },
     "metadata": {},
     "output_type": "display_data"
    }
   ],
   "source": [
    "head(tmp_1)"
   ]
  },
  {
   "cell_type": "code",
   "execution_count": 11,
   "metadata": {},
   "outputs": [
    {
     "name": "stdout",
     "output_type": "stream",
     "text": [
      "[1] \"0% para id_turma\"\n",
      "[1] \"0% para id_curso\"\n",
      "[1] \"0% para unidade\"\n",
      "[1] \"0% para nota\"\n",
      "[1] \"0% para reposicao\"\n",
      "[1] \"0% para faltas_unidade\"\n",
      "[1] \"0% para media_final\"\n",
      "[1] \"0% para numero_total_faltas\"\n",
      "[1] \"0% para descricao\"\n",
      "[1] \"0% para id_componente_curricular\"\n",
      "[1] \"0% para nivel_ensino\"\n",
      "[1] \"0% para periodo\"\n",
      "[1] \"0% para descricao_horario\"\n",
      "[1] \"0% para tipo\"\n"
     ]
    }
   ],
   "source": [
    "lista_nomes <- names(tmp_1)\n",
    "total <- nrow(tmp_1)\n",
    "\n",
    "for(i in 1:length(lista_nomes)){\n",
    "    percent <- ((sum(is.na(tmp_1[,i])))/total)*100\n",
    "    str <- paste(percent, \"% para \", lista_nomes[i], sep=\"\")\n",
    "    print(str)\n",
    "}"
   ]
  },
  {
   "cell_type": "code",
   "execution_count": 12,
   "metadata": {},
   "outputs": [
    {
     "name": "stdout",
     "output_type": "stream",
     "text": [
      "'data.frame':\t15538888 obs. of  14 variables:\n",
      " $ id_turma           : int  1151160 1151160 1151160 1151161 1151161 1151161 1151162 1151162 1151162 1151178 ...\n",
      " $ id_curso           : int  2000029 2000029 2000029 2000029 2000029 2000029 2000029 2000029 2000029 2000056 ...\n",
      " $ unidade            : int  2 3 1 3 1 2 2 1 3 3 ...\n",
      " $ nota               : Factor w/ 866 levels \"0\",\"0.0666667\",..: 1 1 1 248 581 581 266 420 581 617 ...\n",
      " $ reposicao          : Factor w/ 2 levels \"f\",\"t\": 1 1 1 1 1 1 1 1 1 1 ...\n",
      " $ faltas_unidade     : int  0 0 0 0 0 0 0 0 0 0 ...\n",
      " $ media_final        : Factor w/ 101 levels \"0.00\",\"0.10\",..: 1 1 1 72 72 72 72 72 72 81 ...\n",
      " $ numero_total_faltas: int  0 0 0 0 0 0 14 14 14 0 ...\n",
      " $ descricao          : Factor w/ 16 levels \"APROVADO\",\"APROVADO POR NOTA\",..: 10 10 10 1 1 1 1 1 1 1 ...\n",
      " $ id_componente      : int  24054 24054 24054 24061 24061 24061 25843 25843 25843 23857 ...\n",
      " $ nivel_ensino       : Factor w/ 1 level \"GRADUAÇÃO\": 1 1 1 1 1 1 1 1 1 1 ...\n",
      " $ periodo            : int  1 1 1 1 1 1 1 1 1 1 ...\n",
      " $ descricao_horario  : Factor w/ 10000 levels \"234567M12345  234567T123\",..: 4390 4390 4390 9246 9246 9246 4351 4351 4351 1886 ...\n",
      " $ tipo               : Factor w/ 3 levels \"ENSINO INDIVIDUAL\",..: 2 2 2 2 2 2 2 2 2 2 ...\n"
     ]
    }
   ],
   "source": [
    "names(tmp_1)[10] <- \"id_componente\"\n",
    "\n",
    "str(tmp_1)"
   ]
  },
  {
   "cell_type": "code",
   "execution_count": 13,
   "metadata": {},
   "outputs": [
    {
     "data": {
      "text/plain": [
       "    id_turma           id_curso            unidade           nota         \n",
       " Min.   : 1151160   Min.   :  2000002   Min.   :1.000   10     :  944229  \n",
       " 1st Qu.: 1181265   1st Qu.:  2000053   1st Qu.:1.000   9      :  852302  \n",
       " Median : 1219928   Median :  2000056   Median :2.000   8      :  775321  \n",
       " Mean   :18136622   Mean   : 11763644   Mean   :1.936   8.5    :  679560  \n",
       " 3rd Qu.:57563255   3rd Qu.:  2000066   3rd Qu.:3.000   0      :  572066  \n",
       " Max.   :57612401   Max.   :119512361   Max.   :3.000   7      :  516144  \n",
       "                                                        (Other):11199266  \n",
       " reposicao    faltas_unidade  media_final       numero_total_faltas\n",
       " f:15435677   Min.   :0      7.00   :  583301   Min.   :  0.000    \n",
       " t:  103211   1st Qu.:0      8.00   :  573587   1st Qu.:  0.000    \n",
       "              Median :0      8.50   :  541839   Median :  0.000    \n",
       "              Mean   :0      8.30   :  509971   Mean   :  4.857    \n",
       "              3rd Qu.:0      8.20   :  500310   3rd Qu.:  6.000    \n",
       "              Max.   :0      7.70   :  490855   Max.   :481.000    \n",
       "                             (Other):12339025                      \n",
       "                            descricao        id_componente    \n",
       " APROVADO                        :12636967   Min.   :  20001  \n",
       " APROVADO POR NOTA               : 1570924   1st Qu.:  24940  \n",
       " REPROVADO                       :  638725   Median :  51532  \n",
       " REPROVADO POR MÉDIA E POR FALTAS:  284672   Mean   : 431396  \n",
       " MATRICULADO                     :  222113   3rd Qu.:  58250  \n",
       " CANCELADO                       :  123926   Max.   :2056212  \n",
       " (Other)                         :   61561                    \n",
       "    nivel_ensino         periodo              descricao_horario   \n",
       " GRADUAÇÃO:15538888   Min.   :1.000   246M12           :  626327  \n",
       "                      1st Qu.:1.000   2M2345 3456M23456:  307080  \n",
       "                      Median :1.000   35M12            :  264641  \n",
       "                      Mean   :1.462   35N12            :  200007  \n",
       "                      3rd Qu.:2.000   3T123            :  191794  \n",
       "                      Max.   :2.000   25M345 346M34    :  179297  \n",
       "                                      (Other)          :13769742  \n",
       "                           tipo         \n",
       " ENSINO INDIVIDUAL           :    4320  \n",
       " REGULAR                     :15534490  \n",
       " REPOSIÇÃO NO PERÍODO REGULAR:      78  \n",
       "                                        \n",
       "                                        \n",
       "                                        \n",
       "                                        "
      ]
     },
     "metadata": {},
     "output_type": "display_data"
    }
   ],
   "source": [
    "summary(tmp_1)"
   ]
  },
  {
   "cell_type": "code",
   "execution_count": 14,
   "metadata": {},
   "outputs": [
    {
     "data": {
      "text/plain": [
       " id_componente      id_curriculo       semestre_oferta  tipo_vinculo_componente\n",
       " Min.   :  20001   Min.   :   100851   Min.   : 0.000   COMPLEMENTAR:   85     \n",
       " 1st Qu.:  23302   1st Qu.:   119626   1st Qu.: 0.000   OBRIGATÓRIO :34232     \n",
       " Median :  25799   Median :   137336   Median : 3.000   OPTATIVO    :33671     \n",
       " Mean   : 249747   Mean   : 35583700   Mean   : 3.437                          \n",
       " 3rd Qu.:  43639   3rd Qu.: 86537522   3rd Qu.: 6.000                          \n",
       " Max.   :2056212   Max.   :421273697   Max.   :13.000                          \n",
       "                                                                               \n",
       "    nivel_ensino                               nome      \n",
       " GRADUAÇÃO:67988   EDUCACAO FISICA I             :  469  \n",
       "                   EDUCACAO FISICA II            :  464  \n",
       "                   ESTUDO DE PROB BRASILEIROS I  :  416  \n",
       "                   ESTUDOS DE PROB BRASILEIROS II:  413  \n",
       "                   ENADE - INGRESSANTE           :  355  \n",
       "                   ENADE - CONCLUINTE            :  354  \n",
       "                   (Other)                       :65517  \n",
       "                                        unidade_responsavel    ch_total     \n",
       " DEPARTAMENTO DE LETRAS                           : 6775    Min.   :  0.00  \n",
       " DEPARTAMENTO DE EDUCAÇÃO                         : 5948    1st Qu.: 60.00  \n",
       " ESCOLA DE CIÊNCIAS E TECNOLOGIA                  : 2362    Median : 60.00  \n",
       " DEPARTAMENTO DE PSICOLOGIA                       : 2242    Mean   : 62.72  \n",
       " DEPARTAMENTO DE CIÊNCIAS ADMINISTRATIVAS         : 1988    3rd Qu.: 60.00  \n",
       " DEPARTAMENTO DE INFORMÁTICA E MATEMÁTICA APLICADA: 1921    Max.   :900.00  \n",
       " (Other)                                          :46752                    "
      ]
     },
     "metadata": {},
     "output_type": "display_data"
    }
   ],
   "source": [
    "summary(componentes)"
   ]
  },
  {
   "cell_type": "code",
   "execution_count": 15,
   "metadata": {
    "collapsed": true
   },
   "outputs": [],
   "source": [
    "tmp_2 <- merge(tmp_1, componentes, by=\"id_componente\")"
   ]
  },
  {
   "cell_type": "code",
   "execution_count": 16,
   "metadata": {},
   "outputs": [
    {
     "name": "stdout",
     "output_type": "stream",
     "text": [
      "'data.frame':\t84257331 obs. of  21 variables:\n",
      " $ id_componente          : int  20001 20001 20001 20001 20001 20001 20001 20001 20001 20001 ...\n",
      " $ id_turma               : int  57550203 57550203 57550203 1178290 1178290 1178290 1208301 1208301 1208301 1175105 ...\n",
      " $ id_curso               : int  2000016 2000016 2000016 2000016 2000016 2000016 2000016 2000016 2000016 2000016 ...\n",
      " $ unidade                : int  1 1 1 1 1 1 2 2 2 1 ...\n",
      " $ nota                   : Factor w/ 866 levels \"0\",\"0.0666667\",..: 746 746 746 64 64 64 64 64 64 64 ...\n",
      " $ reposicao              : Factor w/ 2 levels \"f\",\"t\": 1 1 1 1 1 1 1 1 1 1 ...\n",
      " $ faltas_unidade         : int  0 0 0 0 0 0 0 0 0 0 ...\n",
      " $ media_final            : Factor w/ 101 levels \"0.00\",\"0.10\",..: 99 99 99 21 21 21 21 21 21 21 ...\n",
      " $ numero_total_faltas    : int  0 0 0 0 0 0 0 0 0 0 ...\n",
      " $ descricao              : Factor w/ 16 levels \"APROVADO\",\"APROVADO POR NOTA\",..: 1 1 1 1 1 1 1 1 1 1 ...\n",
      " $ nivel_ensino.x         : Factor w/ 1 level \"GRADUAÇÃO\": 1 1 1 1 1 1 1 1 1 1 ...\n",
      " $ periodo                : int  1 1 1 1 1 1 2 2 2 2 ...\n",
      " $ descricao_horario      : Factor w/ 10000 levels \"234567M12345  234567T123\",..: 4351 4351 4351 4351 4351 4351 4471 4471 4471 4471 ...\n",
      " $ tipo                   : Factor w/ 3 levels \"ENSINO INDIVIDUAL\",..: 2 2 2 2 2 2 2 2 2 2 ...\n",
      " $ id_curriculo           : int  104849 104850 104848 104849 104850 104848 104849 104850 104848 104849 ...\n",
      " $ semestre_oferta        : int  4 4 4 4 4 4 4 4 4 4 ...\n",
      " $ tipo_vinculo_componente: Factor w/ 3 levels \"COMPLEMENTAR\",..: 2 2 2 2 2 2 2 2 2 2 ...\n",
      " $ nivel_ensino.y         : Factor w/ 1 level \"GRADUAÇÃO\": 1 1 1 1 1 1 1 1 1 1 ...\n",
      " $ nome                   : Factor w/ 10298 levels \"A  QUESTÃO DO HUMANO\",..: 5710 5710 5710 5710 5710 5710 5710 5710 5710 5710 ...\n",
      " $ unidade_responsavel    : Factor w/ 152 levels \"CB - COORDENAÇÃO DO CURSO DE CIÊNCIAS BIOLÓGICAS - LICENCIATURA\",..: 77 77 77 77 77 77 77 77 77 77 ...\n",
      " $ ch_total               : int  60 60 60 60 60 60 60 60 60 60 ...\n"
     ]
    }
   ],
   "source": [
    "str(tmp_2)"
   ]
  },
  {
   "cell_type": "code",
   "execution_count": 18,
   "metadata": {},
   "outputs": [
    {
     "name": "stdout",
     "output_type": "stream",
     "text": [
      "[1] \"0% para id_componente\"\n",
      "[1] \"0% para id_turma\"\n",
      "[1] \"0% para id_curso\"\n",
      "[1] \"0% para unidade\"\n",
      "[1] \"0% para nota\"\n",
      "[1] \"0% para reposicao\"\n",
      "[1] \"0% para faltas_unidade\"\n",
      "[1] \"0% para media_final\"\n",
      "[1] \"0% para numero_total_faltas\"\n",
      "[1] \"0% para descricao\"\n",
      "[1] \"0% para nivel_ensino.x\"\n",
      "[1] \"0% para periodo\"\n",
      "[1] \"0% para descricao_horario\"\n",
      "[1] \"0% para tipo\"\n",
      "[1] \"0% para id_curriculo\"\n",
      "[1] \"0% para semestre_oferta\"\n",
      "[1] \"0% para tipo_vinculo_componente\"\n",
      "[1] \"0% para nivel_ensino.y\"\n",
      "[1] \"0% para nome\"\n",
      "[1] \"0% para unidade_responsavel\"\n",
      "[1] \"0% para ch_total\"\n"
     ]
    }
   ],
   "source": [
    "lista_nomes <- names(tmp_2)\n",
    "total <- nrow(tmp_2)\n",
    "\n",
    "for(i in 1:length(lista_nomes)){\n",
    "    percent <- ((sum(is.na(tmp_2[,i])))/total)*100\n",
    "    str <- paste(percent, \"% para \", lista_nomes[i], sep=\"\")\n",
    "    print(str)\n",
    "}"
   ]
  },
  {
   "cell_type": "code",
   "execution_count": 20,
   "metadata": {},
   "outputs": [
    {
     "data": {
      "text/html": [
       "<ol class=list-inline>\n",
       "\t<li>'id_componente'</li>\n",
       "\t<li>'id_turma'</li>\n",
       "\t<li>'id_curso'</li>\n",
       "\t<li>'unidade'</li>\n",
       "\t<li>'nota'</li>\n",
       "\t<li>'reposicao'</li>\n",
       "\t<li>'faltas_unidade'</li>\n",
       "\t<li>'media_final'</li>\n",
       "\t<li>'numero_total_faltas'</li>\n",
       "\t<li>'descricao'</li>\n",
       "\t<li>'nivel_ensino.x'</li>\n",
       "\t<li>'periodo'</li>\n",
       "\t<li>'descricao_horario'</li>\n",
       "\t<li>'tipo'</li>\n",
       "\t<li>'id_curriculo'</li>\n",
       "\t<li>'semestre_oferta'</li>\n",
       "\t<li>'tipo_vinculo_componente'</li>\n",
       "\t<li>'nivel_ensino.y'</li>\n",
       "\t<li>'nome'</li>\n",
       "\t<li>'unidade_responsavel'</li>\n",
       "\t<li>'ch_total'</li>\n",
       "</ol>\n"
      ],
      "text/latex": [
       "\\begin{enumerate*}\n",
       "\\item 'id\\_componente'\n",
       "\\item 'id\\_turma'\n",
       "\\item 'id\\_curso'\n",
       "\\item 'unidade'\n",
       "\\item 'nota'\n",
       "\\item 'reposicao'\n",
       "\\item 'faltas\\_unidade'\n",
       "\\item 'media\\_final'\n",
       "\\item 'numero\\_total\\_faltas'\n",
       "\\item 'descricao'\n",
       "\\item 'nivel\\_ensino.x'\n",
       "\\item 'periodo'\n",
       "\\item 'descricao\\_horario'\n",
       "\\item 'tipo'\n",
       "\\item 'id\\_curriculo'\n",
       "\\item 'semestre\\_oferta'\n",
       "\\item 'tipo\\_vinculo\\_componente'\n",
       "\\item 'nivel\\_ensino.y'\n",
       "\\item 'nome'\n",
       "\\item 'unidade\\_responsavel'\n",
       "\\item 'ch\\_total'\n",
       "\\end{enumerate*}\n"
      ],
      "text/markdown": [
       "1. 'id_componente'\n",
       "2. 'id_turma'\n",
       "3. 'id_curso'\n",
       "4. 'unidade'\n",
       "5. 'nota'\n",
       "6. 'reposicao'\n",
       "7. 'faltas_unidade'\n",
       "8. 'media_final'\n",
       "9. 'numero_total_faltas'\n",
       "10. 'descricao'\n",
       "11. 'nivel_ensino.x'\n",
       "12. 'periodo'\n",
       "13. 'descricao_horario'\n",
       "14. 'tipo'\n",
       "15. 'id_curriculo'\n",
       "16. 'semestre_oferta'\n",
       "17. 'tipo_vinculo_componente'\n",
       "18. 'nivel_ensino.y'\n",
       "19. 'nome'\n",
       "20. 'unidade_responsavel'\n",
       "21. 'ch_total'\n",
       "\n",
       "\n"
      ],
      "text/plain": [
       " [1] \"id_componente\"           \"id_turma\"               \n",
       " [3] \"id_curso\"                \"unidade\"                \n",
       " [5] \"nota\"                    \"reposicao\"              \n",
       " [7] \"faltas_unidade\"          \"media_final\"            \n",
       " [9] \"numero_total_faltas\"     \"descricao\"              \n",
       "[11] \"nivel_ensino.x\"          \"periodo\"                \n",
       "[13] \"descricao_horario\"       \"tipo\"                   \n",
       "[15] \"id_curriculo\"            \"semestre_oferta\"        \n",
       "[17] \"tipo_vinculo_componente\" \"nivel_ensino.y\"         \n",
       "[19] \"nome\"                    \"unidade_responsavel\"    \n",
       "[21] \"ch_total\"               "
      ]
     },
     "metadata": {},
     "output_type": "display_data"
    }
   ],
   "source": [
    "names(tmp_2)"
   ]
  },
  {
   "cell_type": "code",
   "execution_count": 21,
   "metadata": {
    "collapsed": true
   },
   "outputs": [],
   "source": [
    "write.csv(tmp_2, \"agrupado_20171122.csv\", row.names=FALSE)"
   ]
  },
  {
   "cell_type": "code",
   "execution_count": 5,
   "metadata": {
    "collapsed": true
   },
   "outputs": [],
   "source": [
    "setwd(path)\n",
    "\n",
    "tmp_2 <- read.csv2(\"agrupado_20171122.csv\", header=TRUE, sep=\",\")"
   ]
  },
  {
   "cell_type": "markdown",
   "metadata": {
    "collapsed": true
   },
   "source": [
    "## Gerando o dataset para treinar a RN"
   ]
  },
  {
   "cell_type": "code",
   "execution_count": 31,
   "metadata": {
    "collapsed": true
   },
   "outputs": [],
   "source": [
    "reduced <- subset(tmp_2, select=c('id_componente', 'id_curso', 'ch_total', 'descricao_horario',\n",
    "                                  'periodo', 'descricao'))"
   ]
  },
  {
   "cell_type": "code",
   "execution_count": 35,
   "metadata": {},
   "outputs": [
    {
     "name": "stdout",
     "output_type": "stream",
     "text": [
      "'data.frame':\t84257331 obs. of  6 variables:\n",
      " $ id_componente: int  20001 20001 20001 20001 20001 20001 20001 20001 20001 20001 ...\n",
      " $ id_curso     : int  2000016 2000016 2000016 2000016 2000016 2000016 2000016 2000016 2000016 2000016 ...\n",
      " $ ch_total     : int  60 60 60 60 60 60 60 60 60 60 ...\n",
      " $ horario      : chr  \"N\" \"N\" \"N\" \"N\" ...\n",
      " $ periodo      : int  1 1 1 1 1 1 2 2 2 2 ...\n",
      " $ descricao    : Factor w/ 16 levels \"APROVADO\",\"APROVADO POR NOTA\",..: 1 1 1 1 1 1 1 1 1 1 ...\n"
     ]
    }
   ],
   "source": [
    "str(reduced)"
   ]
  },
  {
   "cell_type": "code",
   "execution_count": 15,
   "metadata": {},
   "outputs": [
    {
     "data": {
      "text/html": [
       "<ol class=list-inline>\n",
       "\t<li>'APROVADO'</li>\n",
       "\t<li>'APROVADO POR NOTA'</li>\n",
       "\t<li>'CANCELADO'</li>\n",
       "\t<li>'CUMPRIU'</li>\n",
       "\t<li>'DESISTENCIA'</li>\n",
       "\t<li>'DISPENSADO'</li>\n",
       "\t<li>'EXCLUIDA'</li>\n",
       "\t<li>'INDEFERIDO'</li>\n",
       "\t<li>'MATRICULADO'</li>\n",
       "\t<li>'REPROVADO'</li>\n",
       "\t<li>'REPROVADO POR FALTAS'</li>\n",
       "\t<li>'REPROVADO POR MÉDIA E POR FALTAS'</li>\n",
       "\t<li>'REPROVADO POR NOTA'</li>\n",
       "\t<li>'REPROVADO POR NOTA E FALTA'</li>\n",
       "\t<li>'TRANCADO'</li>\n",
       "\t<li>'TRANSFERIDO'</li>\n",
       "</ol>\n"
      ],
      "text/latex": [
       "\\begin{enumerate*}\n",
       "\\item 'APROVADO'\n",
       "\\item 'APROVADO POR NOTA'\n",
       "\\item 'CANCELADO'\n",
       "\\item 'CUMPRIU'\n",
       "\\item 'DESISTENCIA'\n",
       "\\item 'DISPENSADO'\n",
       "\\item 'EXCLUIDA'\n",
       "\\item 'INDEFERIDO'\n",
       "\\item 'MATRICULADO'\n",
       "\\item 'REPROVADO'\n",
       "\\item 'REPROVADO POR FALTAS'\n",
       "\\item 'REPROVADO POR MÉDIA E POR FALTAS'\n",
       "\\item 'REPROVADO POR NOTA'\n",
       "\\item 'REPROVADO POR NOTA E FALTA'\n",
       "\\item 'TRANCADO'\n",
       "\\item 'TRANSFERIDO'\n",
       "\\end{enumerate*}\n"
      ],
      "text/markdown": [
       "1. 'APROVADO'\n",
       "2. 'APROVADO POR NOTA'\n",
       "3. 'CANCELADO'\n",
       "4. 'CUMPRIU'\n",
       "5. 'DESISTENCIA'\n",
       "6. 'DISPENSADO'\n",
       "7. 'EXCLUIDA'\n",
       "8. 'INDEFERIDO'\n",
       "9. 'MATRICULADO'\n",
       "10. 'REPROVADO'\n",
       "11. 'REPROVADO POR FALTAS'\n",
       "12. 'REPROVADO POR MÉDIA E POR FALTAS'\n",
       "13. 'REPROVADO POR NOTA'\n",
       "14. 'REPROVADO POR NOTA E FALTA'\n",
       "15. 'TRANCADO'\n",
       "16. 'TRANSFERIDO'\n",
       "\n",
       "\n"
      ],
      "text/plain": [
       " [1] \"APROVADO\"                         \"APROVADO POR NOTA\"               \n",
       " [3] \"CANCELADO\"                        \"CUMPRIU\"                         \n",
       " [5] \"DESISTENCIA\"                      \"DISPENSADO\"                      \n",
       " [7] \"EXCLUIDA\"                         \"INDEFERIDO\"                      \n",
       " [9] \"MATRICULADO\"                      \"REPROVADO\"                       \n",
       "[11] \"REPROVADO POR FALTAS\"             \"REPROVADO POR MÉDIA E POR FALTAS\"\n",
       "[13] \"REPROVADO POR NOTA\"               \"REPROVADO POR NOTA E FALTA\"      \n",
       "[15] \"TRANCADO\"                         \"TRANSFERIDO\"                     "
      ]
     },
     "metadata": {},
     "output_type": "display_data"
    }
   ],
   "source": [
    "levels(reduced$descricao)"
   ]
  },
  {
   "cell_type": "code",
   "execution_count": 23,
   "metadata": {
    "collapsed": true
   },
   "outputs": [],
   "source": [
    "setwd(path)\n",
    "\n",
    "write.csv(reduced, \"reduced_20171123.csv\", row.names=FALSE)"
   ]
  },
  {
   "cell_type": "markdown",
   "metadata": {
    "collapsed": true
   },
   "source": [
    "### normalizando os horarios \n",
    "\n",
    "    1 - M\n",
    "    2 - T\n",
    "    3 - N\n",
    "    4 - MT\n",
    "    5 - MN\n",
    "    6 - TN\n",
    "    7 - MTN"
   ]
  },
  {
   "cell_type": "code",
   "execution_count": 61,
   "metadata": {
    "collapsed": true
   },
   "outputs": [],
   "source": [
    "setwd(path)\n",
    "\n",
    "reduced <- read.csv2(\"reduced_20171123.csv\", header=TRUE, sep=\",\")"
   ]
  },
  {
   "cell_type": "code",
   "execution_count": 62,
   "metadata": {
    "collapsed": true
   },
   "outputs": [],
   "source": [
    "names(reduced)[4] <- \"horario\""
   ]
  },
  {
   "cell_type": "code",
   "execution_count": 63,
   "metadata": {
    "collapsed": true
   },
   "outputs": [],
   "source": [
    "# removendo os numeros e espaços em brancos nos horários\n",
    "\n",
    "reduced$horario <- gsub(\" \", \"\", gsub('[[:digit:]]+', '', reduced$horario))"
   ]
  },
  {
   "cell_type": "code",
   "execution_count": 64,
   "metadata": {
    "collapsed": true
   },
   "outputs": [],
   "source": [
    "# removendo todos os caracteres especiais que existem nos horarios\n",
    "\n",
    "reduced$horario <- gsub('[[:punct:]]', '', reduced$horario)"
   ]
  },
  {
   "cell_type": "code",
   "execution_count": 65,
   "metadata": {
    "collapsed": true
   },
   "outputs": [],
   "source": [
    "# removendo as repetições de turnos dos horários\n",
    "\n",
    "reduced$horario <- ifelse((grepl(\"M\", reduced$horario) & grepl(\"T\", reduced$horario) & grepl(\"N\", reduced$horario)), 7,\n",
    "       ifelse((grepl(\"T\", reduced$horario) & grepl(\"N\", reduced$horario)),6,\n",
    "             ifelse((grepl(\"M\", reduced$horario) & grepl(\"N\", reduced$horario)),5,\n",
    "                   ifelse((grepl(\"M\", reduced$horario) & grepl(\"T\", reduced$horario)),4,\n",
    "                         ifelse(grepl(\"N\", reduced$horario), 3,\n",
    "                               ifelse(grepl(\"T\", reduced$horario), 2,\n",
    "                                     ifelse(grepl(\"M\", reduced$horario),1,0)))))))"
   ]
  },
  {
   "cell_type": "code",
   "execution_count": 66,
   "metadata": {},
   "outputs": [
    {
     "data": {
      "text/html": [
       "<ol class=list-inline>\n",
       "\t<li>3</li>\n",
       "\t<li>2</li>\n",
       "\t<li>1</li>\n",
       "\t<li>4</li>\n",
       "\t<li>6</li>\n",
       "\t<li>5</li>\n",
       "\t<li>7</li>\n",
       "</ol>\n"
      ],
      "text/latex": [
       "\\begin{enumerate*}\n",
       "\\item 3\n",
       "\\item 2\n",
       "\\item 1\n",
       "\\item 4\n",
       "\\item 6\n",
       "\\item 5\n",
       "\\item 7\n",
       "\\end{enumerate*}\n"
      ],
      "text/markdown": [
       "1. 3\n",
       "2. 2\n",
       "3. 1\n",
       "4. 4\n",
       "5. 6\n",
       "6. 5\n",
       "7. 7\n",
       "\n",
       "\n"
      ],
      "text/plain": [
       "[1] 3 2 1 4 6 5 7"
      ]
     },
     "metadata": {},
     "output_type": "display_data"
    }
   ],
   "source": [
    "unique(reduced$horario)"
   ]
  },
  {
   "cell_type": "markdown",
   "metadata": {},
   "source": [
    "### normalizando a descricao\n",
    "\n",
    "    APROVADO\n",
    "    REPROVADO\n",
    "    DESISTENTE\n",
    "    INDEFERIDO"
   ]
  },
  {
   "cell_type": "code",
   "execution_count": 67,
   "metadata": {
    "collapsed": true
   },
   "outputs": [],
   "source": [
    "reduced$descricao <- ifelse(reduced$descricao == 'APROVADO','APROVADO',\n",
    "                    ifelse(reduced$descricao == 'APROVADO POR NOTA','APROVADO',\n",
    "                    ifelse(reduced$descricao == 'CUMPRIU','APROVADO',\n",
    "                    ifelse(reduced$descricao == 'DISPENSADO','APROVADO',\n",
    "                    ifelse(reduced$descricao == 'REPROVADO','REPROVADO',\n",
    "                    ifelse(reduced$descricao == 'REPROVADO POR FALTAS','REPROVADO',\n",
    "                    ifelse(reduced$descricao == 'REPROVADO POR MÉDIA E POR FALTAS','REPROVADO',\n",
    "                    ifelse(reduced$descricao == 'REPROVADO POR NOTA','REPROVADO',\n",
    "                    ifelse(reduced$descricao == 'REPROVADO POR NOTA E FALTA','REPROVADO',\n",
    "                    ifelse(reduced$descricao == 'DESISTENCIA','DESISTENTE',\n",
    "                    ifelse(reduced$descricao == 'TRANCADO','DESISTENTE',\n",
    "                    ifelse(reduced$descricao == 'INDEFERIDO','INDEFERIDO','NA'))))))))))))"
   ]
  },
  {
   "cell_type": "code",
   "execution_count": 68,
   "metadata": {},
   "outputs": [
    {
     "data": {
      "text/html": [
       "<ol class=list-inline>\n",
       "\t<li>'APROVADO'</li>\n",
       "\t<li>'REPROVADO'</li>\n",
       "\t<li>'NA'</li>\n",
       "\t<li>'DESISTENTE'</li>\n",
       "\t<li>'INDEFERIDO'</li>\n",
       "</ol>\n"
      ],
      "text/latex": [
       "\\begin{enumerate*}\n",
       "\\item 'APROVADO'\n",
       "\\item 'REPROVADO'\n",
       "\\item 'NA'\n",
       "\\item 'DESISTENTE'\n",
       "\\item 'INDEFERIDO'\n",
       "\\end{enumerate*}\n"
      ],
      "text/markdown": [
       "1. 'APROVADO'\n",
       "2. 'REPROVADO'\n",
       "3. 'NA'\n",
       "4. 'DESISTENTE'\n",
       "5. 'INDEFERIDO'\n",
       "\n",
       "\n"
      ],
      "text/plain": [
       "[1] \"APROVADO\"   \"REPROVADO\"  \"NA\"         \"DESISTENTE\" \"INDEFERIDO\""
      ]
     },
     "metadata": {},
     "output_type": "display_data"
    }
   ],
   "source": [
    "unique(reduced$descricao)"
   ]
  },
  {
   "cell_type": "code",
   "execution_count": 69,
   "metadata": {},
   "outputs": [
    {
     "name": "stdout",
     "output_type": "stream",
     "text": [
      "'data.frame':\t84257331 obs. of  6 variables:\n",
      " $ id_componente: int  20001 20001 20001 20001 20001 20001 20001 20001 20001 20001 ...\n",
      " $ id_curso     : int  2000016 2000016 2000016 2000016 2000016 2000016 2000016 2000016 2000016 2000016 ...\n",
      " $ ch_total     : int  60 60 60 60 60 60 60 60 60 60 ...\n",
      " $ horario      : num  3 3 3 3 3 3 2 2 2 2 ...\n",
      " $ periodo      : int  1 1 1 1 1 1 2 2 2 2 ...\n",
      " $ descricao    : chr  \"APROVADO\" \"APROVADO\" \"APROVADO\" \"APROVADO\" ...\n"
     ]
    }
   ],
   "source": [
    "reduced <- reduced[complete.cases(reduced), ]\n",
    "reduced <- droplevels(reduced)\n",
    "\n",
    "str(reduced)"
   ]
  },
  {
   "cell_type": "code",
   "execution_count": 70,
   "metadata": {
    "collapsed": true
   },
   "outputs": [],
   "source": [
    "setwd(path)\n",
    "\n",
    "write.csv(reduced, \"reduced_20171123_2.csv\", row.names=FALSE)"
   ]
  },
  {
   "cell_type": "code",
   "execution_count": null,
   "metadata": {
    "collapsed": true
   },
   "outputs": [],
   "source": []
  },
  {
   "cell_type": "code",
   "execution_count": null,
   "metadata": {
    "collapsed": true
   },
   "outputs": [],
   "source": []
  },
  {
   "cell_type": "code",
   "execution_count": null,
   "metadata": {
    "collapsed": true
   },
   "outputs": [],
   "source": []
  },
  {
   "cell_type": "code",
   "execution_count": null,
   "metadata": {
    "collapsed": true
   },
   "outputs": [],
   "source": []
  },
  {
   "cell_type": "code",
   "execution_count": null,
   "metadata": {
    "collapsed": true
   },
   "outputs": [],
   "source": []
  },
  {
   "cell_type": "code",
   "execution_count": null,
   "metadata": {
    "collapsed": true
   },
   "outputs": [],
   "source": []
  },
  {
   "cell_type": "code",
   "execution_count": null,
   "metadata": {
    "collapsed": true
   },
   "outputs": [],
   "source": []
  },
  {
   "cell_type": "code",
   "execution_count": null,
   "metadata": {
    "collapsed": true
   },
   "outputs": [],
   "source": []
  },
  {
   "cell_type": "code",
   "execution_count": null,
   "metadata": {
    "collapsed": true
   },
   "outputs": [],
   "source": []
  },
  {
   "cell_type": "code",
   "execution_count": null,
   "metadata": {
    "collapsed": true
   },
   "outputs": [],
   "source": []
  },
  {
   "cell_type": "code",
   "execution_count": null,
   "metadata": {
    "collapsed": true
   },
   "outputs": [],
   "source": []
  },
  {
   "cell_type": "code",
   "execution_count": null,
   "metadata": {
    "collapsed": true
   },
   "outputs": [],
   "source": []
  },
  {
   "cell_type": "code",
   "execution_count": null,
   "metadata": {
    "collapsed": true
   },
   "outputs": [],
   "source": []
  },
  {
   "cell_type": "markdown",
   "metadata": {
    "collapsed": true
   },
   "source": [
    "## Gerando os indicadores para os componentes"
   ]
  },
  {
   "cell_type": "code",
   "execution_count": null,
   "metadata": {
    "collapsed": true
   },
   "outputs": [],
   "source": []
  },
  {
   "cell_type": "code",
   "execution_count": null,
   "metadata": {
    "collapsed": true
   },
   "outputs": [],
   "source": []
  }
 ],
 "metadata": {
  "kernelspec": {
   "display_name": "R",
   "language": "R",
   "name": "ir"
  },
  "language_info": {
   "codemirror_mode": "r",
   "file_extension": ".r",
   "mimetype": "text/x-r-source",
   "name": "R",
   "pygments_lexer": "r",
   "version": "3.4.2"
  }
 },
 "nbformat": 4,
 "nbformat_minor": 2
}
