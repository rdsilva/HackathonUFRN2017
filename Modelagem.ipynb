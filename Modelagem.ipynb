{
 "cells": [
  {
   "cell_type": "markdown",
   "metadata": {},
   "source": [
    "Este script foi criado para avaliar os dados e criar um modelo de predição em cima do dataset do comportamento dos alunos durante a matricula e o curso nos componentes curriculares da Universidade Federal do Rio Grande do Norte."
   ]
  },
  {
   "cell_type": "markdown",
   "metadata": {},
   "source": [
    "## 1. Dependências"
   ]
  },
  {
   "cell_type": "code",
   "execution_count": 1,
   "metadata": {
    "collapsed": true
   },
   "outputs": [],
   "source": [
    "# install.packages(\"caret\")"
   ]
  },
  {
   "cell_type": "markdown",
   "metadata": {},
   "source": [
    "## 2. Carregando as Dependências"
   ]
  },
  {
   "cell_type": "code",
   "execution_count": 2,
   "metadata": {
    "collapsed": true
   },
   "outputs": [],
   "source": [
    "library(caret)"
   ]
  },
  {
   "cell_type": "markdown",
   "metadata": {},
   "source": [
    "## 3. Dados"
   ]
  },
  {
   "cell_type": "code",
   "execution_count": 3,
   "metadata": {
    "collapsed": true
   },
   "outputs": [],
   "source": [
    "setwd(\"/Users/rsilva/Documents/UFRN/Hackathon/Resultados\")\n",
    "\n",
    "file <- read.csv2(\"reduced_20171124_5cursos.csv\", header=TRUE, sep=\",\")"
   ]
  },
  {
   "cell_type": "code",
   "execution_count": null,
   "metadata": {
    "collapsed": true
   },
   "outputs": [],
   "source": [
    "str(file)"
   ]
  },
  {
   "cell_type": "markdown",
   "metadata": {},
   "source": [
    "### 3.1. Filtrando os valores \"Indeferidos\""
   ]
  },
  {
   "cell_type": "code",
   "execution_count": null,
   "metadata": {
    "collapsed": true
   },
   "outputs": [],
   "source": [
    "file <- subset(file, file$descricao %in% c(\"APROVADO\",\"DESISTENTE\",\"REPROVADO\"))\n",
    "file <- droplevels(file)"
   ]
  },
  {
   "cell_type": "markdown",
   "metadata": {},
   "source": [
    "## 4. Avaliação & Treinamento"
   ]
  },
  {
   "cell_type": "code",
   "execution_count": null,
   "metadata": {
    "collapsed": true
   },
   "outputs": [],
   "source": [
    "# criando um validador para o dataset\n",
    "# separando uma parte dos dados (75%) para treinamento\n",
    "# e guardando os outros 25% para validar os resultados\n",
    "\n",
    "# criando o indice para os 80% do dataset para treinamento\n",
    "indice <- createDataPartition(file$descricao, p=0.75, list=FALSE)\n",
    "\n",
    "# separando a porção para validação\n",
    "ds_validacao <- file[-indice,]\n",
    "\n",
    "# separando a porção para treinamento\n",
    "dataset <- file[indice,]"
   ]
  },
  {
   "cell_type": "code",
   "execution_count": null,
   "metadata": {
    "collapsed": true
   },
   "outputs": [],
   "source": [
    "# avaliando a distribuição das Especies\n",
    "perc_descricao <- prop.table(table(dataset$descricao)) * 100\n",
    "cbind(freq=table(dataset5$descricao), percentage=perc_descricao)"
   ]
  },
  {
   "cell_type": "code",
   "execution_count": null,
   "metadata": {
    "collapsed": true
   },
   "outputs": [],
   "source": [
    "# resumo estatistico do dataset\n",
    "summary(dataset)"
   ]
  },
  {
   "cell_type": "code",
   "execution_count": null,
   "metadata": {
    "collapsed": true
   },
   "outputs": [],
   "source": [
    "# teste de Harness\n",
    "\n",
    "# o objetivo deste teste é, parametricamente, \n",
    "# avaliar a execução de diferentes algoritmos\n",
    "# informando a forma de iteração\n",
    "# para este caso, o teste dividirá o dataset em 5 partes\n",
    "# 9 para treinamento dos algoritmos e 1 para teste dos resultados\n",
    "\n",
    "controle <- trainControl(method='cv', number=5)\n",
    "metrica <- \"Accuracy\""
   ]
  },
  {
   "cell_type": "code",
   "execution_count": null,
   "metadata": {
    "collapsed": true
   },
   "outputs": [],
   "source": [
    "# Método Linear\n",
    "# Linear Discriminant Analysis (LDA)\n",
    "\n",
    "set.seed(7)\n",
    "lda <- train(descricao~., data=dataset, method='lda', metric=metrica, trControl=controle)"
   ]
  },
  {
   "cell_type": "code",
   "execution_count": null,
   "metadata": {
    "collapsed": true
   },
   "outputs": [],
   "source": [
    "# salvando o modelo\n",
    "\n",
    "saveRDS(lda, \"modelo_lda.rds\")"
   ]
  },
  {
   "cell_type": "code",
   "execution_count": null,
   "metadata": {
    "collapsed": true
   },
   "outputs": [],
   "source": [
    "# avaliando os resultados\n",
    "# observemos os valores de Kappa e Acuracia\n",
    "\n",
    "print(lda)"
   ]
  },
  {
   "cell_type": "markdown",
   "metadata": {},
   "source": [
    "## 5. Validando o Treinamento"
   ]
  },
  {
   "cell_type": "code",
   "execution_count": null,
   "metadata": {
    "collapsed": true
   },
   "outputs": [],
   "source": [
    "predicao <- predict(lda, ds_validacao)\n",
    "confusionMatrix(predicao, ds_validacao$descricao)"
   ]
  }
 ],
 "metadata": {
  "kernelspec": {
   "display_name": "R",
   "language": "R",
   "name": "ir"
  },
  "language_info": {
   "codemirror_mode": "r",
   "file_extension": ".r",
   "mimetype": "text/x-r-source",
   "name": "R",
   "pygments_lexer": "r",
   "version": "3.4.2"
  }
 },
 "nbformat": 4,
 "nbformat_minor": 2
}
