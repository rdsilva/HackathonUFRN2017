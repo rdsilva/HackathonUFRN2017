{
 "cells": [
  {
   "cell_type": "markdown",
   "metadata": {},
   "source": [
    "# Objetivo\n",
    "\n",
    "O objetivo deste notebook é avaliar os dados disponíveis no [Portal de Dados Abertos da UFRN](http://dados.ufrn.br/) no grupo `Turmas`.\n",
    "\n",
    "Assim sendo, a avaliação é apenas quanti-qualitativa para descobrirmos o que podemos extrair a favor do nosso projeto."
   ]
  },
  {
   "cell_type": "markdown",
   "metadata": {},
   "source": [
    "## 1. Bibliotecas"
   ]
  },
  {
   "cell_type": "code",
   "execution_count": 3,
   "metadata": {},
   "outputs": [
    {
     "name": "stderr",
     "output_type": "stream",
     "text": [
      "\n",
      "Attaching package: ‘dplyr’\n",
      "\n",
      "The following objects are masked from ‘package:stats’:\n",
      "\n",
      "    filter, lag\n",
      "\n",
      "The following objects are masked from ‘package:base’:\n",
      "\n",
      "    intersect, setdiff, setequal, union\n",
      "\n",
      "\n",
      "Attaching package: ‘gridExtra’\n",
      "\n",
      "The following object is masked from ‘package:dplyr’:\n",
      "\n",
      "    combine\n",
      "\n"
     ]
    }
   ],
   "source": [
    "library(\"dplyr\")\n",
    "library(ggplot2)\n",
    "library(gridExtra)"
   ]
  },
  {
   "cell_type": "markdown",
   "metadata": {},
   "source": [
    "## 2. Dados"
   ]
  },
  {
   "cell_type": "code",
   "execution_count": 4,
   "metadata": {},
   "outputs": [],
   "source": [
    "path_data <- \"/Users/rsilva/Documents/UFRN/Hackathon/UFRN\\ Dados/turmas\"\n",
    "path_save <- \"/Users/rsilva/Documents/UFRN/Hackathon/Resultados\""
   ]
  },
  {
   "cell_type": "code",
   "execution_count": 5,
   "metadata": {},
   "outputs": [
    {
     "name": "stderr",
     "output_type": "stream",
     "text": [
      "Warning message in scan(file = file, what = what, sep = sep, quote = quote, dec = dec, :\n",
      "“EOF within quoted string”Warning message in scan(file = file, what = what, sep = sep, quote = quote, dec = dec, :\n",
      "“EOF within quoted string”Warning message in scan(file = file, what = what, sep = sep, quote = quote, dec = dec, :\n",
      "“EOF within quoted string”Warning message in scan(file = file, what = what, sep = sep, quote = quote, dec = dec, :\n",
      "“EOF within quoted string”Warning message in scan(file = file, what = what, sep = sep, quote = quote, dec = dec, :\n",
      "“EOF within quoted string”"
     ]
    }
   ],
   "source": [
    "setwd(path_data)\n",
    "\n",
    "pattern <- \"_turmas-\"\n",
    "\n",
    "# listando os arquivos contidos no diretorio\n",
    "listoffiles <- list.files(path_data, pattern = pattern)\n",
    "\n",
    "# abrindo os arquivos da lista\n",
    "myfiles = lapply(listoffiles, read.csv2)"
   ]
  },
  {
   "cell_type": "code",
   "execution_count": 6,
   "metadata": {},
   "outputs": [
    {
     "name": "stdout",
     "output_type": "stream",
     "text": [
      "List of 16\n",
      " $ :'data.frame':\t9818 obs. of  26 variables:\n",
      "  ..$ id_turma                : int [1:9818] 1151160 1151161 1151162 1151163 1151164 1151168 1151171 1151172 1151173 1151177 ...\n",
      "  ..$ codigo_turma            : Factor w/ 96 levels \"\",\"01\",\"01A\",..: 2 2 2 2 2 2 2 2 2 2 ...\n",
      "  ..$ id_docente_interno      : int [1:9818] 25852 5753006 5753423 5752810 16790 NA 24852 23943 NA 15370 ...\n",
      "  ..$ id_docente_externo      : int [1:9818] NA NA NA NA NA 18682644 NA NA 18299867 NA ...\n",
      "  ..$ observacao              : Factor w/ 129 levels \"\",\"(juventude e vulnerabilidade\",..: 1 1 1 1 1 1 1 1 1 1 ...\n",
      "  ..$ id_componente_curricular: int [1:9818] 24054 24061 25843 41598 2055814 2055655 2055700 2055624 2055623 2055626 ...\n",
      "  ..$ nivel_ensino            : Factor w/ 4 levels \"GRADUAÇÃO\",\"LATO SENSU\",..: 1 1 1 3 2 2 2 2 2 2 ...\n",
      "  ..$ campus_turma            : Factor w/ 5 levels \"\",\"Campus Caicó\",..: 3 3 3 1 1 1 1 1 1 1 ...\n",
      "  ..$ local                   : Factor w/ 1445 levels \"\",\"(Centro de Biociências) Anfiteatro A DMOR\",..: 575 575 575 1417 460 458 459 461 459 459 ...\n",
      "  ..$ ano                     : int [1:9818] 2010 2010 2010 2010 2010 2010 2010 2010 2010 2010 ...\n",
      "  ..$ periodo                 : int [1:9818] 1 1 1 1 1 1 1 1 1 1 ...\n",
      "  ..$ data_inicio             : Factor w/ 95 levels \"2009-02-16\",\"2009-11-13\",..: 15 15 15 9 73 92 44 45 95 56 ...\n",
      "  ..$ data_fim                : Factor w/ 126 levels \"2009-07-09\",\"2009-11-28\",..: 99 99 99 110 74 113 32 34 123 52 ...\n",
      "  ..$ descricao_horario       : Factor w/ 1093 levels \"\",\"167M2345  67T3456\",..: 454 995 450 801 798 798 833 920 798 798 ...\n",
      "  ..$ total_solicitacoes      : int [1:9818] NA NA NA 1 NA NA NA NA NA NA ...\n",
      "  ..$ capacidade_aluno        : int [1:9818] 1 1 1 20 41 41 41 41 41 41 ...\n",
      "  ..$ tipo                    : Factor w/ 2 levels \"ENSINO INDIVIDUAL\",..: 2 2 2 2 2 2 2 2 2 2 ...\n",
      "  ..$ distancia               : Factor w/ 2 levels \"f\",\"t\": 1 1 1 1 1 1 1 1 1 1 ...\n",
      "  ..$ data_consolidacao       : Factor w/ 6542 levels \"\",\"2010-03-11 16:52:54.96\",..: 2990 566 2881 6349 6375 6533 6405 6495 6497 6535 ...\n",
      "  ..$ agrupadora              : Factor w/ 1 level \"f\": 1 1 1 1 1 1 1 1 1 1 ...\n",
      "  ..$ id_turma_agrupadora     : int [1:9818] NA NA NA NA NA NA NA NA NA NA ...\n",
      "  ..$ qtd_aulas_lancadas      : int [1:9818] NA NA NA NA NA 30 NA NA NA 22 ...\n",
      "  ..$ situacao_turma          : Factor w/ 4 levels \"ABERTA\",\"CONSOLIDADA\",..: 2 2 2 2 2 2 2 2 2 2 ...\n",
      "  ..$ convenio                : logi [1:9818] NA NA NA NA NA NA ...\n",
      "  ..$ modalidade_participantes: Factor w/ 2 levels \"A Distância\",..: 2 2 2 2 2 2 2 2 2 2 ...\n",
      "  ..$ X                       : logi [1:9818] NA NA NA NA NA NA ...\n",
      " $ :'data.frame':\t10007 obs. of  26 variables:\n",
      "  ..$ id_turma                : int [1:10007] 1151169 1151174 1151786 1151839 1151840 1151841 1151842 1151843 1151844 1151845 ...\n",
      "  ..$ codigo_turma            : Factor w/ 110 levels \"\",\"01\",\"01A\",..: 2 2 57 2 8 14 2 2 2 2 ...\n",
      "  ..$ id_docente_interno      : int [1:10007] 22823 NA 20831 5752921 5752885 19002 5752489 24233 24233 23400 ...\n",
      "  ..$ id_docente_externo      : int [1:10007] NA 18299868 NA NA NA NA NA NA NA NA ...\n",
      "  ..$ observacao              : Factor w/ 131 levels \"\",\"'CANTO'\",\"( Modelos de Informação da Edificação - teorias, conceitos e aplicações)\",..: 1 1 1 1 1 1 1 1 1 1 ...\n",
      "  ..$ id_componente_curricular: int [1:10007] 2055625 2055630 2053815 18815 18815 18815 18778 18729 2047753 18652 ...\n",
      "  ..$ nivel_ensino            : Factor w/ 5 levels \"GRADUAÇÃO\",\"LATO SENSU\",..: 2 2 2 5 5 5 5 5 5 5 ...\n",
      "  ..$ campus_turma            : Factor w/ 5 levels \"\",\"Campus Caicó\",..: 1 1 1 1 1 1 1 1 1 1 ...\n",
      "  ..$ local                   : Factor w/ 1388 levels \"\",\"13\",\"14\",\"15\",..: 424 423 828 62 64 63 809 926 60 599 ...\n",
      "  ..$ ano                     : int [1:10007] 2010 2010 2010 2010 2010 2010 2010 2010 2010 2010 ...\n",
      "  ..$ periodo                 : int [1:10007] 2 2 2 2 2 2 2 2 2 2 ...\n",
      "  ..$ data_inicio             : Factor w/ 106 levels \"2010-02-22\",\"2010-07-05\",..: 52 9 10 17 17 17 17 17 17 17 ...\n",
      "  ..$ data_fim                : Factor w/ 134 levels \"2010-07-07\",\"2010-07-09\",..: 134 9 24 114 114 114 114 114 43 114 ...\n",
      "  ..$ descricao_horario       : Factor w/ 1246 levels \"\",\"1234567M1234\",..: 927 927 2 457 427 457 413 413 401 915 ...\n",
      "  ..$ total_solicitacoes      : int [1:10007] NA NA NA 46 2 40 10 8 NA 3 ...\n",
      "  ..$ capacidade_aluno        : int [1:10007] 41 41 320 50 50 50 15 30 10 3 ...\n",
      "  ..$ tipo                    : Factor w/ 2 levels \"ENSINO INDIVIDUAL\",..: 2 2 2 2 2 2 2 2 2 2 ...\n",
      "  ..$ distancia               : Factor w/ 2 levels \"f\",\"t\": 1 1 2 1 1 1 1 1 1 1 ...\n",
      "  ..$ data_consolidacao       : Factor w/ 6691 levels \"\",\"2010-08-04 14:34:28.239\",..: 6439 6614 1 1223 1122 5607 1556 1485 1608 2629 ...\n",
      "  ..$ agrupadora              : Factor w/ 1 level \"f\": 1 1 1 1 1 1 1 1 1 1 ...\n",
      "  ..$ id_turma_agrupadora     : int [1:10007] NA NA NA NA NA NA NA NA NA NA ...\n",
      "  ..$ qtd_aulas_lancadas      : int [1:10007] NA NA NA NA NA NA NA NA NA NA ...\n",
      "  ..$ situacao_turma          : Factor w/ 4 levels \"ABERTA\",\"CONSOLIDADA\",..: 2 2 3 2 2 2 2 2 2 2 ...\n",
      "  ..$ convenio                : logi [1:10007] NA NA NA NA NA NA ...\n",
      "  ..$ modalidade_participantes: Factor w/ 2 levels \"A Distância\",..: 2 2 1 2 2 2 2 2 2 2 ...\n",
      "  ..$ X                       : logi [1:10007] NA NA NA NA NA NA ...\n",
      " $ :'data.frame':\t8654 obs. of  26 variables:\n",
      "  ..$ id_turma                : Factor w/ 6335 levels \";44445;STRICTO SENSU;\\\";Dep. Educação Física, Ginásio, Sala de Dança.;2011;1;2011-03-25;2011-07-08;6M456;7;12;R\"| __truncated__,..: 2 3 4 4 5 5 6 7 8 9 ...\n",
      "  ..$ codigo_turma            : Factor w/ 93 levels \"01\",\"01A\",\"01B\",..: 1 1 1 1 1 1 1 9 15 21 ...\n",
      "  ..$ id_docente_interno      : Factor w/ 2094 levels \"\",\"100361\",\"102359\",..: 258 218 1 1 1 1 1 1 1 1 ...\n",
      "  ..$ id_docente_externo      : int [1:8654] NA NA 19016075 19016074 19016074 19016075 50915318 50915318 50915318 50915318 ...\n",
      "  ..$ observacao              : Factor w/ 94 levels \"\",\"             \",..: 1 1 1 1 1 1 1 1 1 1 ...\n",
      "  ..$ id_componente_curricular: int [1:8654] 2055650 2055632 41389 41389 41390 41390 2053826 2053826 2053826 2053826 ...\n",
      "  ..$ nivel_ensino            : Factor w/ 7 levels \"\",\"1\",\"FORMAÇÃO COMPLEMENTAR\",..: 5 5 5 5 5 5 5 5 5 5 ...\n",
      "  ..$ campus_turma            : Factor w/ 7 levels \"\",\"2011-05-10\",..: 1 1 1 1 1 1 1 1 1 1 ...\n",
      "  ..$ local                   : Factor w/ 1208 levels \"\",\"(4º SUBSOLO) HUOL\",..: 400 400 318 318 317 317 1 1 1 1 ...\n",
      "  ..$ ano                     : Factor w/ 3 levels \"\",\"2011\",\"4T6 7T123456  2N34 34567N1234\": 2 2 2 2 2 2 2 2 2 2 ...\n",
      "  ..$ periodo                 : int [1:8654] 1 1 1 1 1 1 1 1 1 1 ...\n",
      "  ..$ data_inicio             : Factor w/ 100 levels \"\",\"20\",\"2010-02-22\",..: 12 82 78 78 95 95 7 7 7 7 ...\n",
      "  ..$ data_fim                : Factor w/ 137 levels \"\",\"2010-07-09\",..: 7 80 78 78 105 105 8 8 8 8 ...\n",
      "  ..$ descricao_horario       : Factor w/ 1151 levels \"\",\"167M2345  67T3456\",..: 839 1078 2 2 2 2 1 1 1 1 ...\n",
      "  ..$ total_solicitacoes      : int [1:8654] NA NA NA NA NA NA NA NA NA NA ...\n",
      "  ..$ capacidade_aluno        : Factor w/ 96 levels \"\",\"1\",\"10\",\"100\",..: 54 54 64 64 64 64 44 1 1 1 ...\n",
      "  ..$ tipo                    : Factor w/ 3 levels \"\",\"ENSINO INDIVIDUAL\",..: 3 3 3 3 3 3 3 3 3 3 ...\n",
      "  ..$ distancia               : Factor w/ 3 levels \"\",\"f\",\"t\": 2 2 2 2 2 2 3 3 3 3 ...\n",
      "  ..$ data_consolidacao       : Factor w/ 5777 levels \"\",\"2011-01-31 08:59:11.058\",..: 62 5115 5720 5720 5721 5721 34 35 36 37 ...\n",
      "  ..$ agrupadora              : Factor w/ 2 levels \"\",\"f\": 2 2 2 2 2 2 2 2 2 2 ...\n",
      "  ..$ id_turma_agrupadora     : Factor w/ 210 levels \"\",\"1161167\",\"1161300\",..: 1 1 1 1 1 1 1 1 1 1 ...\n",
      "  ..$ qtd_aulas_lancadas      : int [1:8654] NA NA NA NA NA NA NA NA NA NA ...\n",
      "  ..$ situacao_turma          : Factor w/ 5 levels \"\",\"ABERTA\",\"CONSOLIDADA\",..: 3 3 3 3 3 3 3 3 3 3 ...\n",
      "  ..$ convenio                : logi [1:8654] NA NA NA NA NA NA ...\n",
      "  ..$ modalidade_participantes: Factor w/ 3 levels \"\",\"A Distância\",..: 3 3 3 3 3 3 2 2 2 2 ...\n",
      "  ..$ X                       : logi [1:8654] NA NA NA NA NA NA ...\n",
      " $ :'data.frame':\t9321 obs. of  26 variables:\n",
      "  ..$ id_turma                : Factor w/ 7023 levels \";38163;STRICTO SENSU;\\\";PPGG;2011;2;2011-09-12;2011-12-30;26T2345;3;3;REGULAR;f;2011-12-28 09:46:32.792;f;\\\";\\\"\"| __truncated__,..: 2 3 4 5 6 7 8 8 9 10 ...\n",
      "  ..$ codigo_turma            : Factor w/ 85 levels \"\",\"01\",\"01A\",..: 2 2 2 2 2 2 2 2 2 12 ...\n",
      "  ..$ id_docente_interno      : int [1:9321] 23731 2301545 5753023 26605 23115 5752677 5752677 23203 22992 5753630 ...\n",
      "  ..$ id_docente_externo      : int [1:9321] NA NA NA NA NA NA NA NA NA NA ...\n",
      "  ..$ observacao              : Factor w/ 135 levels \"\",\"08 a 11 de novembro, das 14h às 17:40h\",..: 1 1 1 1 1 1 1 1 1 132 ...\n",
      "  ..$ id_componente_curricular: int [1:9321] 42125 42128 42130 42132 42174 42175 42173 42173 42177 2036900 ...\n",
      "  ..$ nivel_ensino            : Factor w/ 5 levels \"\",\"GRADUAÇÃO\",..: 3 3 3 3 3 3 3 3 3 5 ...\n",
      "  ..$ campus_turma            : Factor w/ 6 levels \"\",\"Campus Caicó\",..: 1 1 1 1 1 1 1 1 1 1 ...\n",
      "  ..$ local                   : Factor w/ 1243 levels \"\",\"-\",\"1 a 1\",..: 289 289 289 289 931 931 931 931 931 711 ...\n",
      "  ..$ ano                     : int [1:9321] 2011 2011 2011 2011 2011 2011 2011 2011 2011 2011 ...\n",
      "  ..$ periodo                 : int [1:9321] 2 2 2 2 2 2 2 2 2 2 ...\n",
      "  ..$ data_inicio             : Factor w/ 87 levels \"\",\"2010-08-09\",..: 3 61 75 84 16 5 49 49 57 9 ...\n",
      "  ..$ data_fim                : Factor w/ 125 levels \"\",\"2010-12-22\",..: 3 62 80 99 16 5 48 48 61 10 ...\n",
      "  ..$ descricao_horario       : Factor w/ 1306 levels \"\",\"17M1234  7T12345  6N1234\",..: 960 1241 960 1242 1227 1227 1227 1227 1227 23 ...\n",
      "  ..$ total_solicitacoes      : int [1:9321] NA NA NA NA NA NA NA NA NA NA ...\n",
      "  ..$ capacidade_aluno        : int [1:9321] 45 45 45 45 55 55 55 55 55 20 ...\n",
      "  ..$ tipo                    : Factor w/ 3 levels \"\",\"ENSINO INDIVIDUAL\",..: 3 3 3 3 3 3 3 3 3 3 ...\n",
      "  ..$ distancia               : Factor w/ 3 levels \"\",\"f\",\"t\": 2 2 2 2 2 2 2 2 2 2 ...\n",
      "  ..$ data_consolidacao       : Factor w/ 6298 levels \"\",\"2011-08-03 11:55:57.553\",..: 6108 6109 6111 6110 5725 17 5734 5734 5733 2 ...\n",
      "  ..$ agrupadora              : Factor w/ 2 levels \"\",\"f\": 2 2 2 2 2 2 2 2 2 2 ...\n",
      "  ..$ id_turma_agrupadora     : int [1:9321] NA NA NA NA NA NA NA NA NA NA ...\n",
      "  ..$ qtd_aulas_lancadas      : int [1:9321] NA NA NA NA NA NA NA NA NA NA ...\n",
      "  ..$ situacao_turma          : Factor w/ 5 levels \"\",\"ABERTA\",\"CONSOLIDADA\",..: 3 3 3 3 3 3 3 3 3 3 ...\n",
      "  ..$ convenio                : logi [1:9321] NA NA NA NA NA NA ...\n",
      "  ..$ modalidade_participantes: Factor w/ 3 levels \"\",\"A Distância\",..: 3 3 3 3 3 3 3 3 3 3 ...\n",
      "  ..$ X                       : logi [1:9321] NA NA NA NA NA NA ...\n",
      " $ :'data.frame':\t11183 obs. of  26 variables:\n",
      "  ..$ id_turma                : int [1:11183] 1176608 1176608 1176812 1176813 1176814 1176815 1176816 1176816 1176843 1176843 ...\n",
      "  ..$ codigo_turma            : Factor w/ 132 levels \"01\",\"01A\",\"01B\",..: 1 1 1 1 1 1 1 1 1 1 ...\n",
      "  ..$ id_docente_interno      : int [1:11183] 18355 24386 24052 NA 23943 NA NA NA 5754278 5753560 ...\n",
      "  ..$ id_docente_externo      : int [1:11183] NA NA NA 18682644 NA 18299867 91905639 85285407 NA NA ...\n",
      "  ..$ observacao              : Factor w/ 158 levels \"\",\"(SEMINÁRIO DE INTRODUÇÃO AO CURSO)\",..: 1 1 1 1 1 1 1 1 1 1 ...\n",
      "  ..$ id_componente_curricular: int [1:11183] 45084 45084 46611 46320 46671 46316 46607 46607 46458 46458 ...\n",
      "  ..$ nivel_ensino            : Factor w/ 6 levels \"FORMAÇÃO COMPLEMENTAR\",..: 3 3 3 3 3 3 3 3 3 3 ...\n",
      "  ..$ campus_turma            : Factor w/ 6 levels \"\",\"Campus Caicó\",..: 1 1 1 1 1 1 1 1 1 1 ...\n",
      "  ..$ local                   : Factor w/ 1417 levels \"\",\"(sala 1)\",..: 933 933 437 437 437 437 437 437 436 436 ...\n",
      "  ..$ ano                     : int [1:11183] 2012 2012 2012 2012 2012 2012 2012 2012 2012 2012 ...\n",
      "  ..$ periodo                 : int [1:11183] 1 1 1 1 1 1 1 1 1 1 ...\n",
      "  ..$ data_inicio             : Factor w/ 119 levels \"2011-08-15\",\"2012-01-02\",..: 10 10 17 36 52 61 79 79 101 101 ...\n",
      "  ..$ data_fim                : Factor w/ 142 levels \"2011-12-22\",\"2012-01-14\",..: 8 8 17 30 39 61 77 77 100 100 ...\n",
      "  ..$ descricao_horario       : Factor w/ 1466 levels \"\",\"123456N1234\",..: 18 18 16 16 55 16 16 16 16 16 ...\n",
      "  ..$ total_solicitacoes      : int [1:11183] NA NA NA NA NA NA NA NA NA NA ...\n",
      "  ..$ capacidade_aluno        : int [1:11183] 50 50 40 40 41 40 41 41 41 41 ...\n",
      "  ..$ tipo                    : Factor w/ 2 levels \"ENSINO INDIVIDUAL\",..: 2 2 2 2 2 2 2 2 2 2 ...\n",
      "  ..$ distancia               : Factor w/ 2 levels \"f\",\"t\": 1 1 1 1 1 1 1 1 1 1 ...\n",
      "  ..$ data_consolidacao       : Factor w/ 7506 levels \"\",\"2012-02-08 07:21:59.57\",..: 7295 7295 1 7378 4031 7377 7278 7278 7437 7437 ...\n",
      "  ..$ agrupadora              : Factor w/ 1 level \"f\": 1 1 1 1 1 1 1 1 1 1 ...\n",
      "  ..$ id_turma_agrupadora     : int [1:11183] NA NA NA NA NA NA NA NA NA NA ...\n",
      "  ..$ qtd_aulas_lancadas      : int [1:11183] NA NA NA NA NA NA NA NA NA NA ...\n",
      "  ..$ situacao_turma          : Factor w/ 4 levels \"ABERTA\",\"CONSOLIDADA\",..: 2 2 3 2 2 2 2 2 2 2 ...\n",
      "  ..$ convenio                : logi [1:11183] NA NA NA NA NA NA ...\n",
      "  ..$ modalidade_participantes: Factor w/ 2 levels \"A Distância\",..: 2 2 2 2 2 2 2 2 2 2 ...\n",
      "  ..$ X                       : logi [1:11183] NA NA NA NA NA NA ...\n",
      " $ :'data.frame':\t10714 obs. of  26 variables:\n",
      "  ..$ id_turma                : int [1:10714] 1176730 1176817 1176817 1176817 1176817 1176818 1176844 1186153 1186154 1186471 ...\n",
      "  ..$ codigo_turma            : Factor w/ 131 levels \"01\",\"01A\",\"01B\",..: 1 1 1 1 1 1 1 1 1 1 ...\n",
      "  ..$ id_docente_interno      : int [1:10714] 18780 5753099 18679 5751838 5753882 18422 5754313 23198 NA 5752917 ...\n",
      "  ..$ id_docente_externo      : int [1:10714] NA NA NA NA NA NA NA NA 51487268 NA ...\n",
      "  ..$ observacao              : Factor w/ 188 levels \"\",\" Inclui a participação no Seminário Direitos Humanos e Serviço Social\",..: 1 1 1 1 1 1 1 1 1 1 ...\n",
      "  ..$ id_componente_curricular: Factor w/ 3702 levels \" haverá atividade de campo no dia 12/10/2012;38187;STRICTO SENSU;\\\";PPGG;2012;2;2012-10-08;2012-10-12;6T1234;13\"| __truncated__,..: 2930 3242 3242 3242 3242 3110 3120 2924 2923 2694 ...\n",
      "  ..$ nivel_ensino            : Factor w/ 7 levels \"38212\",\"FORMAÇÃO COMPLEMENTAR\",..: 4 4 4 4 4 4 4 4 4 4 ...\n",
      "  ..$ campus_turma            : Factor w/ 7 levels \"\",\"Campus Caicó\",..: 1 1 1 1 1 1 1 1 1 1 ...\n",
      "  ..$ local                   : Factor w/ 1336 levels \"\",\"?\",\"(Quarta: Sala 03-T / Terça e Quinta: Sala 09-T)\",..: 874 432 432 432 432 430 431 751 751 516 ...\n",
      "  ..$ ano                     : Factor w/ 2 levels \"2012\",\"LGGP\": 1 1 1 1 1 1 1 1 1 1 ...\n",
      "  ..$ periodo                 : int [1:10714] 2 2 2 2 2 2 2 2 2 2 ...\n",
      "  ..$ data_inicio             : Factor w/ 127 levels \"2\",\"2012-01-01\",..: 73 21 21 21 21 42 8 12 19 57 ...\n",
      "  ..$ data_fim                : Factor w/ 142 levels \"2012-03-09\",\"2012-05-04\",..: 61 19 19 19 19 43 7 7 12 47 ...\n",
      "  ..$ descricao_horario       : Factor w/ 1392 levels \"\",\"123456N1234\",..: 20 17 17 17 17 17 17 11 11 47 ...\n",
      "  ..$ total_solicitacoes      : Factor w/ 147 levels \"\",\"0\",\"1\",\"10\",..: 1 1 1 1 1 1 1 1 1 1 ...\n",
      "  ..$ capacidade_aluno        : int [1:10714] 50 40 40 40 40 40 41 50 50 20 ...\n",
      "  ..$ tipo                    : Factor w/ 3 levels \"1\",\"ENSINO INDIVIDUAL\",..: 3 3 3 3 3 3 3 3 3 3 ...\n",
      "  ..$ distancia               : Factor w/ 3 levels \"f\",\"REGULAR\",..: 1 1 1 1 1 1 1 1 1 1 ...\n",
      "  ..$ data_consolidacao       : Factor w/ 7201 levels \"\",\"2012-08-03 17:37:17.1\",..: 6803 1 1 1 1 6856 7024 1 6718 4954 ...\n",
      "  ..$ agrupadora              : Factor w/ 2 levels \"2012-12-25 12:28:00.462\",..: 2 2 2 2 2 2 2 2 2 2 ...\n",
      "  ..$ id_turma_agrupadora     : Factor w/ 335 levels \"\",\"1186853\",\"1186855\",..: 1 1 1 1 1 1 1 1 1 1 ...\n",
      "  ..$ qtd_aulas_lancadas      : int [1:10714] NA NA NA NA NA NA NA NA NA NA ...\n",
      "  ..$ situacao_turma          : Factor w/ 5 levels \"\",\"ABERTA\",\"CONSOLIDADA\",..: 3 4 4 4 4 3 3 4 3 3 ...\n",
      "  ..$ convenio                : Factor w/ 2 levels \"\",\"CONSOLIDADA\": 1 1 1 1 1 1 1 1 1 1 ...\n",
      "  ..$ modalidade_participantes: Factor w/ 3 levels \"\",\"A Distância\",..: 3 3 3 3 3 3 3 3 3 3 ...\n",
      "  ..$ X                       : Factor w/ 2 levels \"\",\"Presencial\": 1 1 1 1 1 1 1 1 1 1 ...\n",
      " $ :'data.frame':\t9962 obs. of  26 variables:\n",
      "  ..$ id_turma                : Factor w/ 7427 levels \";38270;STRICTO SENSU;\\\";setor 2, bloco A-2;2013;1;2013-03-12;2013-07-31;4T23456;39;40;REGULAR;f;2014-01-08 15:4\"| __truncated__,..: 7 8 9 10 11 12 13 14 15 16 ...\n",
      "  ..$ codigo_turma            : Factor w/ 174 levels \"\",\" Análise de dados a partir da gramática sistêmico-funcional. ( só para orientandos).;38283;STRICTO SENSU;\\\";Set\"| __truncated__,..: 4 115 116 117 118 119 120 121 122 123 ...\n",
      "  ..$ id_docente_interno      : Factor w/ 2268 levels \"\",\" III - 17 a 21/06;2051918;STRICTO SENSU;\\\";A Definir;2013;1;2013-03-04;2013-06-28;2M345;15;20;REGULAR;f;2013-07\"| __truncated__,..: 893 1 1 1 1 1 1 1 1 1 ...\n",
      "  ..$ id_docente_externo      : Factor w/ 126 levels \"\",\" II - 20 a 24/05\",..: 1 6 42 80 81 27 82 46 28 83 ...\n",
      "  ..$ observacao              : Factor w/ 60 levels \"\",\"\\n3ª feira, 14:30h às 17h, a partir de 02/04\\n\",..: 1 1 1 1 1 1 1 1 1 1 ...\n",
      "  ..$ id_componente_curricular: Factor w/ 3298 levels \"\",\" II - 20 a 24/05\",..: 3149 3228 3228 3228 3228 3228 3228 3228 3228 3228 ...\n",
      "  ..$ nivel_ensino            : Factor w/ 8 levels \"\",\" III - 17 a 21/06;2051918;STRICTO SENSU;\\\";A Definir;2013;1;2013-03-04;2013-06-28;2M345;15;20;REGULAR;f;2013-07\"| __truncated__,..: 6 8 8 8 8 8 8 8 8 8 ...\n",
      "  ..$ campus_turma            : Factor w/ 7 levels \"\",\"1\",\"Campus Caicó\",..: 1 1 1 1 1 1 1 1 1 1 ...\n",
      "  ..$ local                   : Factor w/ 1128 levels \"\",\"-\",\"1-A-1\",..: 397 225 218 225 218 225 225 218 225 218 ...\n",
      "  ..$ ano                     : Factor w/ 3 levels \"\",\"2013\",\"2013-07-31\": 2 2 2 2 2 2 2 2 2 2 ...\n",
      "  ..$ periodo                 : Factor w/ 3 levels \"\",\"1\",\"3T2345\": 2 2 2 2 2 2 2 2 2 2 ...\n",
      "  ..$ data_inicio             : Factor w/ 78 levels \"\",\"2013-01-01\",..: 13 11 11 11 11 11 11 11 11 11 ...\n",
      "  ..$ data_fim                : Factor w/ 91 levels \"\",\"20\",\"2013-01-17\",..: 9 82 82 82 82 82 82 82 82 82 ...\n",
      "  ..$ descricao_horario       : Factor w/ 1297 levels \"\",\"167M2345  67T3456\",..: 21 246 246 384 384 348 608 608 733 733 ...\n",
      "  ..$ total_solicitacoes      : Factor w/ 144 levels \"\",\"0\",\"1\",\"10\",..: 1 1 1 114 62 81 1 60 134 51 ...\n",
      "  ..$ capacidade_aluno        : Factor w/ 98 levels \"\",\"1\",\"10\",\"100\",..: 83 50 50 50 50 50 50 50 50 50 ...\n",
      "  ..$ tipo                    : Factor w/ 4 levels \"\",\"ENSINO INDIVIDUAL\",..: 4 4 4 4 4 4 4 4 4 4 ...\n",
      "  ..$ distancia               : Factor w/ 3 levels \"\",\"f\",\"t\": 2 2 2 2 2 2 2 2 2 2 ...\n",
      "  ..$ data_consolidacao       : Factor w/ 6801 levels \"\",\"2013-02-09 17:12:56.576\",..: 557 6172 6277 6447 6294 6259 6266 6060 6347 6423 ...\n",
      "  ..$ agrupadora              : Factor w/ 3 levels \"\",\"CONSOLIDADA\",..: 3 3 3 3 3 3 3 3 3 3 ...\n",
      "  ..$ id_turma_agrupadora     : int [1:9962] NA NA NA NA NA NA NA NA NA NA ...\n",
      "  ..$ qtd_aulas_lancadas      : Factor w/ 19 levels \"\",\"0\",\"100\",\"105\",..: 1 1 1 1 1 1 1 1 1 1 ...\n",
      "  ..$ situacao_turma          : Factor w/ 5 levels \"\",\"ABERTA\",\"CONSOLIDADA\",..: 3 3 3 3 3 3 3 3 3 3 ...\n",
      "  ..$ convenio                : logi [1:9962] NA NA NA NA NA NA ...\n",
      "  ..$ modalidade_participantes: Factor w/ 3 levels \"\",\"A Distância\",..: 3 3 3 3 3 3 3 3 3 3 ...\n",
      "  ..$ X                       : logi [1:9962] NA NA NA NA NA NA ...\n",
      " $ :'data.frame':\t11798 obs. of  26 variables:\n",
      "  ..$ id_turma                : Factor w/ 7743 levels \"- Elaboração de Projetos.;54336;TÉCNICO;\\\";CRUZETA;2013;2;2013-07-29;2013-08-09;7T123456;\\\";35;REGULAR;f;2014-0\"| __truncated__,..: 9 10 11 12 13 14 15 15 16 17 ...\n",
      "  ..$ codigo_turma            : Factor w/ 126 levels \"\",\" 5N34 Setor III Sala E-4;2013;2;2013-07-29;2013-12-14;3N12 5N34;18;50;REGULAR;f;2013-12-16 16:21:19.775;f;\\\";\\\"\"| __truncated__,..: 10 16 22 27 32 3 3 3 3 3 ...\n",
      "  ..$ id_docente_interno      : Factor w/ 2307 levels \"\",\"102359\",\"114673\",..: 872 521 695 389 139 530 744 1 1140 1614 ...\n",
      "  ..$ id_docente_externo      : int [1:11798] NA NA NA NA NA NA NA 97103560 NA NA ...\n",
      "  ..$ observacao              : Factor w/ 98 levels \"\",\": Seminário de História e Sociologia de Matemática\",..: 1 1 1 1 1 1 1 1 1 1 ...\n",
      "  ..$ id_componente_curricular: int [1:11798] 41147 41147 41147 41147 41147 51235 51231 51231 51236 51754 ...\n",
      "  ..$ nivel_ensino            : Factor w/ 8 levels \"\",\"2\",\"FORMAÇÃO COMPLEMENTAR\",..: 7 7 7 7 7 5 5 5 5 5 ...\n",
      "  ..$ campus_turma            : Factor w/ 7 levels \"\",\"2013-08-19\",..: 1 1 1 1 1 1 1 1 1 1 ...\n",
      "  ..$ local                   : Factor w/ 1252 levels \"\",\"04 - DDCA\",..: 913 913 913 913 913 300 300 300 300 694 ...\n",
      "  ..$ ano                     : Factor w/ 3 levels \"\",\"2013\",\"2M1234 (19/08/2013 - 30/08/2013)\": 2 2 2 2 2 2 2 2 2 2 ...\n",
      "  ..$ periodo                 : int [1:11798] 2 2 2 2 2 2 2 2 2 2 ...\n",
      "  ..$ data_inicio             : Factor w/ 127 levels \"\",\"20\",\"2013-01-02\",..: 4 4 4 4 4 36 84 84 119 13 ...\n",
      "  ..$ data_fim                : Factor w/ 149 levels \"\",\"2013-06-03\",..: 3 3 3 3 3 58 117 117 135 12 ...\n",
      "  ..$ descricao_horario       : Factor w/ 1800 levels \"\",\"123456N1234 (09/12/2013 - 13/12/2013), 7M12345 (14/12/2013 - 14/12/2013)\",..: 1363 379 379 379 379 1710 1710 1710 1710 722 ...\n",
      "  ..$ total_solicitacoes      : Factor w/ 157 levels \"\",\"0\",\"1\",\"10\",..: 1 1 1 1 1 1 1 1 1 1 ...\n",
      "  ..$ capacidade_aluno        : Factor w/ 95 levels \"\",\"1\",\"10\",\"100\",..: 27 2 38 2 49 39 39 39 39 28 ...\n",
      "  ..$ tipo                    : Factor w/ 3 levels \"\",\"ENSINO INDIVIDUAL\",..: 3 3 3 3 3 3 3 3 3 3 ...\n",
      "  ..$ distancia               : Factor w/ 3 levels \"\",\"f\",\"t\": 2 2 2 2 2 2 2 2 2 2 ...\n",
      "  ..$ data_consolidacao       : Factor w/ 6981 levels \"\",\"2013-08-06 09:21:34.537\",..: 1 1 1 1 1 6682 6803 6803 6804 6696 ...\n",
      "  ..$ agrupadora              : Factor w/ 2 levels \"\",\"f\": 2 2 2 2 2 2 2 2 2 2 ...\n",
      "  ..$ id_turma_agrupadora     : Factor w/ 287 levels \"\",\"1207261\",\"1207269\",..: 1 1 1 1 1 1 1 1 1 1 ...\n",
      "  ..$ qtd_aulas_lancadas      : int [1:11798] NA NA NA NA NA 0 0 0 0 0 ...\n",
      "  ..$ situacao_turma          : Factor w/ 5 levels \"\",\"ABERTA\",\"CONSOLIDADA\",..: 4 4 4 4 4 3 3 3 3 3 ...\n",
      "  ..$ convenio                : Factor w/ 2 levels \"\",\"PARFOR\": 1 1 1 1 1 1 1 1 1 1 ...\n",
      "  ..$ modalidade_participantes: Factor w/ 3 levels \"\",\"A Distância\",..: 3 3 3 3 3 3 3 3 3 3 ...\n",
      "  ..$ X                       : logi [1:11798] NA NA NA NA NA NA ...\n",
      " $ :'data.frame':\t12080 obs. of  26 variables:\n",
      "  ..$ id_turma                : int [1:12080] 1205342 1205342 1205343 1207245 1207246 1207247 1207248 1215958 1215958 1215958 ...\n",
      "  ..$ codigo_turma            : Factor w/ 122 levels \"01\",\"01A\",\"01B\",..: 1 1 1 1 1 1 1 1 1 1 ...\n",
      "  ..$ id_docente_interno      : int [1:12080] 5752548 21790 25444 NA 23859 NA 26133 5752192 5753881 5752663 ...\n",
      "  ..$ id_docente_externo      : int [1:12080] NA NA NA 96111462 NA 96110857 NA NA NA NA ...\n",
      "  ..$ observacao              : Factor w/ 148 levels \"\",\"12 a 16 de maio, das 09h às 12h.\",..: 1 1 1 1 1 1 1 1 1 1 ...\n",
      "  ..$ id_componente_curricular: int [1:12080] 51232 51232 51233 53646 53643 53647 53948 51816 51816 51816 ...\n",
      "  ..$ nivel_ensino            : Factor w/ 7 levels \"\",\"FORMAÇÃO COMPLEMENTAR\",..: 4 4 4 4 4 4 4 4 4 4 ...\n",
      "  ..$ campus_turma            : Factor w/ 6 levels \"\",\"Campus Caicó\",..: 1 1 1 1 1 1 1 1 1 1 ...\n",
      "  ..$ local                   : Factor w/ 1427 levels \"\",\"-\",\"---\",\"1 E2\",..: 341 341 341 1251 1251 1251 1251 1309 1309 1309 ...\n",
      "  ..$ ano                     : int [1:12080] 2014 2014 2014 2014 2014 2014 2014 2014 2014 2014 ...\n",
      "  ..$ periodo                 : int [1:12080] 1 1 1 1 1 1 1 1 1 1 ...\n",
      "  ..$ data_inicio             : Factor w/ 112 levels \"\",\"2013-09-14\",..: 18 18 65 13 42 76 103 36 36 36 ...\n",
      "  ..$ data_fim                : Factor w/ 128 levels \"\",\"2013-10-04\",..: 44 44 79 13 52 85 110 35 35 35 ...\n",
      "  ..$ descricao_horario       : Factor w/ 1677 levels \"\",\"16M2345 7M235  67T3456 (14/02/2014 - 16/02/2014)\",..: 1586 1586 1585 1584 1584 1584 1584 1550 1550 1550 ...\n",
      "  ..$ total_solicitacoes      : int [1:12080] NA NA NA NA NA NA NA NA NA NA ...\n",
      "  ..$ capacidade_aluno        : int [1:12080] 30 30 30 33 33 33 33 77 77 77 ...\n",
      "  ..$ tipo                    : Factor w/ 3 levels \"\",\"ENSINO INDIVIDUAL\",..: 3 3 3 3 3 3 3 3 3 3 ...\n",
      "  ..$ distancia               : Factor w/ 3 levels \"\",\"f\",\"t\": 2 2 2 2 2 2 2 2 2 2 ...\n",
      "  ..$ data_consolidacao       : Factor w/ 7593 levels \"\",\"2014-01-28 10:53:20.94\",..: 7291 7291 7293 7489 6945 7298 7456 15 15 15 ...\n",
      "  ..$ agrupadora              : Factor w/ 2 levels \"\",\"f\": 2 2 2 2 2 2 2 2 2 2 ...\n",
      "  ..$ id_turma_agrupadora     : int [1:12080] NA NA NA NA NA NA NA NA NA NA ...\n",
      "  ..$ qtd_aulas_lancadas      : int [1:12080] 20 20 0 32 40 48 40 33 33 33 ...\n",
      "  ..$ situacao_turma          : Factor w/ 5 levels \"\",\"ABERTA\",\"CONSOLIDADA\",..: 3 3 3 3 3 3 3 3 3 3 ...\n",
      "  ..$ convenio                : logi [1:12080] NA NA NA NA NA NA ...\n",
      "  ..$ modalidade_participantes: Factor w/ 3 levels \"\",\"A Distância\",..: 3 3 3 3 3 3 3 3 3 3 ...\n",
      "  ..$ X                       : logi [1:12080] NA NA NA NA NA NA ...\n",
      " $ :'data.frame':\t6744 obs. of  26 variables:\n",
      "  ..$ id_turma                : Factor w/ 4175 levels \";37543;STRICTO SENSU;\\\";SETOR II - SALA F3;2014;2;2014-07-21;2014-12-13;2M3 6M6;4;30;REGULAR;f;2015-02-12 13:28\"| __truncated__,..: 8 9 10 11 11 11 11 12 12 13 ...\n",
      "  ..$ codigo_turma            : Factor w/ 101 levels \"\",\" 5N12 (2-G-3);2014;2;2014-07-21;2014-12-06;35N12;8;50;REGULAR;f;2014-12-09 02:47:13.189;f;\\\";74;CONSOLIDADA;\\\";\"| __truncated__,..: 5 5 5 5 5 5 5 5 5 5 ...\n",
      "  ..$ id_docente_interno      : Factor w/ 1789 levels \"\",\"102359\",\"114673\",..: 1298 426 610 1001 951 681 52 1 978 925 ...\n",
      "  ..$ id_docente_externo      : int [1:6744] NA NA NA NA NA NA NA 107463637 NA NA ...\n",
      "  ..$ observacao              : Factor w/ 87 levels \"\",\"10 a 14/11, das 09h às 12h\",..: 1 1 1 1 1 1 1 1 1 1 ...\n",
      "  ..$ id_componente_curricular: Factor w/ 2233 levels \"\",\"18652\",\"18654\",..: 1847 1937 1816 1830 1830 1830 1830 1817 1817 1644 ...\n",
      "  ..$ nivel_ensino            : Factor w/ 9 levels \"\",\"2\",\"35T56\",..: 6 6 6 6 6 6 6 6 6 6 ...\n",
      "  ..$ campus_turma            : Factor w/ 8 levels \"\",\"2014-08-18\",..: 1 1 1 1 1 1 1 1 1 1 ...\n",
      "  ..$ local                   : Factor w/ 907 levels \"\",\"---\",\"*AUDITÓRIO DO DEPARTAMENTO DE FISIOTERAPIA\",..: 793 793 339 339 339 339 339 339 339 343 ...\n",
      "  ..$ ano                     : Factor w/ 7 levels \"\",\" 4ª sala);2014;2;2014-07-21;2014-12-06;3T12 5T1234;27;55;REGULAR;f;2014-12-02 11:54:36.362;f;\\\";104;CONSOLIDADA\"| __truncated__,..: 4 4 4 4 4 4 4 4 4 4 ...\n",
      "  ..$ periodo                 : Factor w/ 7 levels \"\",\" 6 sala CARNAÚBA;2014;2;2014-07-21;2014-12-06;24T34 6T1234;20;35;REGULAR;f;2014-12-07 09:12:51.929;f;\\\";144;CON\"| __truncated__,..: 4 4 4 4 4 4 4 4 4 4 ...\n",
      "  ..$ data_inicio             : Factor w/ 115 levels \"\",\" 6 sala CARNAÚBA;2014;2;2014-07-21;2014-12-06;24T34 6T1234;20;35;REGULAR;f;2014-12-07 09:12:51.929;f;\\\";144;CON\"| __truncated__,..: 32 53 9 23 23 23 23 108 108 8 ...\n",
      "  ..$ data_fim                : Factor w/ 140 levels \"\",\" 6 sala CARNAÚBA;2014;2;2014-07-21;2014-12-06;24T34 6T1234;20;35;REGULAR;f;2014-12-07 09:12:51.929;f;\\\";144;CON\"| __truncated__,..: 34 120 5 90 90 90 90 114 114 123 ...\n",
      "  ..$ descricao_horario       : Factor w/ 1153 levels \"\",\" 6 sala CARNAÚBA;2014;2;2014-07-21;2014-12-06;24T34 6T1234;20;35;REGULAR;f;2014-12-07 09:12:51.929;f;\\\";144;CON\"| __truncated__,..: 1110 1084 45 21 21 21 21 44 44 1072 ...\n",
      "  ..$ total_solicitacoes      : Factor w/ 137 levels \"\",\" 6 sala CARNAÚBA;2014;2;2014-07-21;2014-12-06;24T34 6T1234;20;35;REGULAR;f;2014-12-07 09:12:51.929;f;\\\";144;CON\"| __truncated__,..: 1 1 1 1 1 1 1 1 1 1 ...\n",
      "  ..$ capacidade_aluno        : Factor w/ 102 levels \"\",\" 6 sala CARNAÚBA;2014;2;2014-07-21;2014-12-06;24T34 6T1234;20;35;REGULAR;f;2014-12-07 09:12:51.929;f;\\\";144;CON\"| __truncated__,..: 52 52 44 44 44 44 44 44 44 11 ...\n",
      "  ..$ tipo                    : Factor w/ 6 levels \"\",\" 6 sala CARNAÚBA;2014;2;2014-07-21;2014-12-06;24T34 6T1234;20;35;REGULAR;f;2014-12-07 09:12:51.929;f;\\\";144;CON\"| __truncated__,..: 5 5 5 5 5 5 5 5 5 5 ...\n",
      "  ..$ distancia               : Factor w/ 6 levels \"\",\"32\",\"6N34\",..: 4 4 4 4 4 4 4 4 4 4 ...\n",
      "  ..$ data_consolidacao       : Factor w/ 3811 levels \"\",\"2014-07-30 08:40:26.116\",..: 3365 3687 2 3683 3683 3683 3683 2712 2712 3736 ...\n",
      "  ..$ agrupadora              : Factor w/ 3 levels \"\",\"25\",\"f\": 3 3 3 3 3 3 3 3 3 3 ...\n",
      "  ..$ id_turma_agrupadora     : Factor w/ 181 levels \"\",\"1228327\",\"1228854\",..: 1 1 1 1 1 1 1 1 1 1 ...\n",
      "  ..$ qtd_aulas_lancadas      : Factor w/ 161 levels \"\",\"0\",\"10\",\"100\",..: 80 2 77 111 111 111 111 77 77 2 ...\n",
      "  ..$ situacao_turma          : Factor w/ 6 levels \"\",\"2015-02-14 09:35:12.787\",..: 4 4 4 4 4 4 4 4 4 4 ...\n",
      "  ..$ convenio                : Factor w/ 2 levels \"\",\"f\": 1 1 1 1 1 1 1 1 1 1 ...\n",
      "  ..$ modalidade_participantes: Factor w/ 3 levels \"\",\"A Distância\",..: 3 3 3 3 3 3 3 3 3 3 ...\n",
      "  ..$ X                       : int [1:6744] NA NA NA NA NA NA NA NA NA NA ...\n",
      " $ :'data.frame':\t10917 obs. of  26 variables:\n",
      "  ..$ id_turma                : Factor w/ 6903 levels \";59071;STRICTO SENSU;\\\";UFRN - NEPSA - SALA 02;2015;1;2015-02-02;2015-06-20;5T23;4;11;REGULAR;f;2015-07-03 10:5\"| __truncated__,..: 4 5 6 7 7 8 9 10 11 12 ...\n",
      "  ..$ codigo_turma            : Factor w/ 90 levels \"\",\"01\",\"01A\",..: 2 2 2 2 2 2 2 2 2 2 ...\n",
      "  ..$ id_docente_interno      : int [1:10917] 18225 18695 5753068 NA NA 26152 5753866 NA NA NA ...\n",
      "  ..$ id_docente_externo      : int [1:10917] NA NA NA 109565745 109565716 NA NA 105114315 106944901 105135549 ...\n",
      "  ..$ observacao              : Factor w/ 163 levels \"\",\"\\u0096 Relações pessoa-ambiente: teoria e interdisciplinaridade\",..: 1 1 1 1 1 1 1 1 1 1 ...\n",
      "  ..$ id_componente_curricular: Factor w/ 3666 levels \"\",\" 6N34=2B2;2015;1;2015-02-02;2015-06-20;46N34;35;50;REGULAR;f;2015-06-20 00:48:00.928;f;\\\";74;CONSOLIDADA;\\\";Pre\"| __truncated__,..: 3105 3104 3106 3103 3103 3406 3407 3477 3476 3517 ...\n",
      "  ..$ nivel_ensino            : Factor w/ 8 levels \"\",\"2015\",\"FORMAÇÃO COMPLEMENTAR\",..: 5 5 5 5 5 5 5 8 8 8 ...\n",
      "  ..$ campus_turma            : Factor w/ 7 levels \"\",\"1\",\"Campus Caicó\",..: 1 1 1 1 1 1 1 1 1 1 ...\n",
      "  ..$ local                   : Factor w/ 1275 levels \"\",\"---\",\"?\",\"1-A-1\",..: 479 479 479 479 479 501 501 509 509 517 ...\n",
      "  ..$ ano                     : Factor w/ 3 levels \"\",\"2015\",\"2015-05-16\": 2 2 2 2 2 2 2 2 2 2 ...\n",
      "  ..$ periodo                 : Factor w/ 3 levels \"\",\"1\",\"234567M123456  234567T123456  234567N12 (11/05/2015 - 16/05/2015)\": 2 2 2 2 2 2 2 2 2 2 ...\n",
      "  ..$ data_inicio             : Factor w/ 110 levels \"\",\"2015-01-01\",..: 84 66 15 37 37 33 3 9 56 24 ...\n",
      "  ..$ data_fim                : Factor w/ 138 levels \"\",\"2015-01-24\",..: 78 54 6 23 23 35 65 83 102 111 ...\n",
      "  ..$ descricao_horario       : Factor w/ 1560 levels \"\",\"167M2345  12T3456\",..: 47 558 45 45 45 1421 1392 1389 1078 1255 ...\n",
      "  ..$ total_solicitacoes      : Factor w/ 140 levels \"\",\"0\",\"1\",\"10\",..: 1 1 1 1 1 1 1 1 1 1 ...\n",
      "  ..$ capacidade_aluno        : int [1:10917] 26 26 26 26 26 12 12 40 40 40 ...\n",
      "  ..$ tipo                    : Factor w/ 5 levels \"\",\"ENSINO INDIVIDUAL\",..: 4 4 4 4 4 4 4 4 4 4 ...\n",
      "  ..$ distancia               : Factor w/ 3 levels \"\",\"f\",\"t\": 2 2 2 2 2 2 2 2 2 2 ...\n",
      "  ..$ data_consolidacao       : Factor w/ 6363 levels \"\",\"2015-02-17 02:38:26.099\",..: 37 6030 36 5971 5971 6180 6187 1 5884 1 ...\n",
      "  ..$ agrupadora              : Factor w/ 3 levels \"\",\"EXCLUÍDA\",..: 3 3 3 3 3 3 3 3 3 3 ...\n",
      "  ..$ id_turma_agrupadora     : int [1:10917] NA NA NA NA NA NA NA NA NA NA ...\n",
      "  ..$ qtd_aulas_lancadas      : Factor w/ 181 levels \"\",\"0\",\"1\",\"10\",..: 45 159 93 81 81 2 2 1 136 1 ...\n",
      "  ..$ situacao_turma          : Factor w/ 5 levels \"\",\"ABERTA\",\"CONSOLIDADA\",..: 3 3 3 3 3 3 3 4 3 4 ...\n",
      "  ..$ convenio                : logi [1:10917] NA NA NA NA NA NA ...\n",
      "  ..$ modalidade_participantes: Factor w/ 3 levels \"\",\"A Distância\",..: 3 3 3 3 3 3 3 3 3 3 ...\n",
      "  ..$ X                       : logi [1:10917] NA NA NA NA NA NA ...\n",
      " $ :'data.frame':\t7159 obs. of  26 variables:\n",
      "  ..$ id_turma                : Factor w/ 4764 levels \" 2ª sala);2015;2;2015-07-27;2015-12-19;2T1234;30;35;REGULAR;f;2015-12-15 14:01:03.672;f;\\\";68;CONSOLIDADA;\\\";Pr\"| __truncated__,..: 6 7 8 9 10 11 12 13 14 15 ...\n",
      "  ..$ codigo_turma            : Factor w/ 70 levels \"\",\" 09/11 14h00min às 17h30min\",..: 7 7 7 7 7 7 14 14 7 7 ...\n",
      "  ..$ id_docente_interno      : Factor w/ 1990 levels \"\",\" 2ª sala);2015;2;2015-07-27;2015-12-19;6N1234;3;35;REGULAR;f;2015-12-15 14:32:50.325;f;\\\";72;CONSOLIDADA;\\\";Pre\"| __truncated__,..: 1329 1447 286 1300 1362 1 1300 286 1 1 ...\n",
      "  ..$ id_docente_externo      : Factor w/ 295 levels \"\",\" 2ª sala);2015;2;2015-07-27;2015-12-19;6N1234;3;35;REGULAR;f;2015-12-15 14:32:50.325;f;\\\";72;CONSOLIDADA;\\\";Pre\"| __truncated__,..: 1 1 1 1 1 89 1 1 159 25 ...\n",
      "  ..$ observacao              : Factor w/ 53 levels \"\",\" 2ª sala);2015;2;2015-07-27;2015-12-19;6T1234;31;35;REGULAR;f;2015-12-17 16:02:19.843;f;\\\";68;CONSOLIDADA;\\\";Pr\"| __truncated__,..: 1 1 1 1 1 1 1 1 1 1 ...\n",
      "  ..$ id_componente_curricular: Factor w/ 2771 levels \"\",\" 2ª sala);2015;2;2015-07-27;2015-12-19;6T1234;31;35;REGULAR;f;2015-12-17 16:02:19.843;f;\\\";68;CONSOLIDADA;\\\";Pr\"| __truncated__,..: 2240 2247 2243 2241 2242 2239 2241 2243 2613 2627 ...\n",
      "  ..$ nivel_ensino            : Factor w/ 10 levels \"\",\" 2ª sala);2015;2;2015-07-27;2015-12-19;6T1234;31;35;REGULAR;f;2015-12-17 16:02:19.843;f;\\\";68;CONSOLIDADA;\\\";Pr\"| __truncated__,..: 7 7 7 7 7 7 7 7 10 10 ...\n",
      "  ..$ campus_turma            : Factor w/ 9 levels \"\",\" 5º sala);2015;2;2015-07-27;2015-12-19;6N1234;24;35;REGULAR;f;2015-12-17 16:10:36.748;f;\\\";76;CONSOLIDADA;\\\";Pr\"| __truncated__,..: 1 1 1 1 1 1 1 1 1 1 ...\n",
      "  ..$ local                   : Factor w/ 981 levels \"\",\" 5º sala);2015;2;2015-07-27;2015-12-19;6N1234;24;35;REGULAR;f;2015-12-17 16:10:36.748;f;\\\";76;CONSOLIDADA;\\\";Pr\"| __truncated__,..: 321 321 321 321 347 347 347 347 423 423 ...\n",
      "  ..$ ano                     : Factor w/ 6 levels \"\",\" 4ª sala);2015;2;2015-07-27;2015-12-19;24N34;12;50;REGULAR;f;2015-12-16 18:21:51.749;f;\\\";68;CONSOLIDADA;\\\";Pre\"| __truncated__,..: 6 6 6 6 6 6 6 6 6 6 ...\n",
      "  ..$ periodo                 : Factor w/ 6 levels \"\",\" 2ª sala);2015;2;2015-07-27;2015-12-19;6M3456;35;35;REGULAR;f;2015-12-17 16:04:14.217;f;\\\";76;CONSOLIDADA;\\\";Pr\"| __truncated__,..: 6 6 6 6 6 6 6 6 6 6 ...\n",
      "  ..$ data_inicio             : Factor w/ 169 levels \"\",\" 2ª sala);2015;2;2015-07-27;2015-12-19;6M3456;35;35;REGULAR;f;2015-12-17 16:04:14.217;f;\\\";76;CONSOLIDADA;\\\";Pr\"| __truncated__,..: 118 39 66 90 112 39 66 90 53 43 ...\n",
      "  ..$ data_fim                : Factor w/ 220 levels \"\",\" 2ª sala);2015;2;2015-07-27;2015-12-19;6M3456;35;35;REGULAR;f;2015-12-17 16:04:14.217;f;\\\";76;CONSOLIDADA;\\\";Pr\"| __truncated__,..: 102 17 41 67 102 17 41 67 37 72 ...\n",
      "  ..$ descricao_horario       : Factor w/ 1222 levels \"\",\" 35 FAVELEIRA;2015;2;2015-07-27;2015-12-19;24T34 35T56;24;35;REGULAR;f;2015-12-19 13:48:53.902;f;\\\";148;CONSOLI\"| __truncated__,..: 1166 1166 1166 1166 1166 1166 1166 1166 591 563 ...\n",
      "  ..$ total_solicitacoes      : Factor w/ 135 levels \"\",\" 35 FAVELEIRA;2015;2;2015-07-27;2015-12-19;24T34 35T56;24;35;REGULAR;f;2015-12-19 13:48:53.902;f;\\\";148;CONSOLI\"| __truncated__,..: 1 1 1 1 1 1 1 1 1 1 ...\n",
      "  ..$ capacidade_aluno        : Factor w/ 94 levels \"\",\" 2ª sala);2015;2;2015-07-27;2015-12-19;35M56;54;40;REGULAR;f;2015-12-02 11:05:49.688;f;\\\";74;CONSOLIDADA;\\\";Pre\"| __truncated__,..: 73 73 73 73 73 73 73 73 51 51 ...\n",
      "  ..$ tipo                    : Factor w/ 7 levels \"\",\" 2ª sala);2015;2;2015-07-27;2015-12-19;3M56 5M3456;19;40;REGULAR;f;2015-12-13 17:53:30.058;f;\\\";116;CONSOLIDADA\"| __truncated__,..: 7 7 7 7 7 7 7 7 7 7 ...\n",
      "  ..$ distancia               : Factor w/ 7 levels \"\",\" 2ª sala);2015;2;2015-07-27;2015-12-19;3M56 5M3456;19;40;REGULAR;f;2015-12-13 17:53:30.058;f;\\\";116;CONSOLIDADA\"| __truncated__,..: 6 6 6 6 6 6 6 6 6 6 ...\n",
      "  ..$ data_consolidacao       : Factor w/ 4491 levels \"\",\" 5-PAU D'ARCO (1ºandar\",..: 4148 4414 4010 4109 4105 4324 4110 3967 32 1077 ...\n",
      "  ..$ agrupadora              : Factor w/ 5 levels \"\",\" Maíra Maria de Menezes\",..: 5 5 5 5 5 5 5 5 5 5 ...\n",
      "  ..$ id_turma_agrupadora     : Factor w/ 151 levels \"\",\" Fernando Bastos;54561;STRICTO SENSU;\\\";Hugo Alexandre de Oliveira Rocha;2015;2;2015-08-14;2015-12-31;7N4;4;3;R\"| __truncated__,..: 1 1 1 1 1 1 1 1 1 1 ...\n",
      "  ..$ qtd_aulas_lancadas      : Factor w/ 180 levels \"\",\" 5-PAU D'ARCO (1ºandar\",..: 72 72 72 72 98 4 72 72 63 141 ...\n",
      "  ..$ situacao_turma          : Factor w/ 8 levels \"\",\" Sara Iasmin;55258;STRICTO SENSU;\\\";Ivonete Batista de Araújo;2015;2;2015-08-14;2015-12-31;7N4;1;2;REGULAR;f;20\"| __truncated__,..: 6 6 6 6 6 6 6 6 6 6 ...\n",
      "  ..$ convenio                : Factor w/ 4 levels \"\",\" 2ª sala);2015;2;2015-07-27;2015-12-19;2M3456;31;35;REGULAR;f;2015-12-13 17:50:31.192;f;\\\";68;CONSOLIDADA;\\\";Pr\"| __truncated__,..: 1 1 1 1 1 1 1 1 1 1 ...\n",
      "  ..$ modalidade_participantes: Factor w/ 6 levels \"\",\" 2ª sala);2015;2;2015-07-27;2015-12-19;2M3456;31;35;REGULAR;f;2015-12-13 17:50:31.192;f;\\\";68;CONSOLIDADA;\\\";Pr\"| __truncated__,..: 6 6 6 6 6 6 6 6 6 6 ...\n",
      "  ..$ X                       : Factor w/ 4 levels \"\",\" 4ª sala);2015;2;2015-07-27;2015-12-19;2N1234;25;35;REGULAR;f;2015-12-15 14:08:30.274;f;\\\";68;CONSOLIDADA;\\\";Pr\"| __truncated__,..: 1 1 1 1 1 1 1 1 1 1 ...\n",
      " $ :'data.frame':\t2884 obs. of  26 variables:\n",
      "  ..$ id_turma                : Factor w/ 2246 levels \" 2M34 (Lab. de Anatomia da Madeira);2016;1;2016-02-01;2016-06-18;2M2345;24;40;REGULAR;f;2016-06-13 15:02:24.969\"| __truncated__,..: 3 4 4 5 5 6 7 8 8 9 ...\n",
      "  ..$ codigo_turma            : Factor w/ 52 levels \" 1ª sala);2016;1;2016-02-01;2016-06-18;2T1234;31;35;REGULAR;f;2016-06-15 10:14:11.888;f;\\\";76;CONSOLIDADA;\\\";Pr\"| __truncated__,..: 2 4 4 6 6 9 10 11 11 12 ...\n",
      "  ..$ id_docente_interno      : Factor w/ 933 levels \"\",\" 1ª sala);2016;1;2016-02-01;2016-06-18;2M1234;38;35;REGULAR;f;2016-06-15 12:13:38.12;f;\\\";68;CONSOLIDADA;\\\";Pre\"| __truncated__,..: 414 414 1 1 414 33 517 1 414 414 ...\n",
      "  ..$ id_docente_externo      : Factor w/ 340 levels \"\",\" 1ª sala);2016;1;2016-02-01;2016-06-18;4N1234;15;35;REGULAR;f;2016-06-23 14:17:39.04;f;\\\";68;CONSOLIDADA;\\\";Pre\"| __truncated__,..: 1 1 84 102 1 1 1 85 1 1 ...\n",
      "  ..$ observacao              : Factor w/ 210 levels \"\",\" 1ª sala);2016;1;2016-02-01;2016-06-18;6M1234;29;35;REGULAR;f;2016-06-20 17:21:55.131;f;\\\";76;CONSOLIDADA;\\\";Pr\"| __truncated__,..: 1 1 1 1 1 1 1 1 1 1 ...\n",
      "  ..$ id_componente_curricular: Factor w/ 1326 levels \" 1ª sala);2016;1;2016-02-01;2016-06-18;6M1234;29;35;REGULAR;f;2016-06-20 17:21:55.131;f;\\\";76;CONSOLIDADA;\\\";Pr\"| __truncated__,..: 693 693 693 693 693 693 693 693 693 693 ...\n",
      "  ..$ nivel_ensino            : Factor w/ 8 levels \" 1ª sala);2016;1;2016-02-01;2016-06-18;6M1234;29;35;REGULAR;f;2016-06-20 17:21:55.131;f;\\\";76;CONSOLIDADA;\\\";Pr\"| __truncated__,..: 5 5 5 5 5 5 5 5 5 5 ...\n",
      "  ..$ campus_turma            : Factor w/ 8 levels \"\",\" 1ª sala);2016;1;2016-02-01;2016-06-18;6N1234;17;35;REGULAR;f;2016-06-20 17:28:59.333;f;\\\";76;CONSOLIDADA;\\\";Pr\"| __truncated__,..: 1 1 1 1 1 1 1 1 1 1 ...\n",
      "  ..$ local                   : Factor w/ 528 levels \"\",\" 1ª sala);2016;1;2016-02-01;2016-06-18;6N1234;17;35;REGULAR;f;2016-06-20 17:28:59.333;f;\\\";76;CONSOLIDADA;\\\";Pr\"| __truncated__,..: 1 1 1 1 1 1 1 1 1 1 ...\n",
      "  ..$ ano                     : Factor w/ 4 levels \" 1ª sala);2016;1;2016-02-01;2016-06-18;6N1234;17;35;REGULAR;f;2016-06-20 17:28:59.333;f;\\\";76;CONSOLIDADA;\\\";Pr\"| __truncated__,..: 3 3 3 3 3 3 3 3 3 3 ...\n",
      "  ..$ periodo                 : Factor w/ 4 levels \" 2ª sala);2016;1;2016-02-01;2016-06-18;6N1234;27;35;REGULAR;f;2016-06-22 19:09:03.868;f;\\\";76;CONSOLIDADA;\\\";Pr\"| __truncated__,..: 3 3 3 3 3 3 3 3 3 3 ...\n",
      "  ..$ data_inicio             : Factor w/ 231 levels \" 1ª sala);2016;1;2016-02-01;2016-06-18;5N1234 (01/02/2016 - 19/03/2016),  7N1234 (20/03/2016 - 26/03/2016),  5N\"| __truncated__,..: 29 29 29 29 29 29 29 29 29 29 ...\n",
      "  ..$ data_fim                : Factor w/ 270 levels \" 1ª sala);2016;1;2016-02-01;2016-06-18;5T1234 (01/02/2016 - 19/03/2016),  7T1234 (20/03/2016 - 26/03/2016),  5T\"| __truncated__,..: 25 24 24 25 25 25 40 25 25 25 ...\n",
      "  ..$ descricao_horario       : Factor w/ 593 levels \"\",\" 2ª sala);2016;1;2016-02-01;2016-06-18;6T1234;36;35;REGULAR;f;2016-06-22 19:10:34.156;f;\\\";68;CONSOLIDADA;\\\";Pr\"| __truncated__,..: 1 1 1 1 1 1 1 1 1 1 ...\n",
      "  ..$ total_solicitacoes      : Factor w/ 51 levels \"\",\" 2ª sala);2016;1;2016-02-01;2016-06-18;6T1234;36;35;REGULAR;f;2016-06-22 19:10:34.156;f;\\\";68;CONSOLIDADA;\\\";Pr\"| __truncated__,..: 1 1 1 1 1 1 1 1 1 1 ...\n",
      "  ..$ capacidade_aluno        : Factor w/ 56 levels \"\",\" 2ª sala);2016;1;2016-02-01;2016-06-18;6T1234;36;35;REGULAR;f;2016-06-22 19:10:34.156;f;\\\";68;CONSOLIDADA;\\\";Pr\"| __truncated__,..: 1 1 1 1 1 1 1 1 1 1 ...\n",
      "  ..$ tipo                    : Factor w/ 5 levels \"\",\" 1ª sala);2016;1;2016-02-01;2016-06-18;2N1234;25;35;REGULAR;f;2016-06-19 21:24:53.005;f;\\\";72;CONSOLIDADA;\\\";Pr\"| __truncated__,..: 5 5 5 5 5 5 5 5 5 5 ...\n",
      "  ..$ distancia               : Factor w/ 5 levels \" 1ª sala);2016;1;2016-02-01;2016-06-18;2N1234;25;35;REGULAR;f;2016-06-19 21:24:53.005;f;\\\";72;CONSOLIDADA;\\\";Pr\"| __truncated__,..: 5 5 5 5 5 5 5 5 5 5 ...\n",
      "  ..$ data_consolidacao       : Factor w/ 1899 levels \"\",\" 1ª sala);2016;1;2016-02-01;2016-06-18;2N1234;25;35;REGULAR;f;2016-06-19 21:24:53.005;f;\\\";72;CONSOLIDADA;\\\";Pr\"| __truncated__,..: 93 84 84 185 185 86 89 92 92 83 ...\n",
      "  ..$ agrupadora              : Factor w/ 4 levels \"\",\" 1ª sala);2016;1;2016-02-01;2016-06-18;4M1234;33;35;REGULAR;f;2016-06-19 21:27:43.319;f;\\\";72;CONSOLIDADA;\\\";Pr\"| __truncated__,..: 4 4 4 4 4 4 4 4 4 4 ...\n",
      "  ..$ id_turma_agrupadora     : Factor w/ 8 levels \"\",\" 1ª sala);2016;1;2016-02-01;2016-06-18;4M1234;33;35;REGULAR;f;2016-06-19 21:27:43.319;f;\\\";72;CONSOLIDADA;\\\";Pr\"| __truncated__,..: 1 1 1 1 1 1 1 1 1 1 ...\n",
      "  ..$ qtd_aulas_lancadas      : Factor w/ 107 levels \"\",\" 1ª sala);2016;1;2016-02-01;2016-06-18;4M1234;33;35;REGULAR;f;2016-06-19 21:27:43.319;f;\\\";72;CONSOLIDADA;\\\";Pr\"| __truncated__,..: 4 4 4 4 4 4 4 4 4 4 ...\n",
      "  ..$ situacao_turma          : Factor w/ 7 levels \"\",\" 2ª sala);2016;1;2016-02-01;2016-06-18;2N1234;16;42;REGULAR;f;2016-06-17 12:25:14.471;f;\\\";68;CONSOLIDADA;\\\";Pr\"| __truncated__,..: 5 5 5 5 5 5 5 5 5 5 ...\n",
      "  ..$ convenio                : Factor w/ 3 levels \"\",\" 4ª sala);2016;1;2016-02-01;2016-06-18;3M56 4M345;6;40;REGULAR;f;2016-06-17 13:55:49.27;f;\\\";90;CONSOLIDADA;\\\";\"| __truncated__,..: 1 1 1 1 1 1 1 1 1 1 ...\n",
      "  ..$ modalidade_participantes: Factor w/ 5 levels \"\",\" 4ª sala);2016;1;2016-02-01;2016-06-18;3M56 4M345;6;40;REGULAR;f;2016-06-17 13:55:49.27;f;\\\";90;CONSOLIDADA;\\\";\"| __truncated__,..: 4 4 4 4 4 4 4 4 4 4 ...\n",
      "  ..$ X                       : Factor w/ 3 levels \"\",\" Depto. Morfologia);2016;1;2016-02-01;2016-06-18;45N12;20;39;REGULAR;f;2016-06-16 07:29:36.276;f;\\\";72;CONSOLID\"| __truncated__,..: 1 1 1 1 1 1 1 1 1 1 ...\n",
      " $ :'data.frame':\t9267 obs. of  26 variables:\n",
      "  ..$ id_turma                : Factor w/ 5398 levels \" 4ª sala - Bloco Novo CB);2016;2;2016-07-25;2016-12-17;4T1234;32;37;REGULAR;f;2016-12-16 20:48:55.513;f;\\\";72;C\"| __truncated__,..: 7 8 9 10 11 12 13 14 15 16 ...\n",
      "  ..$ codigo_turma            : Factor w/ 83 levels \"\",\" 4ª sala - Bloco Novo CB);2016;2;2016-07-25;2016-12-17;4T1234;18;46;REGULAR;f;2016-12-08 16:56:54.262;f;\\\";68;C\"| __truncated__,..: 5 5 5 5 10 15 20 5 10 15 ...\n",
      "  ..$ id_docente_interno      : Factor w/ 1972 levels \"\",\" 4ª sala - Bloco Novo CB);2016;2;2016-07-25;2016-12-17;4T1234;18;46;REGULAR;f;2016-12-08 16:56:54.262;f;\\\";68;C\"| __truncated__,..: 996 944 943 398 654 398 305 305 305 398 ...\n",
      "  ..$ id_docente_externo      : Factor w/ 244 levels \"\",\" 3ª sala - Bloco Novo CB);2016;2;2016-07-25;2016-12-17;6M3456;32;37;REGULAR;f;2016-12-16 19:42:00.508;f;\\\";80;C\"| __truncated__,..: 1 1 1 1 1 1 1 1 1 1 ...\n",
      "  ..$ observacao              : Factor w/ 183 levels \"\",\" \",\" * Disciplina obrigatória: não aceita alunos especiais\",..: 1 1 1 1 1 1 1 1 1 1 ...\n",
      "  ..$ id_componente_curricular: Factor w/ 2983 levels \"\",\" 10, 24 e 26/10;61552;STRICTO SENSU;\\\";SETOR II - G3;2016;2;2016-09-19;2016-10-26;24T345;2;20;REGULAR;f;2016-12\"| __truncated__,..: 1943 15 11 5 5 5 5 6 6 6 ...\n",
      "  ..$ nivel_ensino            : Factor w/ 12 levels \"\",\" 10, 24 e 26/10;37549;STRICTO SENSU;\\\";SETOR II - SALA G3;2016;2;2016-07-25;2016-12-15;2T1;2;20;REGULAR;f;2016-\"| __truncated__,..: 8 12 12 12 12 12 12 12 12 12 ...\n",
      "  ..$ campus_turma            : Factor w/ 11 levels \"\",\" 3ª sala);2016;2;2016-07-25;2016-12-17;26N12 4N34;20;35;REGULAR;f;2016-12-17 14:48:46.743;f;\\\";98;CONSOLIDADA;\\\"| __truncated__,..: 1 1 1 1 1 1 1 1 1 1 ...\n",
      "  ..$ local                   : Factor w/ 1340 levels \"\",\" 4ª sala - Bloco Novo CB);2016;2;2016-07-25;2016-12-17;3T12;20;47;REGULAR;f;2016-12-16 19:46:31.184;f;\\\";40;CON\"| __truncated__,..: 591 935 808 924 924 924 874 874 874 924 ...\n",
      "  ..$ ano                     : Factor w/ 7 levels \"\",\" 4ª sala - Bloco Novo CB);2016;2;2016-07-25;2016-12-17;7M23  6T23;46;40;REGULAR;f;2016-12-08 16:38:03.635;f;\\\";\"| __truncated__,..: 5 5 5 5 5 5 5 5 5 5 ...\n",
      "  ..$ periodo                 : Factor w/ 7 levels \"\",\" 4ª sala - Bloco Novo CB);2016;2;2016-07-25;2016-12-17;7M23  6T23;46;40;REGULAR;f;2016-12-08 16:38:03.635;f;\\\";\"| __truncated__,..: 5 5 5 5 5 5 5 5 5 5 ...\n",
      "  ..$ data_inicio             : Factor w/ 162 levels \"\",\" 1ª sala);2016;2;2016-07-25;2016-12-17;2N12 4N34;20;40;REGULAR;f;2016-12-15 09:28:53.847;f;\\\";70;CONSOLIDADA;\\\"\"| __truncated__,..: 46 32 32 32 32 32 32 32 32 32 ...\n",
      "  ..$ data_fim                : Factor w/ 193 levels \"\",\" 1ª sala);2016;2;2016-07-25;2016-12-17;2N12 4N34;20;40;REGULAR;f;2016-12-15 09:28:53.847;f;\\\";70;CONSOLIDADA;\\\"\"| __truncated__,..: 42 141 141 141 141 141 141 141 141 141 ...\n",
      "  ..$ descricao_horario       : Factor w/ 1514 levels \"\",\" 2ª sala);2016;2;2016-07-25;2016-12-17;246T12;4;46;REGULAR;f;2016-12-16 10:15:42.508;f;\\\";112;CONSOLIDADA;\\\";Pr\"| __truncated__,..: 1444 519 866 836 1391 1240 836 1044 1082 881 ...\n",
      "  ..$ total_solicitacoes      : Factor w/ 126 levels \"\",\" 2ª sala);2016;2;2016-07-25;2016-12-17;246T12;4;46;REGULAR;f;2016-12-16 10:15:42.508;f;\\\";112;CONSOLIDADA;\\\";Pr\"| __truncated__,..: 1 106 95 51 38 6 62 51 6 1 ...\n",
      "  ..$ capacidade_aluno        : Factor w/ 97 levels \"\",\" 2ª sala);2016;2;2016-07-25;2016-12-17;35T34 6T12;38;45;REGULAR;f;2016-12-15 18:05:28.664;f;\\\";124;CONSOLIDADA;\"| __truncated__,..: 61 39 27 38 38 38 50 38 38 38 ...\n",
      "  ..$ tipo                    : Factor w/ 8 levels \"\",\" 4ª sala - Bloco Novo CB);2016;2;2016-07-25;2016-12-17;2N1234;25;35;REGULAR;f;2016-12-07 22:15:54.417;f;\\\";68;C\"| __truncated__,..: 8 8 8 8 8 8 8 8 8 8 ...\n",
      "  ..$ distancia               : Factor w/ 7 levels \"\",\" 4ª sala - Bloco Novo CB);2016;2;2016-07-25;2016-12-17;46N34;20;35;REGULAR;f;2016-11-30 12:24:18.296;f;\\\";66;CO\"| __truncated__,..: 6 6 6 6 6 6 6 6 6 6 ...\n",
      "  ..$ data_consolidacao       : Factor w/ 4853 levels \"\",\" 4ª sala - Bloco Novo CB);2016;2;2016-07-25;2016-12-17;7M45  6N12;47;40;REGULAR;f;2016-12-08 16:49:27.467;f;\\\";\"| __truncated__,..: 44 2720 2354 905 2893 907 630 631 632 909 ...\n",
      "  ..$ agrupadora              : Factor w/ 6 levels \"\",\" 4ª sala - Bloco Novo CB);2016;2;2016-07-25;2016-12-17;5T1234;54;70;REGULAR;f;2016-12-12 15:19:09.793;f;\\\";65;C\"| __truncated__,..: 6 6 6 6 6 6 6 6 6 6 ...\n",
      "  ..$ id_turma_agrupadora     : Factor w/ 164 levels \"\",\" 3ª sala - Bloco Novo CB);2016;2;2016-07-25;2016-12-17;7M45  6N34;2;40;REGULAR;f;2016-12-08 16:53:19.65;f;\\\";68\"| __truncated__,..: 1 1 1 1 1 1 1 1 1 1 ...\n",
      "  ..$ qtd_aulas_lancadas      : Factor w/ 183 levels \"\",\" 3ª sala - Bloco Novo CB);2016;2;2016-07-25;2016-12-17;7M45  6N34;2;40;REGULAR;f;2016-12-08 16:53:19.65;f;\\\";68\"| __truncated__,..: 97 154 104 138 130 135 135 127 127 138 ...\n",
      "  ..$ situacao_turma          : Factor w/ 9 levels \"\",\" 3ª sala - Bloco Novo CB);2016;2;2016-07-25;2016-12-17;2M3456;32;38;REGULAR;f;2016-12-06 09:55:38.86;f;\\\";68;CO\"| __truncated__,..: 7 7 7 7 7 7 7 7 7 7 ...\n",
      "  ..$ convenio                : Factor w/ 5 levels \"\",\" 3ª sala - Bloco Novo CB);2016;2;2016-07-25;2016-12-17;2N1234;27;41;REGULAR;f;2016-12-05 16:22:27.277;f;\\\";68;C\"| __truncated__,..: 1 1 1 1 1 1 1 1 1 1 ...\n",
      "  ..$ modalidade_participantes: Factor w/ 7 levels \"\",\" 3ª sala - Bloco Novo CB);2016;2;2016-07-25;2016-12-17;2N1234;27;41;REGULAR;f;2016-12-05 16:22:27.277;f;\\\";68;C\"| __truncated__,..: 7 7 7 7 7 7 7 7 7 7 ...\n",
      "  ..$ X                       : Factor w/ 5 levels \"\",\" 4ª sala - Bloco Novo CB);2016;2;2016-07-25;2016-12-17;4T1234;32;37;REGULAR;f;2016-12-16 20:48:55.513;f;\\\";72;C\"| __truncated__,..: 1 1 1 1 1 1 1 1 1 1 ...\n",
      " $ :'data.frame':\t12570 obs. of  26 variables:\n",
      "  ..$ id_turma                : Factor w/ 7491 levels \"\",\";61270;STRICTO SENSU;\\\";IMD (lLaboratórios de Informática);2017;1;2017-06-26;2017-06-30;235M123456 4M23456  2T1\"| __truncated__,..: 8 9 10 11 12 13 14 15 16 17 ...\n",
      "  ..$ codigo_turma            : Factor w/ 94 levels \"\",\"01\",\"01A\",..: 2 8 2 2 2 2 8 14 20 2 ...\n",
      "  ..$ id_docente_interno      : Factor w/ 2446 levels \"\",\"1\",\"105189\",..: 772 261 261 1161 1160 500 804 500 392 392 ...\n",
      "  ..$ id_docente_externo      : Factor w/ 215 levels \"\",\"1\",\"100050568\",..: 1 1 1 1 1 1 1 1 1 1 ...\n",
      "  ..$ observacao              : Factor w/ 222 levels \"\",\"(Obrigatória p/ o Mestrado)\\n(Início às 08:30)\\n* Não oferece vagas para aluno especial.\",..: 1 1 1 38 1 1 1 1 18 1 ...\n",
      "  ..$ id_componente_curricular: Factor w/ 4359 levels \"\",\"18647\",\"18651\",..: 3777 3777 3778 20 16 4 4 4 4 13 ...\n",
      "  ..$ nivel_ensino            : Factor w/ 7 levels \"\",\"5T123\",\"FORMAÇÃO COMPLEMENTAR\",..: 7 7 7 7 7 7 7 7 7 7 ...\n",
      "  ..$ campus_turma            : Factor w/ 7 levels \"\",\"3\",\"Campus Caicó\",..: 1 1 1 1 1 1 1 1 1 1 ...\n",
      "  ..$ local                   : Factor w/ 1585 levels \"\",\"---\",\"00\",..: 1069 1069 1069 1072 900 1062 1062 1062 992 992 ...\n",
      "  ..$ ano                     : Factor w/ 7 levels \"\",\" 4E3(6T12);2017;1;2017-02-13;2017-07-01;356T12;26;21;REGULAR;f;2017-07-01 18:19:16.544;f;57599825;110;CONSOLIDA\"| __truncated__,..: 3 3 3 3 3 3 3 3 3 3 ...\n",
      "  ..$ periodo                 : Factor w/ 7 levels \"\",\"1\",\"2017-06-27 00:12:48.088\",..: 2 2 2 2 2 2 2 2 2 2 ...\n",
      "  ..$ data_inicio             : Factor w/ 167 levels \"\",\" 4C6(4T34);2017;1;2017-02-13;2017-07-01;24T34;12;25;REGULAR;f;2017-06-29 12:45:17.617;f;\\\";66;CONSOLIDADA;\\\";Pr\"| __truncated__,..: 23 23 15 15 23 23 23 23 23 23 ...\n",
      "  ..$ data_fim                : Factor w/ 198 levels \"\",\"2016-06-25\",..: 123 123 123 123 137 137 137 137 137 137 ...\n",
      "  ..$ descricao_horario       : Factor w/ 1824 levels \"\",\"1\",\"123456M2345\",..: 589 1263 1076 639 1053 1023 1613 1475 1023 1268 ...\n",
      "  ..$ total_solicitacoes      : Factor w/ 146 levels \"\",\"0\",\"1\",\"10\",..: 1 1 2 2 66 58 58 3 74 3 ...\n",
      "  ..$ capacidade_aluno        : Factor w/ 106 levels \"\",\"1\",\"10\",\"100\",..: 66 66 66 44 30 43 43 43 54 43 ...\n",
      "  ..$ tipo                    : Factor w/ 6 levels \"\",\"2017-07-14\",..: 6 6 6 6 6 6 6 6 6 6 ...\n",
      "  ..$ distancia               : Factor w/ 6 levels \"\",\"0\",\"6T534\",..: 4 4 4 4 4 4 4 4 4 4 ...\n",
      "  ..$ data_consolidacao       : Factor w/ 6823 levels \"\",\"1\",\"12\",\"2017-01-19 09:31:29.739\",..: 4027 4669 1 1 4992 1208 4448 1209 1686 1691 ...\n",
      "  ..$ agrupadora              : Factor w/ 4 levels \"\",\"30\",\"f\",\"REGULAR\": 3 3 3 3 3 3 3 3 3 3 ...\n",
      "  ..$ id_turma_agrupadora     : Factor w/ 223 levels \"\",\"57593711\",..: 1 1 1 1 1 1 1 1 1 1 ...\n",
      "  ..$ qtd_aulas_lancadas      : Factor w/ 199 levels \"\",\"0\",\"1\",\"10\",..: 97 115 1 1 120 153 156 146 153 67 ...\n",
      "  ..$ situacao_turma          : Factor w/ 6 levels \"\",\"ABERTA\",\"CONSOLIDADA\",..: 3 3 4 4 3 3 3 3 3 3 ...\n",
      "  ..$ convenio                : Factor w/ 2 levels \"\",\"f\": 1 1 1 1 1 1 1 1 1 1 ...\n",
      "  ..$ modalidade_participantes: Factor w/ 3 levels \"\",\"A Distância\",..: 3 3 3 3 3 3 3 3 3 3 ...\n",
      "  ..$ X                       : Factor w/ 2 levels \"\",\"EXCLUÍDA\": 1 1 1 1 1 1 1 1 1 1 ...\n",
      " $ :'data.frame':\t7485 obs. of  26 variables:\n",
      "  ..$ id_turma                : Factor w/ 4628 levels \" 07\",\" 4M-SA 11\",..: 27 27 28 29 29 30 31 31 32 32 ...\n",
      "  ..$ codigo_turma            : Factor w/ 79 levels \"\",\" 01, 20, 22, 27 e 29/09\",..: 10 10 10 10 10 10 10 10 10 10 ...\n",
      "  ..$ id_docente_interno      : Factor w/ 1887 levels \"\",\" 04, 06 e 11/10.\",..: 1168 1 1335 1168 793 939 1168 1 1 1168 ...\n",
      "  ..$ id_docente_externo      : Factor w/ 210 levels \"\",\" 09/11-T\",..: 1 77 1 1 1 1 1 105 112 1 ...\n",
      "  ..$ observacao              : Factor w/ 94 levels \"\",\" 13/11-M\",..: 1 1 1 1 1 1 1 1 1 1 ...\n",
      "  ..$ id_componente_curricular: Factor w/ 2759 levels \"\",\" 23/11-T\",..: 2451 2451 2452 2432 2432 2430 2453 2453 2431 2431 ...\n",
      "  ..$ nivel_ensino            : Factor w/ 11 levels \"\",\" 27/11-M e 11/12-M;47124;STRICTO SENSU;\\\";Departamento de Odontologia da UFRN;2017;2;2017-10-26;2017-12-11;2345\"| __truncated__,..: 9 9 9 9 9 9 9 9 9 9 ...\n",
      "  ..$ campus_turma            : Factor w/ 12 levels \"\",\" 3T- SA 11\",..: 1 1 1 1 1 1 1 1 1 1 ...\n",
      "  ..$ local                   : Factor w/ 1175 levels \"\",\" 4M-SA 11\",..: 274 274 273 275 275 273 273 273 275 275 ...\n",
      "  ..$ ano                     : Factor w/ 9 levels \"\",\" 4N12-SALA 4I14;2017;2;2017-07-01;2017-12-31;24N12;16;20;REGULAR;f;\\\";f;\\\";\\\";ABERTA;\\\";Presencial;\\n57603480;0\"| __truncated__,..: 7 7 7 7 7 7 7 7 7 7 ...\n",
      "  ..$ periodo                 : Factor w/ 8 levels \"\",\" 5M-ANFIT;2017;2;2017-07-24;2017-09-18;2345M12345  34T1234 (24/07/2017 - 18/09/2017);26;42;REGULAR;f;\\\";f;\\\";\\\"\"| __truncated__,..: 6 6 6 6 6 6 6 6 6 6 ...\n",
      "  ..$ data_inicio             : Factor w/ 138 levels \"\",\" 3T- SA 11\",..: 59 59 35 109 109 129 21 21 22 22 ...\n",
      "  ..$ data_fim                : Factor w/ 157 levels \"\",\" 4M-SA 11\",..: 35 35 16 95 95 130 11 11 12 12 ...\n",
      "  ..$ descricao_horario       : Factor w/ 1343 levels \"\",\" 3T- SA 11\",..: 15 15 15 15 15 15 1142 1142 15 15 ...\n",
      "  ..$ total_solicitacoes      : Factor w/ 128 levels \"\",\" 4M-SA 11\",..: 1 1 1 1 1 1 1 1 1 1 ...\n",
      "  ..$ capacidade_aluno        : Factor w/ 108 levels \"\",\" 4T SA 11\",..: 107 107 107 107 107 107 105 105 107 107 ...\n",
      "  ..$ tipo                    : Factor w/ 9 levels \"\",\" 5M-ANFIT;2017;2;2017-07-24;2017-09-18;2345M12345  34T1234 (24/07/2017 - 18/09/2017);26;42;REGULAR;f;\\\";f;\\\";\\\"\"| __truncated__,..: 8 8 8 8 8 8 8 8 8 8 ...\n",
      "  ..$ distancia               : Factor w/ 8 levels \"\",\" 3T- SA 11\",..: 6 6 6 6 6 6 6 6 6 6 ...\n",
      "  ..$ data_consolidacao       : Factor w/ 54 levels \"\",\" 4M-SA 11\",..: 50 50 1 1 1 1 52 52 51 51 ...\n",
      "  ..$ agrupadora              : Factor w/ 5 levels \"\",\" 04\",\" 4T SA 11\",..: 5 5 5 5 5 5 5 5 5 5 ...\n",
      "  ..$ id_turma_agrupadora     : Factor w/ 127 levels \"\",\" 07\",\" 5M-ANFIT;2017;2;2017-07-24;2017-09-18;2345M12345  34T1234 (24/07/2017 - 18/09/2017);26;42;REGULAR;f;\\\";f;\\\";\\\"\"| __truncated__,..: 1 1 1 1 1 1 1 1 1 1 ...\n",
      "  ..$ qtd_aulas_lancadas      : Factor w/ 23 levels \"\",\" 13;2017;2;2017-07-24;2017-12-16;5M234 (24/07/2017 - 11/08/2017), 7M234 (12/08/2017 - 12/08/2017), 5M234 (13/08\"| __truncated__,..: 6 6 1 1 1 1 6 6 6 6 ...\n",
      "  ..$ situacao_turma          : Factor w/ 8 levels \"\",\" 04\",\" 4M-SA 11\",..: 5 5 4 4 4 4 5 5 5 5 ...\n",
      "  ..$ convenio                : Factor w/ 5 levels \"\",\" 07\",\" 4T SA 11\",..: 1 1 1 1 1 1 1 1 1 1 ...\n",
      "  ..$ modalidade_participantes: Factor w/ 7 levels \"\",\" 13;2017;2;2017-07-24;2017-12-16;5M234 (24/07/2017 - 11/08/2017), 7M234 (12/08/2017 - 12/08/2017), 5M234 (13/08\"| __truncated__,..: 6 6 6 6 6 6 6 6 6 6 ...\n",
      "  ..$ X                       : Factor w/ 5 levels \"\",\" 04\",\" 3T- SA 11\",..: 1 1 1 1 1 1 1 1 1 1 ...\n"
     ]
    }
   ],
   "source": [
    "str(myfiles)"
   ]
  },
  {
   "cell_type": "code",
   "execution_count": 7,
   "metadata": {},
   "outputs": [],
   "source": [
    "lista <- c(\"id_turma\",\"id_componente_curricular\",\"nivel_ensino\",\"periodo\",\"descricao_horario\",\"tipo\")"
   ]
  },
  {
   "cell_type": "code",
   "execution_count": 8,
   "metadata": {},
   "outputs": [],
   "source": [
    "temp <- lapply(myfiles, FUN = function(x){x[, lista]})"
   ]
  },
  {
   "cell_type": "code",
   "execution_count": 9,
   "metadata": {},
   "outputs": [],
   "source": [
    "turmas <- do.call(rbind, temp)"
   ]
  },
  {
   "cell_type": "code",
   "execution_count": 10,
   "metadata": {},
   "outputs": [
    {
     "name": "stdout",
     "output_type": "stream",
     "text": [
      "'data.frame':\t150563 obs. of  6 variables:\n",
      " $ id_turma                : chr  \"1151160\" \"1151161\" \"1151162\" \"1151163\" ...\n",
      " $ id_componente_curricular: chr  \"24054\" \"24061\" \"25843\" \"41598\" ...\n",
      " $ nivel_ensino            : Factor w/ 29 levels \"GRADUAÇÃO\",\"LATO SENSU\",..: 1 1 1 3 2 2 2 2 2 2 ...\n",
      " $ periodo                 : chr  \"1\" \"1\" \"1\" \"1\" ...\n",
      " $ descricao_horario       : Factor w/ 12064 levels \"\",\"167M2345  67T3456\",..: 454 995 450 801 798 798 833 920 798 798 ...\n",
      " $ tipo                    : Factor w/ 25 levels \"ENSINO INDIVIDUAL\",..: 2 2 2 2 2 2 2 2 2 2 ...\n"
     ]
    },
    {
     "data": {
      "text/html": [
       "<table>\n",
       "<thead><tr><th scope=col>id_turma</th><th scope=col>id_componente_curricular</th><th scope=col>nivel_ensino</th><th scope=col>periodo</th><th scope=col>descricao_horario</th><th scope=col>tipo</th></tr></thead>\n",
       "<tbody>\n",
       "\t<tr><td>1151160                  </td><td>24054                    </td><td>GRADUAÇÃO                </td><td>1                        </td><td>35T12                    </td><td>REGULAR                  </td></tr>\n",
       "\t<tr><td>1151161                  </td><td>24061                    </td><td>GRADUAÇÃO                </td><td>1                        </td><td>6T56  5N34               </td><td>REGULAR                  </td></tr>\n",
       "\t<tr><td>1151162                  </td><td>25843                    </td><td>GRADUAÇÃO                </td><td>1                        </td><td>35N34                    </td><td>REGULAR                  </td></tr>\n",
       "\t<tr><td>1151163                  </td><td>41598                    </td><td>STRICTO SENSU            </td><td>1                        </td><td>567T6                    </td><td>REGULAR                  </td></tr>\n",
       "\t<tr><td>1151164                  </td><td>2055814                  </td><td>LATO SENSU               </td><td>1                        </td><td>567M2345  4567T3456  4N34</td><td>REGULAR                  </td></tr>\n",
       "\t<tr><td>1151168                  </td><td>2055655                  </td><td>LATO SENSU               </td><td>1                        </td><td>567M2345  4567T3456  4N34</td><td>REGULAR                  </td></tr>\n",
       "</tbody>\n",
       "</table>\n"
      ],
      "text/latex": [
       "\\begin{tabular}{r|llllll}\n",
       " id\\_turma & id\\_componente\\_curricular & nivel\\_ensino & periodo & descricao\\_horario & tipo\\\\\n",
       "\\hline\n",
       "\t 1151160                   & 24054                     & GRADUAÇÃO                 & 1                         & 35T12                     & REGULAR                  \\\\\n",
       "\t 1151161                   & 24061                     & GRADUAÇÃO                 & 1                         & 6T56  5N34                & REGULAR                  \\\\\n",
       "\t 1151162                   & 25843                     & GRADUAÇÃO                 & 1                         & 35N34                     & REGULAR                  \\\\\n",
       "\t 1151163                   & 41598                     & STRICTO SENSU             & 1                         & 567T6                     & REGULAR                  \\\\\n",
       "\t 1151164                   & 2055814                   & LATO SENSU                & 1                         & 567M2345  4567T3456  4N34 & REGULAR                  \\\\\n",
       "\t 1151168                   & 2055655                   & LATO SENSU                & 1                         & 567M2345  4567T3456  4N34 & REGULAR                  \\\\\n",
       "\\end{tabular}\n"
      ],
      "text/markdown": [
       "\n",
       "id_turma | id_componente_curricular | nivel_ensino | periodo | descricao_horario | tipo | \n",
       "|---|---|---|---|---|---|\n",
       "| 1151160                   | 24054                     | GRADUAÇÃO                 | 1                         | 35T12                     | REGULAR                   | \n",
       "| 1151161                   | 24061                     | GRADUAÇÃO                 | 1                         | 6T56  5N34                | REGULAR                   | \n",
       "| 1151162                   | 25843                     | GRADUAÇÃO                 | 1                         | 35N34                     | REGULAR                   | \n",
       "| 1151163                   | 41598                     | STRICTO SENSU             | 1                         | 567T6                     | REGULAR                   | \n",
       "| 1151164                   | 2055814                   | LATO SENSU                | 1                         | 567M2345  4567T3456  4N34 | REGULAR                   | \n",
       "| 1151168                   | 2055655                   | LATO SENSU                | 1                         | 567M2345  4567T3456  4N34 | REGULAR                   | \n",
       "\n",
       "\n"
      ],
      "text/plain": [
       "  id_turma id_componente_curricular nivel_ensino  periodo\n",
       "1 1151160  24054                    GRADUAÇÃO     1      \n",
       "2 1151161  24061                    GRADUAÇÃO     1      \n",
       "3 1151162  25843                    GRADUAÇÃO     1      \n",
       "4 1151163  41598                    STRICTO SENSU 1      \n",
       "5 1151164  2055814                  LATO SENSU    1      \n",
       "6 1151168  2055655                  LATO SENSU    1      \n",
       "  descricao_horario         tipo   \n",
       "1 35T12                     REGULAR\n",
       "2 6T56  5N34                REGULAR\n",
       "3 35N34                     REGULAR\n",
       "4 567T6                     REGULAR\n",
       "5 567M2345  4567T3456  4N34 REGULAR\n",
       "6 567M2345  4567T3456  4N34 REGULAR"
      ]
     },
     "metadata": {},
     "output_type": "display_data"
    }
   ],
   "source": [
    "str(turmas)\n",
    "head(turmas)"
   ]
  },
  {
   "cell_type": "code",
   "execution_count": 11,
   "metadata": {},
   "outputs": [
    {
     "name": "stderr",
     "output_type": "stream",
     "text": [
      "Warning message in eval(expr, envir, enclos):\n",
      "“NAs introduced by coercion”Warning message in eval(expr, envir, enclos):\n",
      "“NAs introduced by coercion”Warning message in eval(expr, envir, enclos):\n",
      "“NAs introduced by coercion”"
     ]
    }
   ],
   "source": [
    "turmas$id_turma <- as.numeric(turmas$id_turma)\n",
    "turmas$id_componente_curricular <- as.numeric(turmas$id_componente_curricular)\n",
    "turmas$periodo <- as.numeric(turmas$periodo)"
   ]
  },
  {
   "cell_type": "code",
   "execution_count": 12,
   "metadata": {},
   "outputs": [
    {
     "data": {
      "text/plain": [
       "    id_turma        id_componente_curricular                nivel_ensino   \n",
       " Min.   :       2   Min.   :      2          GRADUAÇÃO            :121342  \n",
       " 1st Qu.: 1184765   1st Qu.:  27148          STRICTO SENSU        : 17844  \n",
       " Median : 1219827   Median :  46967          TÉCNICO              :  6588  \n",
       " Mean   :20069662   Mean   : 465304          LATO SENSU           :  3569  \n",
       " 3rd Qu.:57564092   3rd Qu.:  61214          FORMAÇÃO COMPLEMENTAR:   626  \n",
       " Max.   :57612859   Max.   :2056265          RESIDÊNCIA           :   462  \n",
       " NA's   :118        NA's   :127              (Other)              :   132  \n",
       "    periodo         descricao_horario                           tipo       \n",
       " Min.   :   1.000          : 18097    REGULAR                     :148575  \n",
       " 1st Qu.:   1.000   35N12  :  1945    ENSINO INDIVIDUAL           :  1824  \n",
       " Median :   1.000   35M34  :  1724                                :   121  \n",
       " Mean   :   1.508   35T56  :  1524    REPOSIÇÃO NO PERÍODO REGULAR:    19  \n",
       " 3rd Qu.:   2.000   35N34  :  1459    Presencial                  :     3  \n",
       " Max.   :2017.000   35M12  :  1440    f                           :     2  \n",
       " NA's   :140        (Other):124374    (Other)                     :    19  "
      ]
     },
     "metadata": {},
     "output_type": "display_data"
    }
   ],
   "source": [
    "summary(turmas)"
   ]
  },
  {
   "cell_type": "code",
   "execution_count": 13,
   "metadata": {},
   "outputs": [],
   "source": [
    "# convertendo todas as entras nulas em valores NA\n",
    "\n",
    "turmas$tipo[turmas$tipo == \"\"] <- NA\n",
    "turmas$nivel_ensino[turmas$nivel_ensino == \"\"] <- NA\n",
    "turmas$descricao_horario[turmas$descricao_horario == \"\"] <- NA"
   ]
  },
  {
   "cell_type": "code",
   "execution_count": 14,
   "metadata": {},
   "outputs": [],
   "source": [
    "# calcular as porcentagens de valores nulos conforme a sumarização acima e o total de entradas\n",
    "total <- nrow(turmas)\n",
    "nulo_idturma <- sum(is.na(turmas$id_turma))\n",
    "nulo_idcomponente <- sum(is.na(turmas$id_componente_curricular))\n",
    "nulo_nivel <- sum(is.na(turmas$nivel_ensino))\n",
    "nulo_periodo <- sum(is.na(turmas$periodo))\n",
    "nulo_horario <- sum(is.na(turmas$descricao_horario))\n",
    "nulo_tipo <- sum(is.na(turmas$tipo))"
   ]
  },
  {
   "cell_type": "code",
   "execution_count": 15,
   "metadata": {},
   "outputs": [
    {
     "data": {
      "text/html": [
       "'0.08% para IdTurma'"
      ],
      "text/latex": [
       "'0.08\\% para IdTurma'"
      ],
      "text/markdown": [
       "'0.08% para IdTurma'"
      ],
      "text/plain": [
       "[1] \"0.08% para IdTurma\""
      ]
     },
     "metadata": {},
     "output_type": "display_data"
    },
    {
     "data": {
      "text/html": [
       "'0.08% para IdComponente'"
      ],
      "text/latex": [
       "'0.08\\% para IdComponente'"
      ],
      "text/markdown": [
       "'0.08% para IdComponente'"
      ],
      "text/plain": [
       "[1] \"0.08% para IdComponente\""
      ]
     },
     "metadata": {},
     "output_type": "display_data"
    },
    {
     "data": {
      "text/html": [
       "'0.07% para Nível Ensino'"
      ],
      "text/latex": [
       "'0.07\\% para Nível Ensino'"
      ],
      "text/markdown": [
       "'0.07% para Nível Ensino'"
      ],
      "text/plain": [
       "[1] \"0.07% para Nível Ensino\""
      ]
     },
     "metadata": {},
     "output_type": "display_data"
    },
    {
     "data": {
      "text/html": [
       "'0.09% para Período'"
      ],
      "text/latex": [
       "'0.09\\% para Período'"
      ],
      "text/markdown": [
       "'0.09% para Período'"
      ],
      "text/plain": [
       "[1] \"0.09% para Período\""
      ]
     },
     "metadata": {},
     "output_type": "display_data"
    },
    {
     "data": {
      "text/html": [
       "'12.02% para Horário'"
      ],
      "text/latex": [
       "'12.02\\% para Horário'"
      ],
      "text/markdown": [
       "'12.02% para Horário'"
      ],
      "text/plain": [
       "[1] \"12.02% para Horário\""
      ]
     },
     "metadata": {},
     "output_type": "display_data"
    },
    {
     "data": {
      "text/html": [
       "'0.08% para Tipo'"
      ],
      "text/latex": [
       "'0.08\\% para Tipo'"
      ],
      "text/markdown": [
       "'0.08% para Tipo'"
      ],
      "text/plain": [
       "[1] \"0.08% para Tipo\""
      ]
     },
     "metadata": {},
     "output_type": "display_data"
    }
   ],
   "source": [
    "sprintf(\"%.2f%% para IdTurma\", (nulo_idturma/total)*100)\n",
    "sprintf(\"%.2f%% para IdComponente\", (nulo_idcomponente/total)*100)\n",
    "sprintf(\"%.2f%% para Nível Ensino\", (nulo_nivel/total)*100)\n",
    "sprintf(\"%.2f%% para Período\", (nulo_periodo/total)*100)\n",
    "sprintf(\"%.2f%% para Horário\", (nulo_horario/total)*100)\n",
    "sprintf(\"%.2f%% para Tipo\", (nulo_tipo/total)*100)"
   ]
  },
  {
   "cell_type": "code",
   "execution_count": 16,
   "metadata": {},
   "outputs": [],
   "source": [
    "# removendo todos os valores NAs do dataset\n",
    "\n",
    "reduced <- turmas[complete.cases(turmas), ]"
   ]
  },
  {
   "cell_type": "code",
   "execution_count": 17,
   "metadata": {},
   "outputs": [],
   "source": [
    "reduced <- subset(reduced, nivel_ensino == \"GRADUAÇÃO\")\n",
    "reduced <- droplevels(reduced)"
   ]
  },
  {
   "cell_type": "code",
   "execution_count": 18,
   "metadata": {},
   "outputs": [
    {
     "data": {
      "text/plain": [
       "    id_turma        id_componente_curricular    nivel_ensino       periodo     \n",
       " Min.   : 1151160   Min.   :  20001          GRADUAÇÃO:104612   Min.   :1.000  \n",
       " 1st Qu.: 1187866   1st Qu.:  25706                             1st Qu.:1.000  \n",
       " Median : 1222440   Median :  48498                             Median :1.000  \n",
       " Mean   :20248351   Mean   : 468971                             Mean   :1.495  \n",
       " 3rd Qu.:57565429   3rd Qu.:  61213                             3rd Qu.:2.000  \n",
       " Max.   :57612405   Max.   :2056212                             Max.   :2.000  \n",
       "                                                                               \n",
       " descricao_horario                           tipo       \n",
       " 35N12  : 1922     ENSINO INDIVIDUAL           :   852  \n",
       " 35M34  : 1649     REGULAR                     :103754  \n",
       " 35N34  : 1451     REPOSIÇÃO NO PERÍODO REGULAR:     6  \n",
       " 35T56  : 1389                                          \n",
       " 35M12  : 1377                                          \n",
       " 24N12  : 1237                                          \n",
       " (Other):95587                                          "
      ]
     },
     "metadata": {},
     "output_type": "display_data"
    }
   ],
   "source": [
    "summary(reduced)"
   ]
  },
  {
   "cell_type": "markdown",
   "metadata": {},
   "source": [
    "## 3. Exportando os Resultados"
   ]
  },
  {
   "cell_type": "code",
   "execution_count": 24,
   "metadata": {},
   "outputs": [],
   "source": [
    "# salvando o dataset em CSV para facilitar trabalhos futuros\n",
    "setwd(path_save)\n",
    "\n",
    "write.csv(reduced, \"turmas.csv\", row.names=FALSE)"
   ]
  },
  {
   "cell_type": "markdown",
   "metadata": {},
   "source": []
  },
  {
   "cell_type": "markdown",
   "metadata": {},
   "source": [
    "### 3.1. Exportando apenas as Turmas "
   ]
  },
  {
   "cell_type": "code",
   "execution_count": 19,
   "metadata": {},
   "outputs": [],
   "source": [
    "lst_turmas <- data.frame(\"IdTurmas\" = reduced$id_turma)"
   ]
  },
  {
   "cell_type": "code",
   "execution_count": 20,
   "metadata": {},
   "outputs": [
    {
     "name": "stdout",
     "output_type": "stream",
     "text": [
      "'data.frame':\t104612 obs. of  1 variable:\n",
      " $ IdTurmas: num  1151160 1151161 1151162 1151178 1151178 ...\n"
     ]
    }
   ],
   "source": [
    "str(lst_turmas)"
   ]
  },
  {
   "cell_type": "code",
   "execution_count": 21,
   "metadata": {},
   "outputs": [
    {
     "data": {
      "text/html": [
       "<table>\n",
       "<thead><tr><th scope=col>IdTurmas</th></tr></thead>\n",
       "<tbody>\n",
       "\t<tr><td>1151160</td></tr>\n",
       "\t<tr><td>1151161</td></tr>\n",
       "\t<tr><td>1151162</td></tr>\n",
       "\t<tr><td>1151178</td></tr>\n",
       "\t<tr><td>1151178</td></tr>\n",
       "\t<tr><td>1151179</td></tr>\n",
       "</tbody>\n",
       "</table>\n"
      ],
      "text/latex": [
       "\\begin{tabular}{r|l}\n",
       " IdTurmas\\\\\n",
       "\\hline\n",
       "\t 1151160\\\\\n",
       "\t 1151161\\\\\n",
       "\t 1151162\\\\\n",
       "\t 1151178\\\\\n",
       "\t 1151178\\\\\n",
       "\t 1151179\\\\\n",
       "\\end{tabular}\n"
      ],
      "text/markdown": [
       "\n",
       "IdTurmas | \n",
       "|---|---|---|---|---|---|\n",
       "| 1151160 | \n",
       "| 1151161 | \n",
       "| 1151162 | \n",
       "| 1151178 | \n",
       "| 1151178 | \n",
       "| 1151179 | \n",
       "\n",
       "\n"
      ],
      "text/plain": [
       "  IdTurmas\n",
       "1 1151160 \n",
       "2 1151161 \n",
       "3 1151162 \n",
       "4 1151178 \n",
       "5 1151178 \n",
       "6 1151179 "
      ]
     },
     "metadata": {},
     "output_type": "display_data"
    }
   ],
   "source": [
    "head(lst_turmas)"
   ]
  },
  {
   "cell_type": "code",
   "execution_count": 22,
   "metadata": {},
   "outputs": [],
   "source": [
    "setwd(path_save)\n",
    "\n",
    "write.csv(lst_turmas, \"lst_turmas.csv\", row.names=FALSE)"
   ]
  },
  {
   "cell_type": "code",
   "execution_count": null,
   "metadata": {},
   "outputs": [],
   "source": []
  },
  {
   "cell_type": "code",
   "execution_count": null,
   "metadata": {},
   "outputs": [],
   "source": []
  }
 ],
 "metadata": {
  "kernelspec": {
   "display_name": "R",
   "language": "R",
   "name": "ir"
  },
  "language_info": {
   "codemirror_mode": "r",
   "file_extension": ".r",
   "mimetype": "text/x-r-source",
   "name": "R",
   "pygments_lexer": "r",
   "version": "3.4.2"
  }
 },
 "nbformat": 4,
 "nbformat_minor": 2
}
