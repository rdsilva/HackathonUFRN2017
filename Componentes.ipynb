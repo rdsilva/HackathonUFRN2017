{
 "cells": [
  {
   "cell_type": "markdown",
   "metadata": {},
   "source": [
    "# Objetivo\n",
    "\n",
    "O objetivo deste notebook é avaliar os dados disponíveis no [Portal de Dados Abertos da UFRN](http://dados.ufrn.br/) no grupo `Componentes Curriculares`.\n",
    "\n",
    "Assim sendo, a avaliação é apenas quanti-qualitativa para descobrirmos o que podemos extrair a favor do nosso projeto."
   ]
  },
  {
   "cell_type": "markdown",
   "metadata": {},
   "source": [
    "## 1. Bibliotecas"
   ]
  },
  {
   "cell_type": "code",
   "execution_count": 1,
   "metadata": {},
   "outputs": [
    {
     "name": "stderr",
     "output_type": "stream",
     "text": [
      "\n",
      "Attaching package: ‘dplyr’\n",
      "\n",
      "The following objects are masked from ‘package:stats’:\n",
      "\n",
      "    filter, lag\n",
      "\n",
      "The following objects are masked from ‘package:base’:\n",
      "\n",
      "    intersect, setdiff, setequal, union\n",
      "\n",
      "\n",
      "Attaching package: ‘gridExtra’\n",
      "\n",
      "The following object is masked from ‘package:dplyr’:\n",
      "\n",
      "    combine\n",
      "\n"
     ]
    }
   ],
   "source": [
    "library(\"dplyr\")\n",
    "library(ggplot2)\n",
    "library(gridExtra)"
   ]
  },
  {
   "cell_type": "markdown",
   "metadata": {},
   "source": [
    "## 2. Dados"
   ]
  },
  {
   "cell_type": "code",
   "execution_count": 4,
   "metadata": {},
   "outputs": [],
   "source": [
    "path_data <- \"/Users/rsilva/Documents/UFRN/Hackathon/UFRN\\ Dados/curriculo\"\n",
    "path_save <- \"/Users/rsilva/Documents/UFRN/Hackathon/Resultados\""
   ]
  },
  {
   "cell_type": "code",
   "execution_count": 5,
   "metadata": {},
   "outputs": [],
   "source": [
    "setwd(path_data)\n",
    "\n",
    "# abrindo o documento de componente curricular\n",
    "componentes <- read.csv2(\"componentes-curriculares-presenciais.csv\", header=T)\n",
    "\n",
    "# abrindo o documento de curriculo\n",
    "curriculo <- read.csv2(\"curriculo-componente-graduacao.csv\",header=T)"
   ]
  },
  {
   "cell_type": "code",
   "execution_count": 6,
   "metadata": {},
   "outputs": [],
   "source": [
    "reduced_curriculo <- subset(curriculo, select=c(\"id_curriculo_componente\", \n",
    "                                                \"id_componente_curricular\",\n",
    "                                                \"semestre_oferta\",\n",
    "                                                \"tipo_vinculo_componente\",\n",
    "                                                \"nivel_ensino\"))\n",
    "\n",
    "reduced_componente <- subset(componentes, select=c(\"id_componente\",\n",
    "                                                   \"nome\",\n",
    "                                                   \"unidade_responsavel\",\n",
    "                                                   \"ch_total\"))\n"
   ]
  },
  {
   "cell_type": "code",
   "execution_count": 7,
   "metadata": {},
   "outputs": [],
   "source": [
    "names(reduced_curriculo)[2] <- \"id_componente\""
   ]
  },
  {
   "cell_type": "code",
   "execution_count": 9,
   "metadata": {},
   "outputs": [
    {
     "data": {
      "text/html": [
       "69615"
      ],
      "text/latex": [
       "69615"
      ],
      "text/markdown": [
       "69615"
      ],
      "text/plain": [
       "[1] 69615"
      ]
     },
     "metadata": {},
     "output_type": "display_data"
    },
    {
     "data": {
      "text/html": [
       "33796"
      ],
      "text/latex": [
       "33796"
      ],
      "text/markdown": [
       "33796"
      ],
      "text/plain": [
       "[1] 33796"
      ]
     },
     "metadata": {},
     "output_type": "display_data"
    }
   ],
   "source": [
    "nrow(reduced_curriculo)\n",
    "nrow(reduced_componente)"
   ]
  },
  {
   "cell_type": "code",
   "execution_count": 11,
   "metadata": {},
   "outputs": [],
   "source": [
    "reduced <- merge(reduced_curriculo, reduced_componente, by=\"id_componente\", all.x = TRUE)"
   ]
  },
  {
   "cell_type": "code",
   "execution_count": 12,
   "metadata": {},
   "outputs": [
    {
     "name": "stdout",
     "output_type": "stream",
     "text": [
      "'data.frame':\t69615 obs. of  8 variables:\n",
      " $ id_componente          : int  20000 20000 20000 20000 20001 20001 20001 20002 20003 20003 ...\n",
      " $ id_curriculo_componente: int  105680 105677 105678 105679 104850 104848 104849 125003 107690 107680 ...\n",
      " $ semestre_oferta        : int  10 10 10 10 4 4 4 3 6 9 ...\n",
      " $ tipo_vinculo_componente: Factor w/ 3 levels \"COMPLEMENTAR\",..: 2 2 2 2 2 2 2 2 3 2 ...\n",
      " $ nivel_ensino           : Factor w/ 1 level \"GRADUAÇÃO\": 1 1 1 1 1 1 1 1 1 1 ...\n",
      " $ nome                   : Factor w/ 22290 levels \"\",\"  TEORIAS DA APRENDIZAGEM E ENSINO DE LÍNGUA PORTUGUESA\",..: NA NA NA NA 11857 11857 11857 16094 1339 1339 ...\n",
      " $ unidade_responsavel    : Factor w/ 306 levels \"CB - COORDENAÇÃO DO CURSO DE CIÊNCIAS BIOLÓGICAS - LICENCIATURA\",..: NA NA NA NA 87 87 87 15 84 84 ...\n",
      " $ ch_total               : int  NA NA NA NA 60 60 60 90 60 60 ...\n"
     ]
    }
   ],
   "source": [
    "str(reduced)"
   ]
  },
  {
   "cell_type": "code",
   "execution_count": 13,
   "metadata": {},
   "outputs": [],
   "source": [
    "names(reduced)[2] <- \"id_curriculo\""
   ]
  },
  {
   "cell_type": "code",
   "execution_count": 14,
   "metadata": {},
   "outputs": [
    {
     "data": {
      "text/plain": [
       " id_componente      id_curriculo       semestre_oferta  tipo_vinculo_componente\n",
       " Min.   :  20000   Min.   :   100851   Min.   : 0.000   COMPLEMENTAR:   85     \n",
       " 1st Qu.:  23306   1st Qu.:   119770   1st Qu.: 0.000   OBRIGATÓRIO :35593     \n",
       " Median :  25885   Median :   137611   Median : 3.000   OPTATIVO    :33937     \n",
       " Mean   : 251021   Mean   : 35673980   Mean   : 3.476                          \n",
       " 3rd Qu.:  45530   3rd Qu.: 86566946   3rd Qu.: 6.000                          \n",
       " Max.   :2056212   Max.   :421273697   Max.   :13.000                          \n",
       "                                                                               \n",
       "    nivel_ensino                               nome      \n",
       " GRADUAÇÃO:69615   EDUCACAO FISICA I             :  469  \n",
       "                   EDUCACAO FISICA II            :  464  \n",
       "                   ESTUDO DE PROB BRASILEIROS I  :  416  \n",
       "                   ESTUDOS DE PROB BRASILEIROS II:  413  \n",
       "                   ENADE - INGRESSANTE           :  355  \n",
       "                   (Other)                       :65871  \n",
       "                   NA's                          : 1627  \n",
       "                               unidade_responsavel    ch_total     \n",
       " DEPARTAMENTO DE LETRAS                  : 6775    Min.   :  0.00  \n",
       " DEPARTAMENTO DE EDUCAÇÃO                : 5948    1st Qu.: 60.00  \n",
       " ESCOLA DE CIÊNCIAS E TECNOLOGIA         : 2362    Median : 60.00  \n",
       " DEPARTAMENTO DE PSICOLOGIA              : 2242    Mean   : 62.72  \n",
       " DEPARTAMENTO DE CIÊNCIAS ADMINISTRATIVAS: 1988    3rd Qu.: 60.00  \n",
       " (Other)                                 :48673    Max.   :900.00  \n",
       " NA's                                    : 1627    NA's   :1627    "
      ]
     },
     "metadata": {},
     "output_type": "display_data"
    }
   ],
   "source": [
    "summary(reduced)"
   ]
  },
  {
   "cell_type": "code",
   "execution_count": 16,
   "metadata": {},
   "outputs": [],
   "source": [
    "# calcular as porcentagens de valores nulos conforme a sumarização acima e o total de entradas\n",
    "total <- nrow(reduced)\n",
    "nulo_nome <- sum(is.na(reduced$nome))\n",
    "nulo_unidade <- sum(is.na(reduced$unidade_responsavel))\n",
    "nulo_ch <- sum(is.na(reduced$ch_total))"
   ]
  },
  {
   "cell_type": "code",
   "execution_count": 17,
   "metadata": {},
   "outputs": [
    {
     "data": {
      "text/html": [
       "'2.34% para Nome'"
      ],
      "text/latex": [
       "'2.34\\% para Nome'"
      ],
      "text/markdown": [
       "'2.34% para Nome'"
      ],
      "text/plain": [
       "[1] \"2.34% para Nome\""
      ]
     },
     "metadata": {},
     "output_type": "display_data"
    },
    {
     "data": {
      "text/html": [
       "'2.34% para Unidade Responsável'"
      ],
      "text/latex": [
       "'2.34\\% para Unidade Responsável'"
      ],
      "text/markdown": [
       "'2.34% para Unidade Responsável'"
      ],
      "text/plain": [
       "[1] \"2.34% para Unidade Responsável\""
      ]
     },
     "metadata": {},
     "output_type": "display_data"
    },
    {
     "data": {
      "text/html": [
       "'2.34% para Ch Total'"
      ],
      "text/latex": [
       "'2.34\\% para Ch Total'"
      ],
      "text/markdown": [
       "'2.34% para Ch Total'"
      ],
      "text/plain": [
       "[1] \"2.34% para Ch Total\""
      ]
     },
     "metadata": {},
     "output_type": "display_data"
    }
   ],
   "source": [
    "sprintf(\"%.2f%% para Nome\", (nulo_nome/total)*100)\n",
    "sprintf(\"%.2f%% para Unidade Responsável\", (nulo_unidade/total)*100)\n",
    "sprintf(\"%.2f%% para Ch Total\", (nulo_ch/total)*100)"
   ]
  },
  {
   "cell_type": "code",
   "execution_count": 18,
   "metadata": {},
   "outputs": [],
   "source": [
    "# removendo todos os valores NAs do dataset\n",
    "\n",
    "reduced <- reduced[complete.cases(reduced), ]\n",
    "reduced <- droplevels(reduced)"
   ]
  },
  {
   "cell_type": "code",
   "execution_count": null,
   "metadata": {},
   "outputs": [],
   "source": []
  },
  {
   "cell_type": "markdown",
   "metadata": {},
   "source": [
    "## 3. Exportando os Resultados"
   ]
  },
  {
   "cell_type": "code",
   "execution_count": 19,
   "metadata": {},
   "outputs": [],
   "source": [
    "# salvando o dataset em CSV para facilitar trabalhos futuros\n",
    "setwd(path_save)\n",
    "\n",
    "write.csv(reduced, \"componentes.csv\", row.names=FALSE)"
   ]
  },
  {
   "cell_type": "code",
   "execution_count": null,
   "metadata": {},
   "outputs": [],
   "source": []
  }
 ],
 "metadata": {
  "kernelspec": {
   "display_name": "R",
   "language": "R",
   "name": "ir"
  },
  "language_info": {
   "codemirror_mode": "r",
   "file_extension": ".r",
   "mimetype": "text/x-r-source",
   "name": "R",
   "pygments_lexer": "r",
   "version": "3.4.2"
  }
 },
 "nbformat": 4,
 "nbformat_minor": 2
}
